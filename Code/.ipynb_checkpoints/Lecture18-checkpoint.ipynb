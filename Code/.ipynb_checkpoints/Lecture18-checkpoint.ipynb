{
 "cells": [
  {
   "cell_type": "code",
   "execution_count": 1,
   "metadata": {
    "collapsed": true
   },
   "outputs": [],
   "source": [
    "import pandas as pd\n",
    "import numpy as np"
   ]
  },
  {
   "cell_type": "markdown",
   "metadata": {},
   "source": [
    "#### We are using our Spam/Ham Dataset. This time we are applying few different models and use VotingClassifier to classify outputs."
   ]
  },
  {
   "cell_type": "code",
   "execution_count": 2,
   "metadata": {
    "collapsed": false
   },
   "outputs": [
    {
     "data": {
      "text/plain": [
       "4601"
      ]
     },
     "execution_count": 2,
     "metadata": {},
     "output_type": "execute_result"
    }
   ],
   "source": [
    "url = \"https://raw.githubusercontent.com/ga-students/SF-DAT-20/master/Data/spambase.csv\"\n",
    "SpamData = pd.read_csv(url)\n",
    "SpamData.head()\n",
    "len(SpamData)"
   ]
  },
  {
   "cell_type": "code",
   "execution_count": 3,
   "metadata": {
    "collapsed": true
   },
   "outputs": [],
   "source": [
    "ListOfAllVariables = SpamData.columns.values\n",
    "X = SpamData[ListOfAllVariables]\n",
    "del X['is_spam']\n",
    "y = SpamData['is_spam']"
   ]
  },
  {
   "cell_type": "code",
   "execution_count": 4,
   "metadata": {
    "collapsed": true
   },
   "outputs": [],
   "source": [
    "from sklearn import cross_validation\n",
    "from sklearn.linear_model import LogisticRegression\n",
    "from sklearn.naive_bayes import GaussianNB,BernoulliNB,MultinomialNB\n",
    "from sklearn.ensemble import RandomForestClassifier\n",
    "from sklearn.ensemble import VotingClassifier  #VotingClassifier is part of sklearn.ensemble"
   ]
  },
  {
   "cell_type": "code",
   "execution_count": 5,
   "metadata": {
    "collapsed": false
   },
   "outputs": [],
   "source": [
    "clf1 = LogisticRegression()\n",
    "clf2 = RandomForestClassifier(max_depth=5, n_estimators = 1000)\n",
    "clf3 = BernoulliNB()\n",
    "clf4 = MultinomialNB()\n",
    "clf5 = GaussianNB()"
   ]
  },
  {
   "cell_type": "code",
   "execution_count": 6,
   "metadata": {
    "collapsed": false
   },
   "outputs": [],
   "source": [
    "eclf = VotingClassifier(estimators=[('lr', clf1), ('rf', clf2), ('bnb', clf3),('mnb',clf4),('gnb',clf5)], voting='hard')"
   ]
  },
  {
   "cell_type": "markdown",
   "metadata": {},
   "source": [
    "#### When voting is set to 'hard', then the outcome will simply becomes the majority vote. i.e., if 3 classifiers predict class 1 and 2 classifiers predict class 2, majority vote is class 1. "
   ]
  },
  {
   "cell_type": "code",
   "execution_count": 7,
   "metadata": {
    "collapsed": false
   },
   "outputs": [
    {
     "name": "stdout",
     "output_type": "stream",
     "text": [
      "0.912391909726\n",
      "0.918253684137\n",
      "0.880428497671\n",
      "0.781969260361\n",
      "0.825647242022\n",
      "0.924336394537\n"
     ]
    }
   ],
   "source": [
    "for clf in [clf1,clf2,clf3,clf4,clf5,eclf]:\n",
    "    scores = cross_validation.cross_val_score(clf, X, y, cv=5, scoring='accuracy')\n",
    "    print scores.mean()\n"
   ]
  },
  {
   "cell_type": "code",
   "execution_count": 8,
   "metadata": {
    "collapsed": false
   },
   "outputs": [
    {
     "name": "stdout",
     "output_type": "stream",
     "text": [
      "0.912391909726\n",
      "0.919776133951\n",
      "0.880428497671\n",
      "0.781969260361\n",
      "0.825647242022\n",
      "0.916071734489\n"
     ]
    }
   ],
   "source": [
    "eclf = VotingClassifier(estimators=[('lr', clf1), ('rf', clf2), ('bnb', clf3),('mnb',clf4),('gnb',clf5)], voting='soft')\n",
    "for clf in [clf1,clf2,clf3,clf4,clf5,eclf]:\n",
    "    scores = cross_validation.cross_val_score(clf, X, y, cv=5, scoring='accuracy')\n",
    "    print scores.mean()"
   ]
  },
  {
   "cell_type": "markdown",
   "metadata": {},
   "source": [
    "#### When voting is set to 'soft', then the outcome will be picked based on predictions on probabilities. For instance, imagine classifier 1 and 2 predict 49% for class 1 and 51% for class 2. Also, assume classifier 3 predicts 90% probability for class 1 and 10% for class 2. In 'soft' voting method, the prediction is class 1. However, if we were using 'hard' method, then our prediction would be class 2."
   ]
  },
  {
   "cell_type": "markdown",
   "metadata": {},
   "source": [
    "# Using the VotingClassifier with GridSearch"
   ]
  },
  {
   "cell_type": "code",
   "execution_count": 10,
   "metadata": {
    "collapsed": false
   },
   "outputs": [],
   "source": [
    "from sklearn.grid_search import GridSearchCV\n",
    "clf1 = LogisticRegression()\n",
    "clf2 = RandomForestClassifier()\n",
    "clf3 = BernoulliNB()\n",
    "eclf = VotingClassifier(estimators=[('lr', clf1), ('rf', clf2), ('bnb', clf3)],voting='hard')\n",
    "params = {'lr__C': [0.1,1,10],\n",
    "          'rf__n_estimators':[1000],\n",
    "          'rf__max_depth':[2,5,10],\n",
    "          'bnb__alpha':[0.1,0.5,1]}\n",
    "grid = GridSearchCV(estimator=eclf, param_grid=params, cv=5)\n",
    "gridfit = grid.fit(X, y)"
   ]
  },
  {
   "cell_type": "code",
   "execution_count": 11,
   "metadata": {
    "collapsed": false
   },
   "outputs": [
    {
     "name": "stdout",
     "output_type": "stream",
     "text": [
      "{'bnb__alpha': 0.1, 'rf__max_depth': 10, 'rf__n_estimators': 1000, 'lr__C': 10}\n"
     ]
    }
   ],
   "source": [
    "print gridfit.best_params_"
   ]
  },
  {
   "cell_type": "code",
   "execution_count": 12,
   "metadata": {
    "collapsed": false
   },
   "outputs": [
    {
     "name": "stdout",
     "output_type": "stream",
     "text": [
      "[mean: 0.90502, std: 0.02864, params: {'bnb__alpha': 0.1, 'rf__max_depth': 2, 'rf__n_estimators': 1000, 'lr__C': 0.1}, mean: 0.91915, std: 0.03682, params: {'bnb__alpha': 0.1, 'rf__max_depth': 5, 'rf__n_estimators': 1000, 'lr__C': 0.1}, mean: 0.92023, std: 0.04006, params: {'bnb__alpha': 0.1, 'rf__max_depth': 10, 'rf__n_estimators': 1000, 'lr__C': 0.1}, mean: 0.90589, std: 0.03054, params: {'bnb__alpha': 0.1, 'rf__max_depth': 2, 'rf__n_estimators': 1000, 'lr__C': 1}, mean: 0.92110, std: 0.03885, params: {'bnb__alpha': 0.1, 'rf__max_depth': 5, 'rf__n_estimators': 1000, 'lr__C': 1}, mean: 0.92263, std: 0.04123, params: {'bnb__alpha': 0.1, 'rf__max_depth': 10, 'rf__n_estimators': 1000, 'lr__C': 1}, mean: 0.90676, std: 0.03107, params: {'bnb__alpha': 0.1, 'rf__max_depth': 2, 'rf__n_estimators': 1000, 'lr__C': 10}, mean: 0.92132, std: 0.03890, params: {'bnb__alpha': 0.1, 'rf__max_depth': 5, 'rf__n_estimators': 1000, 'lr__C': 10}, mean: 0.92436, std: 0.04105, params: {'bnb__alpha': 0.1, 'rf__max_depth': 10, 'rf__n_estimators': 1000, 'lr__C': 10}, mean: 0.90567, std: 0.02847, params: {'bnb__alpha': 0.5, 'rf__max_depth': 2, 'rf__n_estimators': 1000, 'lr__C': 0.1}, mean: 0.91980, std: 0.03716, params: {'bnb__alpha': 0.5, 'rf__max_depth': 5, 'rf__n_estimators': 1000, 'lr__C': 0.1}, mean: 0.92197, std: 0.03875, params: {'bnb__alpha': 0.5, 'rf__max_depth': 10, 'rf__n_estimators': 1000, 'lr__C': 0.1}, mean: 0.90567, std: 0.02990, params: {'bnb__alpha': 0.5, 'rf__max_depth': 2, 'rf__n_estimators': 1000, 'lr__C': 1}, mean: 0.92154, std: 0.03910, params: {'bnb__alpha': 0.5, 'rf__max_depth': 5, 'rf__n_estimators': 1000, 'lr__C': 1}, mean: 0.92263, std: 0.04125, params: {'bnb__alpha': 0.5, 'rf__max_depth': 10, 'rf__n_estimators': 1000, 'lr__C': 1}, mean: 0.90719, std: 0.03099, params: {'bnb__alpha': 0.5, 'rf__max_depth': 2, 'rf__n_estimators': 1000, 'lr__C': 10}, mean: 0.92132, std: 0.04011, params: {'bnb__alpha': 0.5, 'rf__max_depth': 5, 'rf__n_estimators': 1000, 'lr__C': 10}, mean: 0.92415, std: 0.04215, params: {'bnb__alpha': 0.5, 'rf__max_depth': 10, 'rf__n_estimators': 1000, 'lr__C': 10}, mean: 0.90546, std: 0.02897, params: {'bnb__alpha': 1, 'rf__max_depth': 2, 'rf__n_estimators': 1000, 'lr__C': 0.1}, mean: 0.91958, std: 0.03710, params: {'bnb__alpha': 1, 'rf__max_depth': 5, 'rf__n_estimators': 1000, 'lr__C': 0.1}, mean: 0.92023, std: 0.03994, params: {'bnb__alpha': 1, 'rf__max_depth': 10, 'rf__n_estimators': 1000, 'lr__C': 0.1}, mean: 0.90567, std: 0.03050, params: {'bnb__alpha': 1, 'rf__max_depth': 2, 'rf__n_estimators': 1000, 'lr__C': 1}, mean: 0.92023, std: 0.03941, params: {'bnb__alpha': 1, 'rf__max_depth': 5, 'rf__n_estimators': 1000, 'lr__C': 1}, mean: 0.92284, std: 0.04136, params: {'bnb__alpha': 1, 'rf__max_depth': 10, 'rf__n_estimators': 1000, 'lr__C': 1}, mean: 0.90654, std: 0.03175, params: {'bnb__alpha': 1, 'rf__max_depth': 2, 'rf__n_estimators': 1000, 'lr__C': 10}, mean: 0.92219, std: 0.03954, params: {'bnb__alpha': 1, 'rf__max_depth': 5, 'rf__n_estimators': 1000, 'lr__C': 10}, mean: 0.92393, std: 0.04141, params: {'bnb__alpha': 1, 'rf__max_depth': 10, 'rf__n_estimators': 1000, 'lr__C': 10}]\n",
      "0.924364268637\n"
     ]
    }
   ],
   "source": [
    "print gridfit.grid_scores_\n",
    "print gridfit.best_score_"
   ]
  },
  {
   "cell_type": "code",
   "execution_count": null,
   "metadata": {
    "collapsed": true
   },
   "outputs": [],
   "source": []
  }
 ],
 "metadata": {
  "kernelspec": {
   "display_name": "Python 2",
   "language": "python",
   "name": "python2"
  },
  "language_info": {
   "codemirror_mode": {
    "name": "ipython",
    "version": 2
   },
   "file_extension": ".py",
   "mimetype": "text/x-python",
   "name": "python",
   "nbconvert_exporter": "python",
   "pygments_lexer": "ipython2",
   "version": "2.7.11"
  }
 },
 "nbformat": 4,
 "nbformat_minor": 0
}
