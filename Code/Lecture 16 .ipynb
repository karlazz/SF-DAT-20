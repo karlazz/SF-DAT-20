{
 "cells": [
  {
   "cell_type": "markdown",
   "metadata": {},
   "source": [
    "# Workshop #1: Introduction to sqlite and SQL  "
   ]
  },
  {
   "cell_type": "code",
   "execution_count": 1,
   "metadata": {
    "collapsed": false
   },
   "outputs": [],
   "source": [
    "import pandas as pd\n",
    "import numpy as np\n",
    "import matplotlib.pyplot as plt\n",
    "%matplotlib inline\n",
    "from pandas.io import sql\n",
    "import sqlite3"
   ]
  },
  {
   "cell_type": "markdown",
   "metadata": {},
   "source": [
    "### Setup"
   ]
  },
  {
   "cell_type": "code",
   "execution_count": 3,
   "metadata": {
    "collapsed": false
   },
   "outputs": [
    {
     "data": {
      "text/html": [
       "<div>\n",
       "<table border=\"1\" class=\"dataframe\">\n",
       "  <thead>\n",
       "    <tr style=\"text-align: right;\">\n",
       "      <th></th>\n",
       "      <th>customerid</th>\n",
       "      <th>datecreated</th>\n",
       "      <th>source</th>\n",
       "      <th>mailinglist</th>\n",
       "      <th>testgroup</th>\n",
       "      <th>orgid</th>\n",
       "      <th>parentid</th>\n",
       "    </tr>\n",
       "  </thead>\n",
       "  <tbody>\n",
       "    <tr>\n",
       "      <th>0</th>\n",
       "      <td>3861</td>\n",
       "      <td>1338425007</td>\n",
       "      <td>ORG_INVITE</td>\n",
       "      <td>0</td>\n",
       "      <td>0</td>\n",
       "      <td>115</td>\n",
       "      <td>3861</td>\n",
       "    </tr>\n",
       "    <tr>\n",
       "      <th>1</th>\n",
       "      <td>11430</td>\n",
       "      <td>1338428551</td>\n",
       "      <td>ORG_INVITE</td>\n",
       "      <td>0</td>\n",
       "      <td>0</td>\n",
       "      <td>239</td>\n",
       "      <td>5677</td>\n",
       "    </tr>\n",
       "    <tr>\n",
       "      <th>2</th>\n",
       "      <td>7170</td>\n",
       "      <td>1338445431</td>\n",
       "      <td>ORG_INVITE</td>\n",
       "      <td>0</td>\n",
       "      <td>0</td>\n",
       "      <td>145</td>\n",
       "      <td>7170</td>\n",
       "    </tr>\n",
       "    <tr>\n",
       "      <th>3</th>\n",
       "      <td>10012</td>\n",
       "      <td>1338452406</td>\n",
       "      <td>ORG_INVITE</td>\n",
       "      <td>0</td>\n",
       "      <td>1</td>\n",
       "      <td>225</td>\n",
       "      <td>7104</td>\n",
       "    </tr>\n",
       "    <tr>\n",
       "      <th>4</th>\n",
       "      <td>11999</td>\n",
       "      <td>1338465359</td>\n",
       "      <td>PERSONAL_PROJECTS</td>\n",
       "      <td>0</td>\n",
       "      <td>0</td>\n",
       "      <td>6</td>\n",
       "      <td>NULL</td>\n",
       "    </tr>\n",
       "  </tbody>\n",
       "</table>\n",
       "</div>"
      ],
      "text/plain": [
       "   customerid  datecreated                source  mailinglist  testgroup  \\\n",
       "0        3861   1338425007   ORG_INVITE                     0          0   \n",
       "1       11430   1338428551   ORG_INVITE                     0          0   \n",
       "2        7170   1338445431   ORG_INVITE                     0          0   \n",
       "3       10012   1338452406   ORG_INVITE                     0          1   \n",
       "4       11999   1338465359   PERSONAL_PROJECTS              0          0   \n",
       "\n",
       "   orgid              parentid  \n",
       "0    115                  3861  \n",
       "1    239                  5677  \n",
       "2    145                  7170  \n",
       "3    225                  7104  \n",
       "4      6                 NULL   "
      ]
     },
     "execution_count": 3,
     "metadata": {},
     "output_type": "execute_result"
    }
   ],
   "source": [
    "#The data has information about when users for fictional company signed up and other metadata about them.\n",
    "users = pd.read_csv('users.csv', low_memory=False)\n",
    "users.head()"
   ]
  },
  {
   "cell_type": "code",
   "execution_count": 4,
   "metadata": {
    "collapsed": false
   },
   "outputs": [
    {
     "data": {
      "text/html": [
       "<div>\n",
       "<table border=\"1\" class=\"dataframe\">\n",
       "  <thead>\n",
       "    <tr style=\"text-align: right;\">\n",
       "      <th></th>\n",
       "      <th>customerid</th>\n",
       "      <th>datecreated</th>\n",
       "      <th>mailinglist</th>\n",
       "      <th>testgroup</th>\n",
       "      <th>orgid</th>\n",
       "    </tr>\n",
       "  </thead>\n",
       "  <tbody>\n",
       "    <tr>\n",
       "      <th>count</th>\n",
       "      <td>10000.000000</td>\n",
       "      <td>1.000000e+04</td>\n",
       "      <td>10000.000000</td>\n",
       "      <td>10000.000000</td>\n",
       "      <td>10000.000000</td>\n",
       "    </tr>\n",
       "    <tr>\n",
       "      <th>mean</th>\n",
       "      <td>5993.940500</td>\n",
       "      <td>1.369038e+09</td>\n",
       "      <td>0.248600</td>\n",
       "      <td>0.148600</td>\n",
       "      <td>140.790800</td>\n",
       "    </tr>\n",
       "    <tr>\n",
       "      <th>std</th>\n",
       "      <td>3472.166221</td>\n",
       "      <td>1.652621e+07</td>\n",
       "      <td>0.432223</td>\n",
       "      <td>0.355712</td>\n",
       "      <td>123.952119</td>\n",
       "    </tr>\n",
       "    <tr>\n",
       "      <th>min</th>\n",
       "      <td>2.000000</td>\n",
       "      <td>1.338425e+09</td>\n",
       "      <td>0.000000</td>\n",
       "      <td>0.000000</td>\n",
       "      <td>0.000000</td>\n",
       "    </tr>\n",
       "    <tr>\n",
       "      <th>25%</th>\n",
       "      <td>2978.750000</td>\n",
       "      <td>1.354994e+09</td>\n",
       "      <td>0.000000</td>\n",
       "      <td>0.000000</td>\n",
       "      <td>28.000000</td>\n",
       "    </tr>\n",
       "    <tr>\n",
       "      <th>50%</th>\n",
       "      <td>5985.500000</td>\n",
       "      <td>1.369930e+09</td>\n",
       "      <td>0.000000</td>\n",
       "      <td>0.000000</td>\n",
       "      <td>106.000000</td>\n",
       "    </tr>\n",
       "    <tr>\n",
       "      <th>75%</th>\n",
       "      <td>9002.250000</td>\n",
       "      <td>1.383639e+09</td>\n",
       "      <td>0.000000</td>\n",
       "      <td>0.000000</td>\n",
       "      <td>236.000000</td>\n",
       "    </tr>\n",
       "    <tr>\n",
       "      <th>max</th>\n",
       "      <td>12000.000000</td>\n",
       "      <td>1.395233e+09</td>\n",
       "      <td>1.000000</td>\n",
       "      <td>1.000000</td>\n",
       "      <td>416.000000</td>\n",
       "    </tr>\n",
       "  </tbody>\n",
       "</table>\n",
       "</div>"
      ],
      "text/plain": [
       "         customerid   datecreated   mailinglist     testgroup         orgid\n",
       "count  10000.000000  1.000000e+04  10000.000000  10000.000000  10000.000000\n",
       "mean    5993.940500  1.369038e+09      0.248600      0.148600    140.790800\n",
       "std     3472.166221  1.652621e+07      0.432223      0.355712    123.952119\n",
       "min        2.000000  1.338425e+09      0.000000      0.000000      0.000000\n",
       "25%     2978.750000  1.354994e+09      0.000000      0.000000     28.000000\n",
       "50%     5985.500000  1.369930e+09      0.000000      0.000000    106.000000\n",
       "75%     9002.250000  1.383639e+09      0.000000      0.000000    236.000000\n",
       "max    12000.000000  1.395233e+09      1.000000      1.000000    416.000000"
      ]
     },
     "execution_count": 4,
     "metadata": {},
     "output_type": "execute_result"
    }
   ],
   "source": [
    "users.describe()"
   ]
  },
  {
   "cell_type": "code",
   "execution_count": 5,
   "metadata": {
    "collapsed": true
   },
   "outputs": [],
   "source": [
    "conn = sqlite3.connect('lesson-16.db', detect_types=sqlite3.PARSE_DECLTYPES)"
   ]
  },
  {
   "cell_type": "code",
   "execution_count": 6,
   "metadata": {
    "collapsed": false
   },
   "outputs": [],
   "source": [
    "#Put data into the eliflo DB\n",
    "users.to_sql('users',\n",
    "            con=conn,\n",
    "            if_exists='replace',\n",
    "            index=False)"
   ]
  },
  {
   "cell_type": "code",
   "execution_count": 9,
   "metadata": {
    "collapsed": false
   },
   "outputs": [
    {
     "data": {
      "text/html": [
       "<div>\n",
       "<table border=\"1\" class=\"dataframe\">\n",
       "  <thead>\n",
       "    <tr style=\"text-align: right;\">\n",
       "      <th></th>\n",
       "      <th>customerid</th>\n",
       "      <th>datecreated</th>\n",
       "      <th>source</th>\n",
       "      <th>mailinglist</th>\n",
       "      <th>testgroup</th>\n",
       "      <th>orgid</th>\n",
       "      <th>parentid</th>\n",
       "    </tr>\n",
       "  </thead>\n",
       "  <tbody>\n",
       "    <tr>\n",
       "      <th>0</th>\n",
       "      <td>3861</td>\n",
       "      <td>1338425007</td>\n",
       "      <td>ORG_INVITE</td>\n",
       "      <td>0</td>\n",
       "      <td>0</td>\n",
       "      <td>115</td>\n",
       "      <td>3861</td>\n",
       "    </tr>\n",
       "    <tr>\n",
       "      <th>1</th>\n",
       "      <td>11430</td>\n",
       "      <td>1338428551</td>\n",
       "      <td>ORG_INVITE</td>\n",
       "      <td>0</td>\n",
       "      <td>0</td>\n",
       "      <td>239</td>\n",
       "      <td>5677</td>\n",
       "    </tr>\n",
       "    <tr>\n",
       "      <th>2</th>\n",
       "      <td>7170</td>\n",
       "      <td>1338445431</td>\n",
       "      <td>ORG_INVITE</td>\n",
       "      <td>0</td>\n",
       "      <td>0</td>\n",
       "      <td>145</td>\n",
       "      <td>7170</td>\n",
       "    </tr>\n",
       "    <tr>\n",
       "      <th>3</th>\n",
       "      <td>10012</td>\n",
       "      <td>1338452406</td>\n",
       "      <td>ORG_INVITE</td>\n",
       "      <td>0</td>\n",
       "      <td>1</td>\n",
       "      <td>225</td>\n",
       "      <td>7104</td>\n",
       "    </tr>\n",
       "    <tr>\n",
       "      <th>4</th>\n",
       "      <td>11999</td>\n",
       "      <td>1338465359</td>\n",
       "      <td>PERSONAL_PROJECTS</td>\n",
       "      <td>0</td>\n",
       "      <td>0</td>\n",
       "      <td>6</td>\n",
       "      <td>NULL</td>\n",
       "    </tr>\n",
       "  </tbody>\n",
       "</table>\n",
       "</div>"
      ],
      "text/plain": [
       "   customerid  datecreated                source  mailinglist  testgroup  \\\n",
       "0        3861   1338425007   ORG_INVITE                     0          0   \n",
       "1       11430   1338428551   ORG_INVITE                     0          0   \n",
       "2        7170   1338445431   ORG_INVITE                     0          0   \n",
       "3       10012   1338452406   ORG_INVITE                     0          1   \n",
       "4       11999   1338465359   PERSONAL_PROJECTS              0          0   \n",
       "\n",
       "   orgid              parentid  \n",
       "0    115                  3861  \n",
       "1    239                  5677  \n",
       "2    145                  7170  \n",
       "3    225                  7104  \n",
       "4      6                 NULL   "
      ]
     },
     "execution_count": 9,
     "metadata": {},
     "output_type": "execute_result"
    }
   ],
   "source": [
    "#Our first query in python sqlite!  What does * mean?\n",
    "#Who knows the HelloWorld of SQL?\n",
    "a=sql.read_sql('''\n",
    "select * from users limit 5;\n",
    "\n",
    "''', con=conn)\n",
    "a\n",
    "#Question - Given a new data set in SQL, what are ways you start categorizing a data set?  \n",
    "#What is the equivalent of df.describe?"
   ]
  },
  {
   "cell_type": "code",
   "execution_count": 10,
   "metadata": {
    "collapsed": false
   },
   "outputs": [
    {
     "data": {
      "text/html": [
       "<div>\n",
       "<table border=\"1\" class=\"dataframe\">\n",
       "  <thead>\n",
       "    <tr style=\"text-align: right;\">\n",
       "      <th></th>\n",
       "      <th>name</th>\n",
       "    </tr>\n",
       "  </thead>\n",
       "  <tbody>\n",
       "    <tr>\n",
       "      <th>0</th>\n",
       "      <td>users</td>\n",
       "    </tr>\n",
       "  </tbody>\n",
       "</table>\n",
       "</div>"
      ],
      "text/plain": [
       "    name\n",
       "0  users"
      ]
     },
     "execution_count": 10,
     "metadata": {},
     "output_type": "execute_result"
    }
   ],
   "source": [
    "#See what tables currently exist in your database.\n",
    "a=sql.read_sql('''\n",
    "SELECT name FROM sqlite_master WHERE type = \"table\";\n",
    "''', con=conn)\n",
    "a"
   ]
  },
  {
   "cell_type": "markdown",
   "metadata": {},
   "source": [
    "### Count, Sum, Average"
   ]
  },
  {
   "cell_type": "code",
   "execution_count": null,
   "metadata": {
    "collapsed": false
   },
   "outputs": [],
   "source": [
    "#Examples of count, sum and average functions\n",
    "a=sql.read_sql('''\n",
    "select  \n",
    "    count(*)  as num_of_rows,\n",
    "    count(distinct(customerid))  as distinct_customers,\n",
    "    sum(mailinglist) as num_mailing,\n",
    "    avg(mailinglist) as mailing_probability\n",
    "from \n",
    "    users ;\n",
    "''', con=conn)\n",
    "a"
   ]
  },
  {
   "cell_type": "markdown",
   "metadata": {},
   "source": [
    "How many distinct users (parentid) invited a customer?"
   ]
  },
  {
   "cell_type": "code",
   "execution_count": 11,
   "metadata": {
    "collapsed": false
   },
   "outputs": [
    {
     "data": {
      "text/html": [
       "<div>\n",
       "<table border=\"1\" class=\"dataframe\">\n",
       "  <thead>\n",
       "    <tr style=\"text-align: right;\">\n",
       "      <th></th>\n",
       "      <th>num_of_rows</th>\n",
       "      <th>distinct_customers</th>\n",
       "    </tr>\n",
       "  </thead>\n",
       "  <tbody>\n",
       "    <tr>\n",
       "      <th>0</th>\n",
       "      <td>10000</td>\n",
       "      <td>2360</td>\n",
       "    </tr>\n",
       "  </tbody>\n",
       "</table>\n",
       "</div>"
      ],
      "text/plain": [
       "   num_of_rows  distinct_customers\n",
       "0        10000                2360"
      ]
     },
     "execution_count": 11,
     "metadata": {},
     "output_type": "execute_result"
    }
   ],
   "source": [
    "a=sql.read_sql('''\n",
    "select  \n",
    "    count(*)  as num_of_rows,\n",
    "    count(distinct(parentid))  as distinct_customers\n",
    "from \n",
    "    users ;\n",
    "''', con=conn)\n",
    "a"
   ]
  },
  {
   "cell_type": "markdown",
   "metadata": {},
   "source": [
    "### Unix Time"
   ]
  },
  {
   "cell_type": "code",
   "execution_count": 12,
   "metadata": {
    "collapsed": false
   },
   "outputs": [
    {
     "data": {
      "text/html": [
       "<div>\n",
       "<table border=\"1\" class=\"dataframe\">\n",
       "  <thead>\n",
       "    <tr style=\"text-align: right;\">\n",
       "      <th></th>\n",
       "      <th>strftime('%s','1970-01-02')</th>\n",
       "    </tr>\n",
       "  </thead>\n",
       "  <tbody>\n",
       "    <tr>\n",
       "      <th>0</th>\n",
       "      <td>86400</td>\n",
       "    </tr>\n",
       "  </tbody>\n",
       "</table>\n",
       "</div>"
      ],
      "text/plain": [
       "  strftime('%s','1970-01-02')\n",
       "0                       86400"
      ]
     },
     "execution_count": 12,
     "metadata": {},
     "output_type": "execute_result"
    }
   ],
   "source": [
    "a=sql.read_sql('''\n",
    "select  \n",
    "    strftime('%s','1970-01-02');\n",
    "''', con=conn)\n",
    "a\n",
    "#How many seconds in a day, year?"
   ]
  },
  {
   "cell_type": "markdown",
   "metadata": {},
   "source": [
    "### Min, Max"
   ]
  },
  {
   "cell_type": "code",
   "execution_count": null,
   "metadata": {
    "collapsed": false
   },
   "outputs": [],
   "source": [
    "#use min, max and date to compute date range.\n",
    "#Date functionality is very useful!\n",
    "a=sql.read_sql('''\n",
    "select  \n",
    "    date(min(datecreated), 'unixepoch') as start_date, \n",
    "    date(max(datecreated), 'unixepoch') as end_date\n",
    "from \n",
    "    users ;\n",
    "''', con=conn)\n",
    "a"
   ]
  },
  {
   "cell_type": "markdown",
   "metadata": {},
   "source": [
    "### Case"
   ]
  },
  {
   "cell_type": "code",
   "execution_count": null,
   "metadata": {
    "collapsed": false
   },
   "outputs": [],
   "source": [
    "#Example of using case \n",
    "a=sql.read_sql('''\n",
    "select  \n",
    "    sum(case when mailinglist = 1 then 1 else 0 end) as mailing_true,\n",
    "    sum(case when mailinglist = 0 then 1 else 0 end) as mailing_false,\n",
    "    sum(case when mailinglist not in (0, 1) then 1 else 0 end) as mailing_other\n",
    "from \n",
    "    users ;\n",
    "''', con=conn)\n",
    "a"
   ]
  },
  {
   "cell_type": "markdown",
   "metadata": {},
   "source": [
    "Use case to measure how many customers were invited by someone"
   ]
  },
  {
   "cell_type": "code",
   "execution_count": 14,
   "metadata": {
    "collapsed": false
   },
   "outputs": [
    {
     "data": {
      "text/html": [
       "<div>\n",
       "<table border=\"1\" class=\"dataframe\">\n",
       "  <thead>\n",
       "    <tr style=\"text-align: right;\">\n",
       "      <th></th>\n",
       "      <th>invited_true</th>\n",
       "    </tr>\n",
       "  </thead>\n",
       "  <tbody>\n",
       "    <tr>\n",
       "      <th>0</th>\n",
       "      <td>5334</td>\n",
       "    </tr>\n",
       "  </tbody>\n",
       "</table>\n",
       "</div>"
      ],
      "text/plain": [
       "   invited_true\n",
       "0          5334"
      ]
     },
     "execution_count": 14,
     "metadata": {},
     "output_type": "execute_result"
    }
   ],
   "source": [
    "a=sql.read_sql('''\n",
    "select  \n",
    "    sum(case when parentid > 0 then 1 else 0 end) as invited_true\n",
    "from \n",
    "    users ;\n",
    "''', con=conn)\n",
    "a"
   ]
  },
  {
   "cell_type": "markdown",
   "metadata": {},
   "source": [
    "### Group By"
   ]
  },
  {
   "cell_type": "code",
   "execution_count": 15,
   "metadata": {
    "collapsed": false
   },
   "outputs": [
    {
     "data": {
      "text/plain": [
       "<matplotlib.axes._subplots.AxesSubplot at 0x10e153850>"
      ]
     },
     "execution_count": 15,
     "metadata": {},
     "output_type": "execute_result"
    },
    {
     "data": {
      "image/png": "[encoded data removed]",
      "text/plain": [
       "<matplotlib.figure.Figure at 0x10dd24b50>"
      ]
     },
     "metadata": {},
     "output_type": "display_data"
    }
   ],
   "source": [
    "#Show signups per day\n",
    "a=sql.read_sql('''\n",
    "select \n",
    "    substr(date(datecreated, 'unixepoch'), 1, 7) as day_created, \n",
    "    count(*) as new_users \n",
    "from \n",
    "    users \n",
    "group by 1\n",
    "''', con=conn)\n",
    "a.set_index('day_created', inplace=True)\n",
    "a.plot()"
   ]
  },
  {
   "cell_type": "markdown",
   "metadata": {},
   "source": [
    "How many users came through each source?"
   ]
  },
  {
   "cell_type": "code",
   "execution_count": 16,
   "metadata": {
    "collapsed": false
   },
   "outputs": [
    {
     "data": {
      "text/html": [
       "<div>\n",
       "<table border=\"1\" class=\"dataframe\">\n",
       "  <thead>\n",
       "    <tr style=\"text-align: right;\">\n",
       "      <th></th>\n",
       "      <th>source</th>\n",
       "      <th>new_users</th>\n",
       "    </tr>\n",
       "  </thead>\n",
       "  <tbody>\n",
       "    <tr>\n",
       "      <th>0</th>\n",
       "      <td>ORG_INVITE</td>\n",
       "      <td>3535</td>\n",
       "    </tr>\n",
       "    <tr>\n",
       "      <th>1</th>\n",
       "      <td>GUEST_INVITE</td>\n",
       "      <td>1799</td>\n",
       "    </tr>\n",
       "    <tr>\n",
       "      <th>2</th>\n",
       "      <td>PERSONAL_PROJECTS</td>\n",
       "      <td>1790</td>\n",
       "    </tr>\n",
       "    <tr>\n",
       "      <th>3</th>\n",
       "      <td>SIGNUP</td>\n",
       "      <td>1735</td>\n",
       "    </tr>\n",
       "    <tr>\n",
       "      <th>4</th>\n",
       "      <td>SIGNUP_GOOGLE_AUTH</td>\n",
       "      <td>1141</td>\n",
       "    </tr>\n",
       "  </tbody>\n",
       "</table>\n",
       "</div>"
      ],
      "text/plain": [
       "                 source  new_users\n",
       "0   ORG_INVITE                3535\n",
       "1   GUEST_INVITE              1799\n",
       "2   PERSONAL_PROJECTS         1790\n",
       "3   SIGNUP                    1735\n",
       "4   SIGNUP_GOOGLE_AUTH        1141"
      ]
     },
     "execution_count": 16,
     "metadata": {},
     "output_type": "execute_result"
    }
   ],
   "source": [
    "#What are the most popular sources that users came from?\n",
    "a=sql.read_sql('''\n",
    "select \n",
    "    source, \n",
    "    count(*) as new_users \n",
    "from \n",
    "    users \n",
    "group by 1 \n",
    "order by 2 desc;\n",
    "''', con=conn)\n",
    "a"
   ]
  },
  {
   "cell_type": "markdown",
   "metadata": {},
   "source": [
    "### Modulo"
   ]
  },
  {
   "cell_type": "code",
   "execution_count": 17,
   "metadata": {
    "collapsed": false
   },
   "outputs": [
    {
     "data": {
      "text/html": [
       "<div>\n",
       "<table border=\"1\" class=\"dataframe\">\n",
       "  <thead>\n",
       "    <tr style=\"text-align: right;\">\n",
       "      <th></th>\n",
       "      <th>customerid % 4</th>\n",
       "      <th>new_users</th>\n",
       "    </tr>\n",
       "  </thead>\n",
       "  <tbody>\n",
       "    <tr>\n",
       "      <th>0</th>\n",
       "      <td>0</td>\n",
       "      <td>2493</td>\n",
       "    </tr>\n",
       "    <tr>\n",
       "      <th>1</th>\n",
       "      <td>1</td>\n",
       "      <td>2524</td>\n",
       "    </tr>\n",
       "    <tr>\n",
       "      <th>2</th>\n",
       "      <td>2</td>\n",
       "      <td>2464</td>\n",
       "    </tr>\n",
       "    <tr>\n",
       "      <th>3</th>\n",
       "      <td>3</td>\n",
       "      <td>2519</td>\n",
       "    </tr>\n",
       "  </tbody>\n",
       "</table>\n",
       "</div>"
      ],
      "text/plain": [
       "   customerid % 4  new_users\n",
       "0               0       2493\n",
       "1               1       2524\n",
       "2               2       2464\n",
       "3               3       2519"
      ]
     },
     "execution_count": 17,
     "metadata": {},
     "output_type": "execute_result"
    }
   ],
   "source": [
    "#Bucketing users.  Good for experiments!\n",
    "a=sql.read_sql('''\n",
    "select \n",
    "    customerid % 4, \n",
    "    count(*) as new_users \n",
    "from \n",
    "    users \n",
    "group by 1\n",
    "''', con=conn)\n",
    "a"
   ]
  },
  {
   "cell_type": "markdown",
   "metadata": {},
   "source": [
    "# Workshop #2: Growth Analytics with Master Fact "
   ]
  },
  {
   "cell_type": "code",
   "execution_count": 19,
   "metadata": {
    "collapsed": false
   },
   "outputs": [
    {
     "data": {
      "text/html": [
       "<div>\n",
       "<table border=\"1\" class=\"dataframe\">\n",
       "  <thead>\n",
       "    <tr style=\"text-align: right;\">\n",
       "      <th></th>\n",
       "      <th>customerid</th>\n",
       "      <th>timestamp</th>\n",
       "      <th>eventtype</th>\n",
       "    </tr>\n",
       "  </thead>\n",
       "  <tbody>\n",
       "    <tr>\n",
       "      <th>0</th>\n",
       "      <td>10012</td>\n",
       "      <td>1338452406</td>\n",
       "      <td>login</td>\n",
       "    </tr>\n",
       "    <tr>\n",
       "      <th>1</th>\n",
       "      <td>3428</td>\n",
       "      <td>1338479256</td>\n",
       "      <td>login</td>\n",
       "    </tr>\n",
       "    <tr>\n",
       "      <th>2</th>\n",
       "      <td>9899</td>\n",
       "      <td>1338484777</td>\n",
       "      <td>login</td>\n",
       "    </tr>\n",
       "    <tr>\n",
       "      <th>3</th>\n",
       "      <td>1693</td>\n",
       "      <td>1338501513</td>\n",
       "      <td>login</td>\n",
       "    </tr>\n",
       "    <tr>\n",
       "      <th>4</th>\n",
       "      <td>6102</td>\n",
       "      <td>1338509850</td>\n",
       "      <td>login</td>\n",
       "    </tr>\n",
       "  </tbody>\n",
       "</table>\n",
       "</div>"
      ],
      "text/plain": [
       "   customerid   timestamp eventtype\n",
       "0       10012  1338452406     login\n",
       "1        3428  1338479256     login\n",
       "2        9899  1338484777     login\n",
       "3        1693  1338501513     login\n",
       "4        6102  1338509850     login"
      ]
     },
     "execution_count": 19,
     "metadata": {},
     "output_type": "execute_result"
    }
   ],
   "source": [
    "#Get data about these users subsequent activity\n",
    "activity = pd.read_csv('activity.csv', low_memory=False)\n",
    "activity.head()"
   ]
  },
  {
   "cell_type": "code",
   "execution_count": 20,
   "metadata": {
    "collapsed": false
   },
   "outputs": [],
   "source": [
    "#Convert activity to sqlite\n",
    "activity.to_sql('master_fact',\n",
    "            con=conn,\n",
    "            if_exists='replace',\n",
    "            index=False)"
   ]
  },
  {
   "cell_type": "markdown",
   "metadata": {},
   "source": [
    "### Subquery"
   ]
  },
  {
   "cell_type": "code",
   "execution_count": 31,
   "metadata": {
    "collapsed": false
   },
   "outputs": [
    {
     "data": {
      "text/html": [
       "<div>\n",
       "<table border=\"1\" class=\"dataframe\">\n",
       "  <thead>\n",
       "    <tr style=\"text-align: right;\">\n",
       "      <th></th>\n",
       "      <th>visits</th>\n",
       "      <th>customers</th>\n",
       "    </tr>\n",
       "  </thead>\n",
       "  <tbody>\n",
       "    <tr>\n",
       "      <th>0</th>\n",
       "      <td>1</td>\n",
       "      <td>5178</td>\n",
       "    </tr>\n",
       "    <tr>\n",
       "      <th>1</th>\n",
       "      <td>2</td>\n",
       "      <td>279</td>\n",
       "    </tr>\n",
       "    <tr>\n",
       "      <th>2</th>\n",
       "      <td>3</td>\n",
       "      <td>193</td>\n",
       "    </tr>\n",
       "    <tr>\n",
       "      <th>3</th>\n",
       "      <td>4</td>\n",
       "      <td>155</td>\n",
       "    </tr>\n",
       "    <tr>\n",
       "      <th>4</th>\n",
       "      <td>5</td>\n",
       "      <td>78</td>\n",
       "    </tr>\n",
       "    <tr>\n",
       "      <th>5</th>\n",
       "      <td>6</td>\n",
       "      <td>67</td>\n",
       "    </tr>\n",
       "    <tr>\n",
       "      <th>6</th>\n",
       "      <td>7</td>\n",
       "      <td>50</td>\n",
       "    </tr>\n",
       "    <tr>\n",
       "      <th>7</th>\n",
       "      <td>8</td>\n",
       "      <td>43</td>\n",
       "    </tr>\n",
       "    <tr>\n",
       "      <th>8</th>\n",
       "      <td>9</td>\n",
       "      <td>44</td>\n",
       "    </tr>\n",
       "    <tr>\n",
       "      <th>9</th>\n",
       "      <td>10</td>\n",
       "      <td>24</td>\n",
       "    </tr>\n",
       "    <tr>\n",
       "      <th>10</th>\n",
       "      <td>11</td>\n",
       "      <td>29</td>\n",
       "    </tr>\n",
       "    <tr>\n",
       "      <th>11</th>\n",
       "      <td>12</td>\n",
       "      <td>20</td>\n",
       "    </tr>\n",
       "    <tr>\n",
       "      <th>12</th>\n",
       "      <td>13</td>\n",
       "      <td>32</td>\n",
       "    </tr>\n",
       "    <tr>\n",
       "      <th>13</th>\n",
       "      <td>14</td>\n",
       "      <td>25</td>\n",
       "    </tr>\n",
       "    <tr>\n",
       "      <th>14</th>\n",
       "      <td>15</td>\n",
       "      <td>14</td>\n",
       "    </tr>\n",
       "    <tr>\n",
       "      <th>15</th>\n",
       "      <td>16</td>\n",
       "      <td>20</td>\n",
       "    </tr>\n",
       "    <tr>\n",
       "      <th>16</th>\n",
       "      <td>17</td>\n",
       "      <td>16</td>\n",
       "    </tr>\n",
       "    <tr>\n",
       "      <th>17</th>\n",
       "      <td>18</td>\n",
       "      <td>21</td>\n",
       "    </tr>\n",
       "    <tr>\n",
       "      <th>18</th>\n",
       "      <td>19</td>\n",
       "      <td>16</td>\n",
       "    </tr>\n",
       "    <tr>\n",
       "      <th>19</th>\n",
       "      <td>20</td>\n",
       "      <td>10</td>\n",
       "    </tr>\n",
       "  </tbody>\n",
       "</table>\n",
       "</div>"
      ],
      "text/plain": [
       "    visits  customers\n",
       "0        1       5178\n",
       "1        2        279\n",
       "2        3        193\n",
       "3        4        155\n",
       "4        5         78\n",
       "5        6         67\n",
       "6        7         50\n",
       "7        8         43\n",
       "8        9         44\n",
       "9       10         24\n",
       "10      11         29\n",
       "11      12         20\n",
       "12      13         32\n",
       "13      14         25\n",
       "14      15         14\n",
       "15      16         20\n",
       "16      17         16\n",
       "17      18         21\n",
       "18      19         16\n",
       "19      20         10"
      ]
     },
     "execution_count": 31,
     "metadata": {},
     "output_type": "execute_result"
    }
   ],
   "source": [
    "# A brief detour\n",
    "# Measuring depth of engagement\n",
    "a=sql.read_sql('''\n",
    "select\n",
    "visits,\n",
    "count(distinct(customerid)) as customers\n",
    "from\n",
    "(\n",
    "select\n",
    "    customerid,\n",
    "    count(*) as visits\n",
    "from\n",
    "    master_fact\n",
    "where\n",
    "    eventtype = 'login'\n",
    "group by 1 \n",
    ") q\n",
    "group by 1 \n",
    "order by 1 asc;\n",
    "    ''', con=conn)\n",
    "a.head(20)              "
   ]
  },
  {
   "cell_type": "markdown",
   "metadata": {},
   "source": [
    "### Join Example"
   ]
  },
  {
   "cell_type": "code",
   "execution_count": null,
   "metadata": {
    "collapsed": true
   },
   "outputs": [],
   "source": [
    "Give me the users that were active on '2014-01-01' that were also active on '2014-01-07'."
   ]
  },
  {
   "cell_type": "code",
   "execution_count": 44,
   "metadata": {
    "collapsed": false
   },
   "outputs": [
    {
     "data": {
      "text/html": [
       "<div>\n",
       "<table border=\"1\" class=\"dataframe\">\n",
       "  <thead>\n",
       "    <tr style=\"text-align: right;\">\n",
       "      <th></th>\n",
       "      <th>customers</th>\n",
       "    </tr>\n",
       "  </thead>\n",
       "  <tbody>\n",
       "    <tr>\n",
       "      <th>0</th>\n",
       "      <td>308</td>\n",
       "    </tr>\n",
       "  </tbody>\n",
       "</table>\n",
       "</div>"
      ],
      "text/plain": [
       "   customers\n",
       "0        308"
      ]
     },
     "execution_count": 44,
     "metadata": {},
     "output_type": "execute_result"
    }
   ],
   "source": [
    "a=sql.read_sql('''\n",
    "select\n",
    "count(distinct(customerid)) as customers\n",
    "from\n",
    "master_fact \n",
    "where customerid in\n",
    "(\n",
    "select\n",
    "    distinct(customerid)\n",
    "from\n",
    "    master_fact\n",
    "where\n",
    "    substr(date(timestamp,'unixepoch'),1,10) = '2014-01-01'\n",
    ") \n",
    "and substr(date(timestamp,'unixepoch'),1,10) = '2014-01-07'\n",
    "''', con=conn)\n",
    "a.head(20)              "
   ]
  },
  {
   "cell_type": "markdown",
   "metadata": {},
   "source": [
    "### Measuring a Growth Susceptibility: Retention Rate"
   ]
  },
  {
   "cell_type": "code",
   "execution_count": 36,
   "metadata": {
    "collapsed": false
   },
   "outputs": [
    {
     "data": {
      "text/html": [
       "<div>\n",
       "<table border=\"1\" class=\"dataframe\">\n",
       "  <thead>\n",
       "    <tr style=\"text-align: right;\">\n",
       "      <th></th>\n",
       "      <th>age_in_months</th>\n",
       "      <th>retention_rate</th>\n",
       "    </tr>\n",
       "  </thead>\n",
       "  <tbody>\n",
       "    <tr>\n",
       "      <th>0</th>\n",
       "      <td>0</td>\n",
       "      <td>0.715711</td>\n",
       "    </tr>\n",
       "    <tr>\n",
       "      <th>1</th>\n",
       "      <td>1</td>\n",
       "      <td>0.187032</td>\n",
       "    </tr>\n",
       "    <tr>\n",
       "      <th>2</th>\n",
       "      <td>2</td>\n",
       "      <td>0.169576</td>\n",
       "    </tr>\n",
       "    <tr>\n",
       "      <th>3</th>\n",
       "      <td>3</td>\n",
       "      <td>0.157107</td>\n",
       "    </tr>\n",
       "    <tr>\n",
       "      <th>4</th>\n",
       "      <td>4</td>\n",
       "      <td>0.142145</td>\n",
       "    </tr>\n",
       "  </tbody>\n",
       "</table>\n",
       "</div>"
      ],
      "text/plain": [
       "   age_in_months  retention_rate\n",
       "0              0        0.715711\n",
       "1              1        0.187032\n",
       "2              2        0.169576\n",
       "3              3        0.157107\n",
       "4              4        0.142145"
      ]
     },
     "execution_count": 36,
     "metadata": {},
     "output_type": "execute_result"
    }
   ],
   "source": [
    "#This query looks at the retention rate for a selected cohort.\n",
    "a=sql.read_sql('''\n",
    "select \n",
    "    month as age_in_months,\n",
    "    cast(returning_users as real)/initial_cohort as retention_rate\n",
    "from\n",
    "(select\n",
    "   cast((b.timestamp - a.datecreated)/(86400*30) as int) as month,\n",
    "    count(distinct(b.customerid)) as returning_users\n",
    "from\n",
    "    users a\n",
    "left join\n",
    "    master_fact b\n",
    "on\n",
    "    a.customerid = b.customerid\n",
    "where\n",
    "    substr(date(a.datecreated, 'unixepoch'), 1,7) = '2012-06' and\n",
    "    cast((b.timestamp - a.datecreated)/(86400*30) as int) >= 0\n",
    "group by 1) a,\n",
    "(select\n",
    "    count(distinct(customerid)) as initial_cohort\n",
    "from\n",
    "    users a\n",
    "where\n",
    "    substr(date(a.datecreated, 'unixepoch'), 1,7) = '2012-06' \n",
    ")\n",
    "    ''', con=conn)\n",
    "a.head(5)"
   ]
  },
  {
   "cell_type": "code",
   "execution_count": 37,
   "metadata": {
    "collapsed": false
   },
   "outputs": [],
   "source": [
    "#Generalizing the calculation of a retention curve\n",
    "def constructRetentionCurve(month):\n",
    "    string = '''\n",
    "    select \n",
    "        month,\n",
    "        cast(returning_users as real)/initial_cohort as retention_rate\n",
    "    from\n",
    "    (select\n",
    "        cast((b.timestamp - a.datecreated)/(86400*30) as int) as month,\n",
    "        count(distinct(b.customerid)) as returning_users\n",
    "    from\n",
    "        users a\n",
    "    left join\n",
    "        master_fact b\n",
    "    on\n",
    "        a.customerid = b.customerid\n",
    "    where\n",
    "        substr(date(a.datecreated, 'unixepoch'), 1,7) = '%s' and\n",
    "        cast((b.timestamp - a.datecreated)/(86400*30) as int) >= 0\n",
    "    group by 1) a,\n",
    "    (select\n",
    "        count(distinct(customerid)) as initial_cohort\n",
    "    from\n",
    "        users a\n",
    "    where\n",
    "        substr(date(a.datecreated, 'unixepoch'), 1,7) = '%s'  \n",
    "    )\n",
    "    ''' % (month, month)\n",
    "    return string"
   ]
  },
  {
   "cell_type": "code",
   "execution_count": 47,
   "metadata": {
    "collapsed": false
   },
   "outputs": [],
   "source": [
    "a=sql.read_sql(constructRetentionCurve('2012-10'), con=conn)\n",
    "b=sql.read_sql(constructRetentionCurve('2012-06'), con=conn)\n"
   ]
  },
  {
   "cell_type": "code",
   "execution_count": 39,
   "metadata": {
    "collapsed": false
   },
   "outputs": [
    {
     "data": {
      "image/png": "[encoded data removed]",
      "text/plain": [
       "<matplotlib.figure.Figure at 0x10e27d590>"
      ]
     },
     "metadata": {},
     "output_type": "display_data"
    }
   ],
   "source": [
    "plt.figure(figsize=(8,5))\n",
    "plt.style.use('seaborn-whitegrid')\n",
    "plt.rc('lines', linewidth=3)\n",
    "plt.plot([item for item in a['month']] ,[item for item in a['retention_rate']]) \n",
    "plt.plot([item for item in b['month']] ,[item for item in b['retention_rate']]) \n",
    "plt.xlabel('Age (ty - tx)')\n",
    "plt.ylabel('P(y)')\n",
    "plt.ylim((0,1))\n",
    "plt.show()"
   ]
  },
  {
   "cell_type": "code",
   "execution_count": null,
   "metadata": {
    "collapsed": true
   },
   "outputs": [],
   "source": [
    "#Write a query to compute the percentage of users per month that were active \n",
    "# in the second week of their life - days 8 through 14.\n",
    "a=sql.read_sql('''\n",
    "\n",
    "\n",
    "    ''', con=conn)\n",
    "a.head(10)"
   ]
  },
  {
   "cell_type": "markdown",
   "metadata": {},
   "source": [
    "# Workshop #3 Projections with Convolution"
   ]
  },
  {
   "cell_type": "code",
   "execution_count": 45,
   "metadata": {
    "collapsed": true
   },
   "outputs": [],
   "source": [
    "# A function to simulate linear susceptibility (with a weird 0 value)\n",
    "def linearG(t, b, m):\n",
    "    if t < 0:\n",
    "        return 0\n",
    "    if t == 0:\n",
    "        return 0.75\n",
    "    elif b - m*t  > 0:\n",
    "        return round(b -m*t, 3)\n",
    "    else:\n",
    "        return 0"
   ]
  },
  {
   "cell_type": "code",
   "execution_count": 48,
   "metadata": {
    "collapsed": false
   },
   "outputs": [
    {
     "data": {
      "image/png": "[encoded data removed]",
      "text/plain": [
       "<matplotlib.figure.Figure at 0x10e71df90>"
      ]
     },
     "metadata": {},
     "output_type": "display_data"
    }
   ],
   "source": [
    "plt.figure(figsize=(8,5))\n",
    "plt.style.use('seaborn-whitegrid')\n",
    "plt.rc('lines', linewidth=3)\n",
    "plt.plot([item for item in a['month']] ,[item for item in a['retention_rate']]) \n",
    "plt.plot([item for item in b['month']] ,[item for item in b['retention_rate']]) \n",
    "#Compare these measurements to a functional form.\n",
    "plt.plot([item for item in range(30)] ,[linearG(item, 0.15, 0.002) for item in range(30)]) \n",
    "plt.xlabel('Age (ty - tx)')\n",
    "plt.ylabel('P(y)')\n",
    "plt.ylim((0,1))\n",
    "plt.show()"
   ]
  },
  {
   "cell_type": "code",
   "execution_count": 49,
   "metadata": {
    "collapsed": false
   },
   "outputs": [],
   "source": [
    "#Convolution function\n",
    "def computeYLin(cohorts, daysOut, b, m):\n",
    "    currentDay = len(cohorts)\n",
    "    Y = []\n",
    "    #First Calculate DAU while cohorts are being acquired\n",
    "    for t in range(currentDay):\n",
    "        actives=[]\n",
    "        for i in range(t):\n",
    "            actives.append(round(cohorts[t-i]*linearG(i, b, m), 3))\n",
    "        Y.append(sum(actives))\n",
    "    #Now calculate more DAU as we project out after acquiring cohorts\n",
    "    for t in range(daysOut):\n",
    "        actives=[]\n",
    "        for i in range(currentDay):\n",
    "            actives.append(round(cohorts[currentDay-i-1]*linearG(t+i-1, b, m), 3))\n",
    "        Y.append(sum(actives))\n",
    "    return Y "
   ]
  },
  {
   "cell_type": "code",
   "execution_count": 50,
   "metadata": {
    "collapsed": false
   },
   "outputs": [
    {
     "data": {
      "text/plain": [
       "[<matplotlib.lines.Line2D at 0x113895a90>]"
      ]
     },
     "execution_count": 50,
     "metadata": {},
     "output_type": "execute_result"
    },
    {
     "data": {
      "image/png": "[encoded data removed]",
      "text/plain": [
       "<matplotlib.figure.Figure at 0x11380c550>"
      ]
     },
     "metadata": {},
     "output_type": "display_data"
    }
   ],
   "source": [
    "#Show signups per day\n",
    "new_users=sql.read_sql('''\n",
    "select \n",
    "    substr(date(datecreated, 'unixepoch'), 1,7) as month_created, \n",
    "    count(*) as new_users \n",
    "from \n",
    "    users \n",
    "group by 1\n",
    "''', con=conn)\n",
    "plt.figure(figsize=(6,4))\n",
    "plt.style.use('seaborn-whitegrid')\n",
    "plt.xlabel('time (months)')\n",
    "plt.ylabel('New Users')\n",
    "plt.plot(new_users['new_users'])"
   ]
  },
  {
   "cell_type": "code",
   "execution_count": 51,
   "metadata": {
    "collapsed": false
   },
   "outputs": [
    {
     "data": {
      "text/plain": [
       "[<matplotlib.lines.Line2D at 0x1124bacd0>]"
      ]
     },
     "execution_count": 51,
     "metadata": {},
     "output_type": "execute_result"
    },
    {
     "data": {
      "image/png": "[encoded data removed]",
      "text/plain": [
       "<matplotlib.figure.Figure at 0x10e743190>"
      ]
     },
     "metadata": {},
     "output_type": "display_data"
    }
   ],
   "source": [
    "#Show active users per day\n",
    "dau=sql.read_sql('''\n",
    "select \n",
    "    substr(date(timestamp, 'unixepoch'), 1,7) as month_active, \n",
    "    count(distinct(customerid)) as active_users \n",
    "from \n",
    "    master_fact\n",
    "group by 1\n",
    "''', con=conn)\n",
    "plt.figure(figsize=(6,4))\n",
    "plt.style.use('seaborn-whitegrid')\n",
    "plt.xlabel('time (months)')\n",
    "plt.ylabel('MAU')\n",
    "plt.plot(dau['active_users'])\n"
   ]
  },
  {
   "cell_type": "code",
   "execution_count": 52,
   "metadata": {
    "collapsed": false
   },
   "outputs": [
    {
     "data": {
      "image/png": "[encoded data removed]",
      "text/plain": [
       "<matplotlib.figure.Figure at 0x10e71dd10>"
      ]
     },
     "metadata": {},
     "output_type": "display_data"
    }
   ],
   "source": [
    "cohorts = [item for item in new_users['new_users']]\n",
    "convolutionResults=pd.DataFrame(computeYLin(cohorts, 1, 0.15, 0.002))\n",
    "#Project out further\n",
    "#results=pd.DataFrame(computeYLin(cohorts, 1, 0.15, 0.002))\n",
    "plt.figure(figsize=(6,4))\n",
    "plt.style.use('seaborn-whitegrid')\n",
    "plt.xlabel('time (months)')\n",
    "plt.ylabel('MAU')\n",
    "plt.plot(dau['active_users'])\n",
    "plt.plot(convolutionResults)\n",
    "#What if we half the rate of decay and increase the initial intercept?\n",
    "#results2=pd.DataFrame(computeYLin(cohorts, 1, 0.2, 0.001))\n",
    "#plt.plot(results2)\n",
    "\n",
    "plt.show()"
   ]
  },
  {
   "cell_type": "markdown",
   "metadata": {},
   "source": [
    "# Building a Churn Prediction Model"
   ]
  },
  {
   "cell_type": "markdown",
   "metadata": {
    "collapsed": true
   },
   "source": [
    "#### TASK: Write a query that uses the number of logins a customer performs in the first 30 days  (as well as other metadata such as source, mailinglist) to build a model that predicts whether a customer will be active in  their fourth month (days 90 through 120). Use your favorite machine learning method to build a binary classifier.  ROC curve is a plus!"
   ]
  },
  {
   "cell_type": "code",
   "execution_count": null,
   "metadata": {
    "collapsed": true
   },
   "outputs": [],
   "source": []
  }
 ],
 "metadata": {
  "kernelspec": {
   "display_name": "Python 2",
   "language": "python",
   "name": "python2"
  },
  "language_info": {
   "codemirror_mode": {
    "name": "ipython",
    "version": 2
   },
   "file_extension": ".py",
   "mimetype": "text/x-python",
   "name": "python",
   "nbconvert_exporter": "python",
   "pygments_lexer": "ipython2",
   "version": "2.7.11"
  }
 },
 "nbformat": 4,
 "nbformat_minor": 0
}
