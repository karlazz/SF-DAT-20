{
 "cells": [
  {
   "cell_type": "markdown",
   "metadata": {},
   "source": [
    "In this practice code, we are going to use Ozone dataset. Dictionary of this dataset can be found in https://stat.ethz.ch/R-manual/R-devel/library/datasets/html/airquality.html"
   ]
  },
  {
   "cell_type": "code",
   "execution_count": 1,
   "metadata": {
    "collapsed": true
   },
   "outputs": [],
   "source": [
    "import pandas as pd\n",
    "import numpy as np"
   ]
  },
  {
   "cell_type": "code",
   "execution_count": 2,
   "metadata": {
    "collapsed": true
   },
   "outputs": [],
   "source": [
    "url = \"https://raw.githubusercontent.com/ga-students/SF-DAT-20/master/Data/ozone.csv\"\n",
    "OzoneData = pd.read_csv(url)"
   ]
  },
  {
   "cell_type": "markdown",
   "metadata": {},
   "source": [
    "#### Explore the dataset and decide which variables suffer from missing data"
   ]
  },
  {
   "cell_type": "code",
   "execution_count": 3,
   "metadata": {
    "collapsed": false
   },
   "outputs": [
    {
     "data": {
      "text/plain": [
       "Ozone      116\n",
       "Solar.R    146\n",
       "Wind       153\n",
       "Temp       153\n",
       "Month      153\n",
       "Day        153\n",
       "dtype: int64"
      ]
     },
     "execution_count": 3,
     "metadata": {},
     "output_type": "execute_result"
    }
   ],
   "source": [
    "OzoneData.count()"
   ]
  },
  {
   "cell_type": "markdown",
   "metadata": {},
   "source": [
    "Answer: "
   ]
  },
  {
   "cell_type": "markdown",
   "metadata": {},
   "source": [
    "#### Let's drop rows that have missing values in all the columns you indentified above\n",
    "\n",
    "Hint: in dropna() if you set how = 'all', it will only drop columns that are suffering from missing values at all varaibles you introduce in subset. If you want to get rid of the row that contains missing values in any of the variables you specify, then you shall set how = 'any'\n",
    "\n",
    "df.dropna(how = 'all',subset = ['Var1','Var2','Var3'],inplace = True)\n",
    "\n",
    "The above code will check if all 3 variables specified in df have missing values, if they all have missing values it will drop that row."
   ]
  },
  {
   "cell_type": "code",
   "execution_count": 4,
   "metadata": {
    "collapsed": false
   },
   "outputs": [],
   "source": [
    "OzoneData.dropna(how = 'all',subset = ['Solar.R','Ozone'],inplace = True)"
   ]
  },
  {
   "cell_type": "code",
   "execution_count": 5,
   "metadata": {
    "collapsed": false
   },
   "outputs": [
    {
     "data": {
      "text/plain": [
       "Ozone      116\n",
       "Solar.R    146\n",
       "Wind       151\n",
       "Temp       151\n",
       "Month      151\n",
       "Day        151\n",
       "dtype: int64"
      ]
     },
     "execution_count": 5,
     "metadata": {},
     "output_type": "execute_result"
    }
   ],
   "source": [
    "OzoneData.count()"
   ]
  },
  {
   "cell_type": "markdown",
   "metadata": {},
   "source": [
    "#### Spoiler! If everything is going according to plan you shall be left by 151 observations. Also, it seemed like the first two varibales had missing values. Now plese make a copy of your dataframe into a dataframe named OzoneImputeMean. Also, please use mean of the variables to fill in missing values in OzoneImputeMean"
   ]
  },
  {
   "cell_type": "code",
   "execution_count": 6,
   "metadata": {
    "collapsed": true
   },
   "outputs": [],
   "source": [
    "OzoneImputeMean = OzoneData.copy()\n",
    "OzoneImputeMean['Ozone'].fillna(value = np.mean(OzoneImputeMean['Ozone']), inplace = True)\n",
    "OzoneImputeMean['Solar.R'].fillna(value = np.mean(OzoneImputeMean['Solar.R']), inplace = True)"
   ]
  },
  {
   "cell_type": "code",
   "execution_count": 7,
   "metadata": {
    "collapsed": false
   },
   "outputs": [
    {
     "data": {
      "text/plain": [
       "Ozone      151\n",
       "Solar.R    151\n",
       "Wind       151\n",
       "Temp       151\n",
       "Month      151\n",
       "Day        151\n",
       "dtype: int64"
      ]
     },
     "execution_count": 7,
     "metadata": {},
     "output_type": "execute_result"
    }
   ],
   "source": [
    "#Check if missing values are filled\n",
    "\n",
    "OzoneImputeMean.count()"
   ]
  },
  {
   "cell_type": "markdown",
   "metadata": {},
   "source": [
    "#### Now it's time for imputing using linear regression lines"
   ]
  },
  {
   "cell_type": "code",
   "execution_count": 8,
   "metadata": {
    "collapsed": false
   },
   "outputs": [
    {
     "data": {
      "text/html": [
       "<div>\n",
       "<table border=\"1\" class=\"dataframe\">\n",
       "  <thead>\n",
       "    <tr style=\"text-align: right;\">\n",
       "      <th></th>\n",
       "      <th>Ozone</th>\n",
       "      <th>Solar.R</th>\n",
       "      <th>Wind</th>\n",
       "      <th>Temp</th>\n",
       "      <th>Month</th>\n",
       "      <th>Day</th>\n",
       "      <th>Month_5</th>\n",
       "      <th>Month_6</th>\n",
       "      <th>Month_7</th>\n",
       "      <th>Month_8</th>\n",
       "    </tr>\n",
       "  </thead>\n",
       "  <tbody>\n",
       "    <tr>\n",
       "      <th>0</th>\n",
       "      <td>41</td>\n",
       "      <td>190</td>\n",
       "      <td>7.4</td>\n",
       "      <td>67</td>\n",
       "      <td>5</td>\n",
       "      <td>1</td>\n",
       "      <td>1</td>\n",
       "      <td>0</td>\n",
       "      <td>0</td>\n",
       "      <td>0</td>\n",
       "    </tr>\n",
       "    <tr>\n",
       "      <th>1</th>\n",
       "      <td>36</td>\n",
       "      <td>118</td>\n",
       "      <td>8.0</td>\n",
       "      <td>72</td>\n",
       "      <td>5</td>\n",
       "      <td>2</td>\n",
       "      <td>1</td>\n",
       "      <td>0</td>\n",
       "      <td>0</td>\n",
       "      <td>0</td>\n",
       "    </tr>\n",
       "    <tr>\n",
       "      <th>2</th>\n",
       "      <td>12</td>\n",
       "      <td>149</td>\n",
       "      <td>12.6</td>\n",
       "      <td>74</td>\n",
       "      <td>5</td>\n",
       "      <td>3</td>\n",
       "      <td>1</td>\n",
       "      <td>0</td>\n",
       "      <td>0</td>\n",
       "      <td>0</td>\n",
       "    </tr>\n",
       "    <tr>\n",
       "      <th>3</th>\n",
       "      <td>18</td>\n",
       "      <td>313</td>\n",
       "      <td>11.5</td>\n",
       "      <td>62</td>\n",
       "      <td>5</td>\n",
       "      <td>4</td>\n",
       "      <td>1</td>\n",
       "      <td>0</td>\n",
       "      <td>0</td>\n",
       "      <td>0</td>\n",
       "    </tr>\n",
       "    <tr>\n",
       "      <th>4</th>\n",
       "      <td>NaN</td>\n",
       "      <td>NaN</td>\n",
       "      <td>14.3</td>\n",
       "      <td>56</td>\n",
       "      <td>5</td>\n",
       "      <td>5</td>\n",
       "      <td>1</td>\n",
       "      <td>0</td>\n",
       "      <td>0</td>\n",
       "      <td>0</td>\n",
       "    </tr>\n",
       "  </tbody>\n",
       "</table>\n",
       "</div>"
      ],
      "text/plain": [
       "   Ozone  Solar.R  Wind  Temp  Month  Day  Month_5  Month_6  Month_7  Month_8\n",
       "0     41      190   7.4    67      5    1        1        0        0        0\n",
       "1     36      118   8.0    72      5    2        1        0        0        0\n",
       "2     12      149  12.6    74      5    3        1        0        0        0\n",
       "3     18      313  11.5    62      5    4        1        0        0        0\n",
       "4    NaN      NaN  14.3    56      5    5        1        0        0        0"
      ]
     },
     "execution_count": 8,
     "metadata": {},
     "output_type": "execute_result"
    }
   ],
   "source": [
    "#?????\n",
    "url = \"https://raw.githubusercontent.com/ga-students/SF-DAT-20/master/Data/ozone.csv\"\n",
    "OzoneData = pd.read_csv(url)#### Before we start let's define dummy variables for variable Month - don't worry about day!\n",
    "#OzoneData.dropna(how = 'all',subset = ['Solar.R','Ozone'],inplace = True)\n",
    "#??????\n",
    "MonthDummy = pd.get_dummies(OzoneData.Month, prefix = 'Month')\n",
    "del MonthDummy['Month_9']\n",
    "OzoneData = pd.concat([OzoneData, MonthDummy], axis=1)\n",
    "OzoneData.head()"
   ]
  },
  {
   "cell_type": "code",
   "execution_count": 9,
   "metadata": {
    "collapsed": false
   },
   "outputs": [
    {
     "data": {
      "text/html": [
       "<div>\n",
       "<table border=\"1\" class=\"dataframe\">\n",
       "  <thead>\n",
       "    <tr style=\"text-align: right;\">\n",
       "      <th></th>\n",
       "      <th>Ozone</th>\n",
       "      <th>Solar.R</th>\n",
       "      <th>Wind</th>\n",
       "      <th>Temp</th>\n",
       "      <th>Month</th>\n",
       "      <th>Day</th>\n",
       "      <th>Month_5</th>\n",
       "      <th>Month_6</th>\n",
       "      <th>Month_7</th>\n",
       "      <th>Month_8</th>\n",
       "    </tr>\n",
       "  </thead>\n",
       "  <tbody>\n",
       "    <tr>\n",
       "      <th>Ozone</th>\n",
       "      <td>1.000000</td>\n",
       "      <td>0.348342</td>\n",
       "      <td>-0.601547</td>\n",
       "      <td>0.698360</td>\n",
       "      <td>0.164519</td>\n",
       "      <td>-0.013226</td>\n",
       "      <td>-0.302963</td>\n",
       "      <td>-0.112006</td>\n",
       "      <td>0.277961</td>\n",
       "      <td>0.291808</td>\n",
       "    </tr>\n",
       "    <tr>\n",
       "      <th>Solar.R</th>\n",
       "      <td>0.348342</td>\n",
       "      <td>1.000000</td>\n",
       "      <td>-0.056792</td>\n",
       "      <td>0.275840</td>\n",
       "      <td>-0.075301</td>\n",
       "      <td>-0.150275</td>\n",
       "      <td>-0.024601</td>\n",
       "      <td>0.023998</td>\n",
       "      <td>0.176744</td>\n",
       "      <td>-0.076390</td>\n",
       "    </tr>\n",
       "    <tr>\n",
       "      <th>Wind</th>\n",
       "      <td>-0.601547</td>\n",
       "      <td>-0.056792</td>\n",
       "      <td>1.000000</td>\n",
       "      <td>-0.457988</td>\n",
       "      <td>-0.178293</td>\n",
       "      <td>0.027181</td>\n",
       "      <td>0.239025</td>\n",
       "      <td>0.043480</td>\n",
       "      <td>-0.145790</td>\n",
       "      <td>-0.167091</td>\n",
       "    </tr>\n",
       "    <tr>\n",
       "      <th>Temp</th>\n",
       "      <td>0.698360</td>\n",
       "      <td>0.275840</td>\n",
       "      <td>-0.457988</td>\n",
       "      <td>1.000000</td>\n",
       "      <td>0.420947</td>\n",
       "      <td>-0.130593</td>\n",
       "      <td>-0.659014</td>\n",
       "      <td>0.063741</td>\n",
       "      <td>0.321700</td>\n",
       "      <td>0.325147</td>\n",
       "    </tr>\n",
       "    <tr>\n",
       "      <th>Month</th>\n",
       "      <td>0.164519</td>\n",
       "      <td>-0.075301</td>\n",
       "      <td>-0.178293</td>\n",
       "      <td>0.420947</td>\n",
       "      <td>1.000000</td>\n",
       "      <td>-0.007962</td>\n",
       "      <td>-0.711721</td>\n",
       "      <td>-0.347505</td>\n",
       "      <td>0.002334</td>\n",
       "      <td>0.359361</td>\n",
       "    </tr>\n",
       "    <tr>\n",
       "      <th>Day</th>\n",
       "      <td>-0.013226</td>\n",
       "      <td>-0.150275</td>\n",
       "      <td>0.027181</td>\n",
       "      <td>-0.130593</td>\n",
       "      <td>-0.007962</td>\n",
       "      <td>1.000000</td>\n",
       "      <td>0.011187</td>\n",
       "      <td>-0.016988</td>\n",
       "      <td>0.011187</td>\n",
       "      <td>0.011187</td>\n",
       "    </tr>\n",
       "    <tr>\n",
       "      <th>Month_5</th>\n",
       "      <td>-0.302963</td>\n",
       "      <td>-0.024601</td>\n",
       "      <td>0.239025</td>\n",
       "      <td>-0.659014</td>\n",
       "      <td>-0.711721</td>\n",
       "      <td>0.011187</td>\n",
       "      <td>1.000000</td>\n",
       "      <td>-0.248948</td>\n",
       "      <td>-0.254098</td>\n",
       "      <td>-0.254098</td>\n",
       "    </tr>\n",
       "    <tr>\n",
       "      <th>Month_6</th>\n",
       "      <td>-0.112006</td>\n",
       "      <td>0.023998</td>\n",
       "      <td>0.043480</td>\n",
       "      <td>0.063741</td>\n",
       "      <td>-0.347505</td>\n",
       "      <td>-0.016988</td>\n",
       "      <td>-0.248948</td>\n",
       "      <td>1.000000</td>\n",
       "      <td>-0.248948</td>\n",
       "      <td>-0.248948</td>\n",
       "    </tr>\n",
       "    <tr>\n",
       "      <th>Month_7</th>\n",
       "      <td>0.277961</td>\n",
       "      <td>0.176744</td>\n",
       "      <td>-0.145790</td>\n",
       "      <td>0.321700</td>\n",
       "      <td>0.002334</td>\n",
       "      <td>0.011187</td>\n",
       "      <td>-0.254098</td>\n",
       "      <td>-0.248948</td>\n",
       "      <td>1.000000</td>\n",
       "      <td>-0.254098</td>\n",
       "    </tr>\n",
       "    <tr>\n",
       "      <th>Month_8</th>\n",
       "      <td>0.291808</td>\n",
       "      <td>-0.076390</td>\n",
       "      <td>-0.167091</td>\n",
       "      <td>0.325147</td>\n",
       "      <td>0.359361</td>\n",
       "      <td>0.011187</td>\n",
       "      <td>-0.254098</td>\n",
       "      <td>-0.248948</td>\n",
       "      <td>-0.254098</td>\n",
       "      <td>1.000000</td>\n",
       "    </tr>\n",
       "  </tbody>\n",
       "</table>\n",
       "</div>"
      ],
      "text/plain": [
       "            Ozone   Solar.R      Wind      Temp     Month       Day   Month_5  \\\n",
       "Ozone    1.000000  0.348342 -0.601547  0.698360  0.164519 -0.013226 -0.302963   \n",
       "Solar.R  0.348342  1.000000 -0.056792  0.275840 -0.075301 -0.150275 -0.024601   \n",
       "Wind    -0.601547 -0.056792  1.000000 -0.457988 -0.178293  0.027181  0.239025   \n",
       "Temp     0.698360  0.275840 -0.457988  1.000000  0.420947 -0.130593 -0.659014   \n",
       "Month    0.164519 -0.075301 -0.178293  0.420947  1.000000 -0.007962 -0.711721   \n",
       "Day     -0.013226 -0.150275  0.027181 -0.130593 -0.007962  1.000000  0.011187   \n",
       "Month_5 -0.302963 -0.024601  0.239025 -0.659014 -0.711721  0.011187  1.000000   \n",
       "Month_6 -0.112006  0.023998  0.043480  0.063741 -0.347505 -0.016988 -0.248948   \n",
       "Month_7  0.277961  0.176744 -0.145790  0.321700  0.002334  0.011187 -0.254098   \n",
       "Month_8  0.291808 -0.076390 -0.167091  0.325147  0.359361  0.011187 -0.254098   \n",
       "\n",
       "          Month_6   Month_7   Month_8  \n",
       "Ozone   -0.112006  0.277961  0.291808  \n",
       "Solar.R  0.023998  0.176744 -0.076390  \n",
       "Wind     0.043480 -0.145790 -0.167091  \n",
       "Temp     0.063741  0.321700  0.325147  \n",
       "Month   -0.347505  0.002334  0.359361  \n",
       "Day     -0.016988  0.011187  0.011187  \n",
       "Month_5 -0.248948 -0.254098 -0.254098  \n",
       "Month_6  1.000000 -0.248948 -0.248948  \n",
       "Month_7 -0.248948  1.000000 -0.254098  \n",
       "Month_8 -0.248948 -0.254098  1.000000  "
      ]
     },
     "execution_count": 9,
     "metadata": {},
     "output_type": "execute_result"
    }
   ],
   "source": [
    "OzoneData.corr()"
   ]
  },
  {
   "cell_type": "markdown",
   "metadata": {},
   "source": [
    "#### What seems to be the list of best variables can define Ozone? how about Solar.R?"
   ]
  },
  {
   "cell_type": "markdown",
   "metadata": {},
   "source": [
    "Answer: Temp, Wind, Solar.R, Month_5 ...  ; Ozone, Temp"
   ]
  },
  {
   "cell_type": "code",
   "execution_count": 10,
   "metadata": {
    "collapsed": false
   },
   "outputs": [
    {
     "name": "stdout",
     "output_type": "stream",
     "text": [
      "Ozone      111\n",
      "Solar.R    111\n",
      "Wind       111\n",
      "Temp       111\n",
      "Month      111\n",
      "Day        111\n",
      "Month_5    111\n",
      "Month_6    111\n",
      "Month_7    111\n",
      "Month_8    111\n",
      "dtype: int64\n",
      "[  1.79310857e-04   9.08941533e-13   1.55267723e-17   2.43194219e-03\n",
      "   2.35681480e-01   2.51228945e-03   3.33469888e-03]\n"
     ]
    }
   ],
   "source": [
    "# now let's use a regression model to predict Ozone. First drop NaN values in Ozone and save it in OzoneDroppedValues_Ozone\n",
    "# the run a regression line on variables of interest and check significancy of your model\n",
    "# if in a multi class dummy variable case, you see a few of the dummy variables are not significant but the rest are, \n",
    "#you shall either drop all or keep all. Otherwise, selecting the base dummy will become important\n",
    "# use these variables ['Solar.R','Wind','Temp','Month_5','Month_6','Month_7','Month_8'] to predict\n",
    "from sklearn.linear_model import LinearRegression\n",
    "from sklearn import feature_selection\n",
    "OzoneDroppedValues_Ozone=OzoneData.dropna(subset = ['Ozone','Solar.R'])\n",
    "print OzoneDroppedValues_Ozone.count()\n",
    "linreg = LinearRegression()\n",
    "\n",
    "X = OzoneDroppedValues_Ozone[['Solar.R','Wind','Temp','Month_5','Month_6','Month_7','Month_8']]\n",
    "y = OzoneDroppedValues_Ozone['Ozone']\n",
    "linreg.fit(X,y)\n",
    "pvals = feature_selection.f_regression(X,y)[1] #That's how we extract p-values\n",
    "print(pvals)"
   ]
  },
  {
   "cell_type": "code",
   "execution_count": 11,
   "metadata": {
    "collapsed": false
   },
   "outputs": [
    {
     "name": "stdout",
     "output_type": "stream",
     "text": [
      "          Solar.R        Wind        Temp     Month_5     Month_6     Month_7  \\\n",
      "count  153.000000  153.000000  153.000000  153.000000  153.000000  153.000000   \n",
      "mean   185.931507    9.957516   77.882353    0.202614    0.196078    0.202614   \n",
      "std     87.960267    3.523001    9.465270    0.403268    0.398332    0.403268   \n",
      "min      7.000000    1.700000   56.000000    0.000000    0.000000    0.000000   \n",
      "25%    120.000000    7.400000   72.000000    0.000000    0.000000    0.000000   \n",
      "50%    194.000000    9.700000   79.000000    0.000000    0.000000    0.000000   \n",
      "75%    256.000000   11.500000   85.000000    0.000000    0.000000    0.000000   \n",
      "max    334.000000   20.700000   97.000000    1.000000    1.000000    1.000000   \n",
      "\n",
      "          Month_8  \n",
      "count  153.000000  \n",
      "mean     0.202614  \n",
      "std      0.403268  \n",
      "min      0.000000  \n",
      "25%      0.000000  \n",
      "50%      0.000000  \n",
      "75%      0.000000  \n",
      "max      1.000000  \n"
     ]
    },
    {
     "name": "stderr",
     "output_type": "stream",
     "text": [
      "/Users/karla/anaconda/lib/python2.7/site-packages/pandas/core/generic.py:2862: SettingWithCopyWarning: \n",
      "A value is trying to be set on a copy of a slice from a DataFrame\n",
      "\n",
      "See the caveats in the documentation: http://pandas.pydata.org/pandas-docs/stable/indexing.html#indexing-view-versus-copy\n",
      "  self._update_inplace(new_data)\n"
     ]
    },
    {
     "data": {
      "text/plain": [
       "Ozone         153\n",
       "Solar.R       146\n",
       "Wind          153\n",
       "Temp          153\n",
       "Month         153\n",
       "Day           153\n",
       "Month_5       153\n",
       "Month_6       153\n",
       "Month_7       153\n",
       "Month_8       153\n",
       "OZ_predict    153\n",
       "dtype: int64"
      ]
     },
     "execution_count": 11,
     "metadata": {},
     "output_type": "execute_result"
    }
   ],
   "source": [
    "# now fill in null values of OzoneData['Ozone'] by predicted values\n",
    "X = OzoneData[['Solar.R','Wind','Temp','Month_5','Month_6','Month_7','Month_8']]\n",
    "m=np.mean(X['Solar.R'])\n",
    "X['Solar.R'].fillna(value = m, inplace = True)\n",
    "print X.describe()\n",
    "OzoneData['OZ_predict'] = linreg.predict(X)\n",
    "\n",
    "OzoneData['Ozone'].fillna(value = OzoneData['OZ_predict'], inplace = True)\n",
    "OzoneData.count()\n",
    "\n"
   ]
  },
  {
   "cell_type": "code",
   "execution_count": 12,
   "metadata": {
    "collapsed": false
   },
   "outputs": [
    {
     "name": "stdout",
     "output_type": "stream",
     "text": [
      "Ozone         146\n",
      "Solar.R       146\n",
      "Wind          146\n",
      "Temp          146\n",
      "Month         146\n",
      "Day           146\n",
      "Month_5       146\n",
      "Month_6       146\n",
      "Month_7       146\n",
      "Month_8       146\n",
      "OZ_predict    146\n",
      "dtype: int64\n",
      "[  4.79793585e-05   7.51772924e-04]\n"
     ]
    }
   ],
   "source": [
    "# Now repeat previous steps for Solar.R variable using ['Ozone','Wind','Temp]\n",
    "DroppedValues=OzoneData.dropna(subset = ['Solar.R'])\n",
    "print DroppedValues.count()\n",
    "linreg = LinearRegression()\n",
    "\n",
    "X = DroppedValues[['Ozone','Temp']]\n",
    "y = DroppedValues['Solar.R']\n",
    "linreg.fit(X,y)\n",
    "\n",
    "#Check p-values of your model - if a variable is not significant, drop it\n",
    "pvals = feature_selection.f_regression(X,y)[1] #That's how we extract p-values\n",
    "print(pvals)\n",
    "### We shall drop Wind and rerun our regressions again\n"
   ]
  },
  {
   "cell_type": "code",
   "execution_count": 13,
   "metadata": {
    "collapsed": false
   },
   "outputs": [
    {
     "data": {
      "text/plain": [
       "Ozone         153\n",
       "Solar.R       153\n",
       "Wind          153\n",
       "Temp          153\n",
       "Month         153\n",
       "Day           153\n",
       "Month_5       153\n",
       "Month_6       153\n",
       "Month_7       153\n",
       "Month_8       153\n",
       "OZ_predict    153\n",
       "SR_predict    153\n",
       "dtype: int64"
      ]
     },
     "execution_count": 13,
     "metadata": {},
     "output_type": "execute_result"
    }
   ],
   "source": [
    "# now fill in null values of OzoneData['Solar.R'] by predicted values\n",
    "X = OzoneData[['Ozone','Temp']]\n",
    "OzoneData['SR_predict'] = linreg.predict(X)\n",
    "\n",
    "OzoneData['Solar.R'].fillna(value = OzoneData['SR_predict'], inplace = True)\n",
    "OzoneData.count()"
   ]
  },
  {
   "cell_type": "markdown",
   "metadata": {},
   "source": [
    "#### Now check your filled data - if your predicted values are more than maximum or less than minimum, replace them by max and min"
   ]
  },
  {
   "cell_type": "code",
   "execution_count": 14,
   "metadata": {
    "collapsed": false
   },
   "outputs": [
    {
     "name": "stdout",
     "output_type": "stream",
     "text": [
      "1.0\n",
      "168.0\n"
     ]
    }
   ],
   "source": [
    "OZ = [OzoneDroppedValues_Ozone['Ozone'].min(),OzoneDroppedValues_Ozone['Ozone'].max()]\n",
    "SR = [DroppedValues['Solar.R'].min(),DroppedValues['Solar.R'].max()]\n",
    "\n",
    "OzoneData.reset_index(drop=True)\n",
    "\n",
    "for i in range(0,len(OzoneData)):\n",
    "    if (OzoneData.loc[i,'Ozone'] < OZ[0]):\n",
    "        OzoneData.loc[i,'Ozone'] = OZ[0]\n",
    "    if (OzoneData.loc[i,'Solar.R'] < SR[0]):\n",
    "        OzoneData.loc[i,'Solar.R'] = SR[0]\n",
    "print(OzoneData['Ozone'].min())\n",
    "\n",
    "\n",
    "# we don't want to predict above max\n",
    "for i in range(0,len(OzoneData)):\n",
    "    if (OzoneData.loc[i,'Ozone'] > OZ[1]):\n",
    "        OzoneData.loc[i,'Ozone'] = OZ[1]\n",
    "    if (OzoneData.loc[i,'Solar.R'] > SR[1]):\n",
    "        OzoneData.loc[i,'Solar.R'] = SR[1]\n",
    "print(OzoneData['Ozone'].max())\n",
    "    \n"
   ]
  },
  {
   "cell_type": "markdown",
   "metadata": {
    "collapsed": true
   },
   "source": []
  },
  {
   "cell_type": "code",
   "execution_count": 15,
   "metadata": {
    "collapsed": false
   },
   "outputs": [
    {
     "name": "stdout",
     "output_type": "stream",
     "text": [
      "334.0\n",
      "7.0\n"
     ]
    }
   ],
   "source": [
    "print(OzoneData['Solar.R'].max())\n",
    "print(OzoneData['Solar.R'].min())\n"
   ]
  },
  {
   "cell_type": "markdown",
   "metadata": {},
   "source": [
    "## Bonus: In original question, replace missing values of Ozone and Solar.R by Single Imputation Regression Line with Error"
   ]
  },
  {
   "cell_type": "code",
   "execution_count": 16,
   "metadata": {
    "collapsed": true
   },
   "outputs": [],
   "source": [
    "url = \"https://raw.githubusercontent.com/ga-students/SF-DAT-20/master/Data/ozone.csv\"\n",
    "OzoneData = pd.read_csv(url)\n",
    "OzoneData.dropna(how = 'all', subset = ['Ozone', 'Solar.R'], inplace = True)\n",
    "\n",
    "\n",
    "\n",
    "\n",
    "\n"
   ]
  }
 ],
 "metadata": {
  "kernelspec": {
   "display_name": "Python 2",
   "language": "python",
   "name": "python2"
  },
  "language_info": {
   "codemirror_mode": {
    "name": "ipython",
    "version": 2
   },
   "file_extension": ".py",
   "mimetype": "text/x-python",
   "name": "python",
   "nbconvert_exporter": "python",
   "pygments_lexer": "ipython2",
   "version": "2.7.11"
  }
 },
 "nbformat": 4,
 "nbformat_minor": 0
}
