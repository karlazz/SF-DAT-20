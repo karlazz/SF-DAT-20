{
 "cells": [
  {
   "cell_type": "markdown",
   "metadata": {},
   "source": [
    "In this practice code, we are going to use Ozone dataset. Dictionary of this dataset can be found in https://stat.ethz.ch/R-manual/R-devel/library/datasets/html/airquality.html"
   ]
  },
  {
   "cell_type": "code",
   "execution_count": 38,
   "metadata": {
    "collapsed": true
   },
   "outputs": [],
   "source": [
    "import pandas as pd\n",
    "import numpy as np"
   ]
  },
  {
   "cell_type": "code",
   "execution_count": 39,
   "metadata": {
    "collapsed": true
   },
   "outputs": [],
   "source": [
    "url = \"https://raw.githubusercontent.com/ga-students/SF-DAT-20/master/Data/ozone.csv\"\n",
    "OzoneData = pd.read_csv(url)"
   ]
  },
  {
   "cell_type": "markdown",
   "metadata": {},
   "source": [
    "#### Explore the dataset and decide which variables suffer from missing data"
   ]
  },
  {
   "cell_type": "code",
   "execution_count": 40,
   "metadata": {
    "collapsed": false
   },
   "outputs": [
    {
     "data": {
      "text/plain": [
       "Ozone      116\n",
       "Solar.R    146\n",
       "Wind       153\n",
       "Temp       153\n",
       "Month      153\n",
       "Day        153\n",
       "dtype: int64"
      ]
     },
     "execution_count": 40,
     "metadata": {},
     "output_type": "execute_result"
    }
   ],
   "source": [
    "OzoneData.count()"
   ]
  },
  {
   "cell_type": "markdown",
   "metadata": {},
   "source": [
    "Answer: "
   ]
  },
  {
   "cell_type": "markdown",
   "metadata": {},
   "source": [
    "#### Let's drop rows that have missing values in all the columns you indentified above\n",
    "\n",
    "Hint: in dropna() if you set how = 'all', it will only drop columns that are suffering from missing values at all varaibles you introduce in subset. If you want to get rid of the row that contains missing values in any of the variables you specify, then you shall set how = 'any'\n",
    "\n",
    "df.dropna(how = 'all',subset = ['Var1','Var2','Var3'],inplace = True)\n",
    "\n",
    "The above code will check if all 3 variables specified in df have missing values, if they all have missing values it will drop that row."
   ]
  },
  {
   "cell_type": "code",
   "execution_count": 41,
   "metadata": {
    "collapsed": false
   },
   "outputs": [],
   "source": [
    "OzoneData.dropna(how = 'all',subset = ['Solar.R','Ozone'],inplace = True)"
   ]
  },
  {
   "cell_type": "code",
   "execution_count": 42,
   "metadata": {
    "collapsed": false
   },
   "outputs": [
    {
     "data": {
      "text/plain": [
       "Ozone      116\n",
       "Solar.R    146\n",
       "Wind       151\n",
       "Temp       151\n",
       "Month      151\n",
       "Day        151\n",
       "dtype: int64"
      ]
     },
     "execution_count": 42,
     "metadata": {},
     "output_type": "execute_result"
    }
   ],
   "source": [
    "OzoneData.count()"
   ]
  },
  {
   "cell_type": "markdown",
   "metadata": {},
   "source": [
    "#### Spoiler! If everything is going according to plan you shall be left by 151 observations. Also, it seemed like the first two varibales had missing values. Now plese make a copy of your dataframe into a dataframe named OzoneImputeMean. Also, please use mean of the variables to fill in missing values in OzoneImputeMean"
   ]
  },
  {
   "cell_type": "code",
   "execution_count": 43,
   "metadata": {
    "collapsed": true
   },
   "outputs": [],
   "source": [
    "OzoneImputeMean = OzoneData.copy()\n",
    "OzoneImputeMean['Ozone'].fillna(value = np.mean(OzoneImputeMean['Ozone']), inplace = True)\n",
    "OzoneImputeMean['Solar.R'].fillna(value = np.mean(OzoneImputeMean['Solar.R']), inplace = True)"
   ]
  },
  {
   "cell_type": "code",
   "execution_count": 44,
   "metadata": {
    "collapsed": false
   },
   "outputs": [
    {
     "data": {
      "text/plain": [
       "Ozone      151\n",
       "Solar.R    151\n",
       "Wind       151\n",
       "Temp       151\n",
       "Month      151\n",
       "Day        151\n",
       "dtype: int64"
      ]
     },
     "execution_count": 44,
     "metadata": {},
     "output_type": "execute_result"
    }
   ],
   "source": [
    "#Check if missing values are filled\n",
    "\n",
    "OzoneImputeMean.count()"
   ]
  },
  {
   "cell_type": "markdown",
   "metadata": {},
   "source": [
    "#### Now it's time for imputing using linear regression lines"
   ]
  },
  {
   "cell_type": "code",
   "execution_count": 45,
   "metadata": {
    "collapsed": false
   },
   "outputs": [
    {
     "data": {
      "text/html": [
       "<div>\n",
       "<table border=\"1\" class=\"dataframe\">\n",
       "  <thead>\n",
       "    <tr style=\"text-align: right;\">\n",
       "      <th></th>\n",
       "      <th>Ozone</th>\n",
       "      <th>Solar.R</th>\n",
       "      <th>Wind</th>\n",
       "      <th>Temp</th>\n",
       "      <th>Month</th>\n",
       "      <th>Day</th>\n",
       "      <th>Month_5</th>\n",
       "      <th>Month_6</th>\n",
       "      <th>Month_7</th>\n",
       "      <th>Month_8</th>\n",
       "    </tr>\n",
       "  </thead>\n",
       "  <tbody>\n",
       "    <tr>\n",
       "      <th>0</th>\n",
       "      <td>41</td>\n",
       "      <td>190</td>\n",
       "      <td>7.4</td>\n",
       "      <td>67</td>\n",
       "      <td>5</td>\n",
       "      <td>1</td>\n",
       "      <td>1</td>\n",
       "      <td>0</td>\n",
       "      <td>0</td>\n",
       "      <td>0</td>\n",
       "    </tr>\n",
       "    <tr>\n",
       "      <th>1</th>\n",
       "      <td>36</td>\n",
       "      <td>118</td>\n",
       "      <td>8.0</td>\n",
       "      <td>72</td>\n",
       "      <td>5</td>\n",
       "      <td>2</td>\n",
       "      <td>1</td>\n",
       "      <td>0</td>\n",
       "      <td>0</td>\n",
       "      <td>0</td>\n",
       "    </tr>\n",
       "    <tr>\n",
       "      <th>2</th>\n",
       "      <td>12</td>\n",
       "      <td>149</td>\n",
       "      <td>12.6</td>\n",
       "      <td>74</td>\n",
       "      <td>5</td>\n",
       "      <td>3</td>\n",
       "      <td>1</td>\n",
       "      <td>0</td>\n",
       "      <td>0</td>\n",
       "      <td>0</td>\n",
       "    </tr>\n",
       "    <tr>\n",
       "      <th>3</th>\n",
       "      <td>18</td>\n",
       "      <td>313</td>\n",
       "      <td>11.5</td>\n",
       "      <td>62</td>\n",
       "      <td>5</td>\n",
       "      <td>4</td>\n",
       "      <td>1</td>\n",
       "      <td>0</td>\n",
       "      <td>0</td>\n",
       "      <td>0</td>\n",
       "    </tr>\n",
       "    <tr>\n",
       "      <th>5</th>\n",
       "      <td>28</td>\n",
       "      <td>NaN</td>\n",
       "      <td>14.9</td>\n",
       "      <td>66</td>\n",
       "      <td>5</td>\n",
       "      <td>6</td>\n",
       "      <td>1</td>\n",
       "      <td>0</td>\n",
       "      <td>0</td>\n",
       "      <td>0</td>\n",
       "    </tr>\n",
       "  </tbody>\n",
       "</table>\n",
       "</div>"
      ],
      "text/plain": [
       "   Ozone  Solar.R  Wind  Temp  Month  Day  Month_5  Month_6  Month_7  Month_8\n",
       "0     41      190   7.4    67      5    1        1        0        0        0\n",
       "1     36      118   8.0    72      5    2        1        0        0        0\n",
       "2     12      149  12.6    74      5    3        1        0        0        0\n",
       "3     18      313  11.5    62      5    4        1        0        0        0\n",
       "5     28      NaN  14.9    66      5    6        1        0        0        0"
      ]
     },
     "execution_count": 45,
     "metadata": {},
     "output_type": "execute_result"
    }
   ],
   "source": [
    "#### Before we start let's define dummy variables for variable Month - don't worry about day!\n",
    "MonthDummy = pd.get_dummies(OzoneData.Month, prefix = 'Month')\n",
    "del MonthDummy['Month_9']\n",
    "OzoneData = pd.concat([OzoneData, MonthDummy], axis=1)\n",
    "OzoneData.head()"
   ]
  },
  {
   "cell_type": "code",
   "execution_count": 46,
   "metadata": {
    "collapsed": false
   },
   "outputs": [
    {
     "data": {
      "text/html": [
       "<div>\n",
       "<table border=\"1\" class=\"dataframe\">\n",
       "  <thead>\n",
       "    <tr style=\"text-align: right;\">\n",
       "      <th></th>\n",
       "      <th>Ozone</th>\n",
       "      <th>Solar.R</th>\n",
       "      <th>Wind</th>\n",
       "      <th>Temp</th>\n",
       "      <th>Month</th>\n",
       "      <th>Day</th>\n",
       "      <th>Month_5</th>\n",
       "      <th>Month_6</th>\n",
       "      <th>Month_7</th>\n",
       "      <th>Month_8</th>\n",
       "    </tr>\n",
       "  </thead>\n",
       "  <tbody>\n",
       "    <tr>\n",
       "      <th>Ozone</th>\n",
       "      <td>1.000000</td>\n",
       "      <td>0.348342</td>\n",
       "      <td>-0.601547</td>\n",
       "      <td>0.698360</td>\n",
       "      <td>0.164519</td>\n",
       "      <td>-0.013226</td>\n",
       "      <td>-0.302963</td>\n",
       "      <td>-0.112006</td>\n",
       "      <td>0.277961</td>\n",
       "      <td>0.291808</td>\n",
       "    </tr>\n",
       "    <tr>\n",
       "      <th>Solar.R</th>\n",
       "      <td>0.348342</td>\n",
       "      <td>1.000000</td>\n",
       "      <td>-0.056792</td>\n",
       "      <td>0.275840</td>\n",
       "      <td>-0.075301</td>\n",
       "      <td>-0.150275</td>\n",
       "      <td>-0.024601</td>\n",
       "      <td>0.023998</td>\n",
       "      <td>0.176744</td>\n",
       "      <td>-0.076390</td>\n",
       "    </tr>\n",
       "    <tr>\n",
       "      <th>Wind</th>\n",
       "      <td>-0.601547</td>\n",
       "      <td>-0.056792</td>\n",
       "      <td>1.000000</td>\n",
       "      <td>-0.466032</td>\n",
       "      <td>-0.175317</td>\n",
       "      <td>0.042365</td>\n",
       "      <td>0.237781</td>\n",
       "      <td>0.046054</td>\n",
       "      <td>-0.144638</td>\n",
       "      <td>-0.166105</td>\n",
       "    </tr>\n",
       "    <tr>\n",
       "      <th>Temp</th>\n",
       "      <td>0.698360</td>\n",
       "      <td>0.275840</td>\n",
       "      <td>-0.466032</td>\n",
       "      <td>1.000000</td>\n",
       "      <td>0.397427</td>\n",
       "      <td>-0.136876</td>\n",
       "      <td>-0.637816</td>\n",
       "      <td>0.050753</td>\n",
       "      <td>0.318103</td>\n",
       "      <td>0.321680</td>\n",
       "    </tr>\n",
       "    <tr>\n",
       "      <th>Month</th>\n",
       "      <td>0.164519</td>\n",
       "      <td>-0.075301</td>\n",
       "      <td>-0.175317</td>\n",
       "      <td>0.397427</td>\n",
       "      <td>1.000000</td>\n",
       "      <td>-0.007727</td>\n",
       "      <td>-0.702257</td>\n",
       "      <td>-0.362131</td>\n",
       "      <td>-0.007201</td>\n",
       "      <td>0.355246</td>\n",
       "    </tr>\n",
       "    <tr>\n",
       "      <th>Day</th>\n",
       "      <td>-0.013226</td>\n",
       "      <td>-0.150275</td>\n",
       "      <td>0.042365</td>\n",
       "      <td>-0.136876</td>\n",
       "      <td>-0.007727</td>\n",
       "      <td>1.000000</td>\n",
       "      <td>0.011003</td>\n",
       "      <td>-0.017044</td>\n",
       "      <td>0.011471</td>\n",
       "      <td>0.011471</td>\n",
       "    </tr>\n",
       "    <tr>\n",
       "      <th>Month_5</th>\n",
       "      <td>-0.302963</td>\n",
       "      <td>-0.024601</td>\n",
       "      <td>0.237781</td>\n",
       "      <td>-0.637816</td>\n",
       "      <td>-0.702257</td>\n",
       "      <td>0.011003</td>\n",
       "      <td>1.000000</td>\n",
       "      <td>-0.242766</td>\n",
       "      <td>-0.247805</td>\n",
       "      <td>-0.247805</td>\n",
       "    </tr>\n",
       "    <tr>\n",
       "      <th>Month_6</th>\n",
       "      <td>-0.112006</td>\n",
       "      <td>0.023998</td>\n",
       "      <td>0.046054</td>\n",
       "      <td>0.050753</td>\n",
       "      <td>-0.362131</td>\n",
       "      <td>-0.017044</td>\n",
       "      <td>-0.242766</td>\n",
       "      <td>1.000000</td>\n",
       "      <td>-0.253080</td>\n",
       "      <td>-0.253080</td>\n",
       "    </tr>\n",
       "    <tr>\n",
       "      <th>Month_7</th>\n",
       "      <td>0.277961</td>\n",
       "      <td>0.176744</td>\n",
       "      <td>-0.144638</td>\n",
       "      <td>0.318103</td>\n",
       "      <td>-0.007201</td>\n",
       "      <td>0.011471</td>\n",
       "      <td>-0.247805</td>\n",
       "      <td>-0.253080</td>\n",
       "      <td>1.000000</td>\n",
       "      <td>-0.258333</td>\n",
       "    </tr>\n",
       "    <tr>\n",
       "      <th>Month_8</th>\n",
       "      <td>0.291808</td>\n",
       "      <td>-0.076390</td>\n",
       "      <td>-0.166105</td>\n",
       "      <td>0.321680</td>\n",
       "      <td>0.355246</td>\n",
       "      <td>0.011471</td>\n",
       "      <td>-0.247805</td>\n",
       "      <td>-0.253080</td>\n",
       "      <td>-0.258333</td>\n",
       "      <td>1.000000</td>\n",
       "    </tr>\n",
       "  </tbody>\n",
       "</table>\n",
       "</div>"
      ],
      "text/plain": [
       "            Ozone   Solar.R      Wind      Temp     Month       Day   Month_5  \\\n",
       "Ozone    1.000000  0.348342 -0.601547  0.698360  0.164519 -0.013226 -0.302963   \n",
       "Solar.R  0.348342  1.000000 -0.056792  0.275840 -0.075301 -0.150275 -0.024601   \n",
       "Wind    -0.601547 -0.056792  1.000000 -0.466032 -0.175317  0.042365  0.237781   \n",
       "Temp     0.698360  0.275840 -0.466032  1.000000  0.397427 -0.136876 -0.637816   \n",
       "Month    0.164519 -0.075301 -0.175317  0.397427  1.000000 -0.007727 -0.702257   \n",
       "Day     -0.013226 -0.150275  0.042365 -0.136876 -0.007727  1.000000  0.011003   \n",
       "Month_5 -0.302963 -0.024601  0.237781 -0.637816 -0.702257  0.011003  1.000000   \n",
       "Month_6 -0.112006  0.023998  0.046054  0.050753 -0.362131 -0.017044 -0.242766   \n",
       "Month_7  0.277961  0.176744 -0.144638  0.318103 -0.007201  0.011471 -0.247805   \n",
       "Month_8  0.291808 -0.076390 -0.166105  0.321680  0.355246  0.011471 -0.247805   \n",
       "\n",
       "          Month_6   Month_7   Month_8  \n",
       "Ozone   -0.112006  0.277961  0.291808  \n",
       "Solar.R  0.023998  0.176744 -0.076390  \n",
       "Wind     0.046054 -0.144638 -0.166105  \n",
       "Temp     0.050753  0.318103  0.321680  \n",
       "Month   -0.362131 -0.007201  0.355246  \n",
       "Day     -0.017044  0.011471  0.011471  \n",
       "Month_5 -0.242766 -0.247805 -0.247805  \n",
       "Month_6  1.000000 -0.253080 -0.253080  \n",
       "Month_7 -0.253080  1.000000 -0.258333  \n",
       "Month_8 -0.253080 -0.258333  1.000000  "
      ]
     },
     "execution_count": 46,
     "metadata": {},
     "output_type": "execute_result"
    }
   ],
   "source": [
    "OzoneData.corr()"
   ]
  },
  {
   "cell_type": "markdown",
   "metadata": {},
   "source": [
    "#### What seems to be the list of best variables can define Ozone? how about Solar.R?"
   ]
  },
  {
   "cell_type": "markdown",
   "metadata": {},
   "source": [
    "Answer: Temp, Wind, Solar.R, Month_5 ...  ; Ozone, Temp"
   ]
  },
  {
   "cell_type": "code",
   "execution_count": 47,
   "metadata": {
    "collapsed": false
   },
   "outputs": [
    {
     "name": "stdout",
     "output_type": "stream",
     "text": [
      "Ozone      111\n",
      "Solar.R    111\n",
      "Wind       111\n",
      "Temp       111\n",
      "Month      111\n",
      "Day        111\n",
      "Month_5    111\n",
      "Month_6    111\n",
      "Month_7    111\n",
      "Month_8    111\n",
      "dtype: int64\n",
      "[  1.79310857e-04   9.08941533e-13   1.55267723e-17   2.43194219e-03\n",
      "   2.35681480e-01   2.51228945e-03   3.33469888e-03]\n"
     ]
    }
   ],
   "source": [
    "# now let's use a regression model to predict Ozone. First drop NaN values in Ozone and save it in OzoneDroppedValues_Ozone\n",
    "# the run a regression line on variables of interest and check significancy of your model\n",
    "# if in a multi class dummy variable case, you see a few of the dummy variables are not significant but the rest are, \n",
    "#you shall either drop all or keep all. Otherwise, selecting the base dummy will become important\n",
    "# use these variables ['Solar.R','Wind','Temp','Month_5','Month_6','Month_7','Month_8'] to predict\n",
    "from sklearn.linear_model import LinearRegression\n",
    "from sklearn import feature_selection\n",
    "OzoneDroppedValues_Ozone=OzoneData.dropna(subset = ['Ozone','Solar.R'])\n",
    "print OzoneDroppedValues_Ozone.count()\n",
    "linreg = LinearRegression()\n",
    "\n",
    "X = OzoneDroppedValues_Ozone[['Solar.R','Wind','Temp','Month_5','Month_6','Month_7','Month_8']]\n",
    "y = OzoneDroppedValues_Ozone['Ozone']\n",
    "linreg.fit(X,y)\n",
    "pvals = feature_selection.f_regression(X,y)[1] #That's how we extract p-values\n",
    "print(pvals)"
   ]
  },
  {
   "cell_type": "code",
   "execution_count": 49,
   "metadata": {
    "collapsed": false
   },
   "outputs": [
    {
     "name": "stdout",
     "output_type": "stream",
     "text": [
      "          Solar.R        Wind        Temp     Month_5     Month_6     Month_7  \\\n",
      "count  151.000000  151.000000  151.000000  151.000000  151.000000  151.000000   \n",
      "mean   185.931507    9.941722   78.165563    0.192053    0.198675    0.205298   \n",
      "std     88.544727    3.524984    9.198138    0.395225    0.400331    0.405263   \n",
      "min      7.000000    1.700000   57.000000    0.000000    0.000000    0.000000   \n",
      "25%    119.000000    7.400000   73.000000    0.000000    0.000000    0.000000   \n",
      "50%    197.000000    9.700000   79.000000    0.000000    0.000000    0.000000   \n",
      "75%    257.000000   11.500000   85.000000    0.000000    0.000000    0.000000   \n",
      "max    334.000000   20.700000   97.000000    1.000000    1.000000    1.000000   \n",
      "\n",
      "          Month_8  \n",
      "count  151.000000  \n",
      "mean     0.205298  \n",
      "std      0.405263  \n",
      "min      0.000000  \n",
      "25%      0.000000  \n",
      "50%      0.000000  \n",
      "75%      0.000000  \n",
      "max      1.000000  \n"
     ]
    },
    {
     "data": {
      "text/plain": [
       "Ozone         151\n",
       "Solar.R       146\n",
       "Wind          151\n",
       "Temp          151\n",
       "Month         151\n",
       "Day           151\n",
       "Month_5       151\n",
       "Month_6       151\n",
       "Month_7       151\n",
       "Month_8       151\n",
       "OZ_predict    151\n",
       "dtype: int64"
      ]
     },
     "execution_count": 49,
     "metadata": {},
     "output_type": "execute_result"
    }
   ],
   "source": [
    "# now fill in null values of OzoneData['Ozone'] by predicted values\n",
    "X = OzoneData[['Solar.R','Wind','Temp','Month_5','Month_6','Month_7','Month_8']]\n",
    "X['Solar.R'].fillna(value = np.mean(X['Solar.R']), inplace = True)\n",
    "print X.describe()\n",
    "OzoneData['OZ_predict'] = linreg.predict(X)\n",
    "\n",
    "OzoneData['Ozone'].fillna(value = OzoneData['OZ_predict'], inplace = True)\n",
    "OzoneData.count()\n",
    "\n"
   ]
  },
  {
   "cell_type": "code",
   "execution_count": 50,
   "metadata": {
    "collapsed": false
   },
   "outputs": [
    {
     "name": "stdout",
     "output_type": "stream",
     "text": [
      "Ozone         146\n",
      "Solar.R       146\n",
      "Wind          146\n",
      "Temp          146\n",
      "Month         146\n",
      "Day           146\n",
      "Month_5       146\n",
      "Month_6       146\n",
      "Month_7       146\n",
      "Month_8       146\n",
      "OZ_predict    146\n",
      "dtype: int64\n",
      "[  4.79793585e-05   7.51772924e-04]\n"
     ]
    }
   ],
   "source": [
    "# Now repeat previous steps for Solar.R variable using ['Ozone','Wind','Temp]\n",
    "DroppedValues=OzoneData.dropna(subset = ['Solar.R'])\n",
    "print DroppedValues.count()\n",
    "linreg = LinearRegression()\n",
    "\n",
    "X = DroppedValues[['Ozone','Temp']]\n",
    "y = DroppedValues['Solar.R']\n",
    "linreg.fit(X,y)\n",
    "\n",
    "#Check p-values of your model - if a variable is not significant, drop it\n",
    "pvals = feature_selection.f_regression(X,y)[1] #That's how we extract p-values\n",
    "print(pvals)\n",
    "### We shall drop Wind and rerun our regressions again\n"
   ]
  },
  {
   "cell_type": "code",
   "execution_count": 52,
   "metadata": {
    "collapsed": false
   },
   "outputs": [
    {
     "data": {
      "text/plain": [
       "Ozone         151\n",
       "Solar.R       151\n",
       "Wind          151\n",
       "Temp          151\n",
       "Month         151\n",
       "Day           151\n",
       "Month_5       151\n",
       "Month_6       151\n",
       "Month_7       151\n",
       "Month_8       151\n",
       "OZ_predict    151\n",
       "SR_predict    151\n",
       "dtype: int64"
      ]
     },
     "execution_count": 52,
     "metadata": {},
     "output_type": "execute_result"
    }
   ],
   "source": [
    "# now fill in null values of OzoneData['Solar.R'] by predicted values\n",
    "X = OzoneData[['Ozone','Temp']]\n",
    "OzoneData['SR_predict'] = linreg.predict(X)\n",
    "\n",
    "OzoneData['Solar.R'].fillna(value = OzoneData['SR_predict'], inplace = True)\n",
    "OzoneData.count()"
   ]
  },
  {
   "cell_type": "markdown",
   "metadata": {},
   "source": [
    "#### Now check your filled data - if your predicted values are more than maximum or less than minimum, replace them by max and min"
   ]
  },
  {
   "cell_type": "code",
   "execution_count": 56,
   "metadata": {
    "collapsed": false
   },
   "outputs": [
    {
     "name": "stdout",
     "output_type": "stream",
     "text": [
      "[1.0, 168.0] [7.0, 334.0]\n"
     ]
    },
    {
     "ename": "KeyError",
     "evalue": "'the label [4] is not in the [index]'",
     "output_type": "error",
     "traceback": [
      "\u001b[0;31m---------------------------------------------------------------------------\u001b[0m",
      "\u001b[0;31mKeyError\u001b[0m                                  Traceback (most recent call last)",
      "\u001b[0;32m<ipython-input-56-2453ffa9e1bb>\u001b[0m in \u001b[0;36m<module>\u001b[0;34m()\u001b[0m\n\u001b[1;32m      6\u001b[0m \u001b[0;34m\u001b[0m\u001b[0m\n\u001b[1;32m      7\u001b[0m \u001b[0;32mfor\u001b[0m \u001b[0mi\u001b[0m \u001b[0;32min\u001b[0m \u001b[0mrange\u001b[0m\u001b[0;34m(\u001b[0m\u001b[0;36m0\u001b[0m\u001b[0;34m,\u001b[0m\u001b[0;34m(\u001b[0m\u001b[0mlen\u001b[0m\u001b[0;34m(\u001b[0m\u001b[0mOzoneData\u001b[0m\u001b[0;34m)\u001b[0m\u001b[0;34m)\u001b[0m\u001b[0;34m)\u001b[0m\u001b[0;34m:\u001b[0m\u001b[0;34m\u001b[0m\u001b[0m\n\u001b[0;32m----> 8\u001b[0;31m     \u001b[0;32mif\u001b[0m \u001b[0;34m(\u001b[0m\u001b[0mOzoneData\u001b[0m\u001b[0;34m.\u001b[0m\u001b[0mloc\u001b[0m\u001b[0;34m[\u001b[0m\u001b[0mi\u001b[0m\u001b[0;34m,\u001b[0m\u001b[0;34m'Ozone'\u001b[0m\u001b[0;34m]\u001b[0m \u001b[0;34m<\u001b[0m \u001b[0mOZ\u001b[0m\u001b[0;34m[\u001b[0m\u001b[0;36m0\u001b[0m\u001b[0;34m]\u001b[0m\u001b[0;34m)\u001b[0m\u001b[0;34m:\u001b[0m\u001b[0;34m\u001b[0m\u001b[0m\n\u001b[0m\u001b[1;32m      9\u001b[0m         \u001b[0mOzoneData\u001b[0m\u001b[0;34m.\u001b[0m\u001b[0mloc\u001b[0m\u001b[0;34m[\u001b[0m\u001b[0mi\u001b[0m\u001b[0;34m,\u001b[0m\u001b[0;34m'Ozone'\u001b[0m\u001b[0;34m]\u001b[0m \u001b[0;34m=\u001b[0m \u001b[0mOZ\u001b[0m\u001b[0;34m[\u001b[0m\u001b[0;36m0\u001b[0m\u001b[0;34m]\u001b[0m\u001b[0;34m\u001b[0m\u001b[0m\n\u001b[1;32m     10\u001b[0m \u001b[0;32mprint\u001b[0m\u001b[0;34m(\u001b[0m\u001b[0mOzoneData\u001b[0m\u001b[0;34m[\u001b[0m\u001b[0;34m'Ozone'\u001b[0m\u001b[0;34m]\u001b[0m\u001b[0;34m.\u001b[0m\u001b[0mmin\u001b[0m\u001b[0;34m(\u001b[0m\u001b[0;34m)\u001b[0m\u001b[0;34m)\u001b[0m\u001b[0;34m\u001b[0m\u001b[0m\n",
      "\u001b[0;32m/Users/karla/anaconda/lib/python2.7/site-packages/pandas/core/indexing.pyc\u001b[0m in \u001b[0;36m__getitem__\u001b[0;34m(self, key)\u001b[0m\n\u001b[1;32m   1223\u001b[0m     \u001b[0;32mdef\u001b[0m \u001b[0m__getitem__\u001b[0m\u001b[0;34m(\u001b[0m\u001b[0mself\u001b[0m\u001b[0;34m,\u001b[0m \u001b[0mkey\u001b[0m\u001b[0;34m)\u001b[0m\u001b[0;34m:\u001b[0m\u001b[0;34m\u001b[0m\u001b[0m\n\u001b[1;32m   1224\u001b[0m         \u001b[0;32mif\u001b[0m \u001b[0mtype\u001b[0m\u001b[0;34m(\u001b[0m\u001b[0mkey\u001b[0m\u001b[0;34m)\u001b[0m \u001b[0;32mis\u001b[0m \u001b[0mtuple\u001b[0m\u001b[0;34m:\u001b[0m\u001b[0;34m\u001b[0m\u001b[0m\n\u001b[0;32m-> 1225\u001b[0;31m             \u001b[0;32mreturn\u001b[0m \u001b[0mself\u001b[0m\u001b[0;34m.\u001b[0m\u001b[0m_getitem_tuple\u001b[0m\u001b[0;34m(\u001b[0m\u001b[0mkey\u001b[0m\u001b[0;34m)\u001b[0m\u001b[0;34m\u001b[0m\u001b[0m\n\u001b[0m\u001b[1;32m   1226\u001b[0m         \u001b[0;32melse\u001b[0m\u001b[0;34m:\u001b[0m\u001b[0;34m\u001b[0m\u001b[0m\n\u001b[1;32m   1227\u001b[0m             \u001b[0;32mreturn\u001b[0m \u001b[0mself\u001b[0m\u001b[0;34m.\u001b[0m\u001b[0m_getitem_axis\u001b[0m\u001b[0;34m(\u001b[0m\u001b[0mkey\u001b[0m\u001b[0;34m,\u001b[0m \u001b[0maxis\u001b[0m\u001b[0;34m=\u001b[0m\u001b[0;36m0\u001b[0m\u001b[0;34m)\u001b[0m\u001b[0;34m\u001b[0m\u001b[0m\n",
      "\u001b[0;32m/Users/karla/anaconda/lib/python2.7/site-packages/pandas/core/indexing.pyc\u001b[0m in \u001b[0;36m_getitem_tuple\u001b[0;34m(self, tup)\u001b[0m\n\u001b[1;32m    736\u001b[0m     \u001b[0;32mdef\u001b[0m \u001b[0m_getitem_tuple\u001b[0m\u001b[0;34m(\u001b[0m\u001b[0mself\u001b[0m\u001b[0;34m,\u001b[0m \u001b[0mtup\u001b[0m\u001b[0;34m)\u001b[0m\u001b[0;34m:\u001b[0m\u001b[0;34m\u001b[0m\u001b[0m\n\u001b[1;32m    737\u001b[0m         \u001b[0;32mtry\u001b[0m\u001b[0;34m:\u001b[0m\u001b[0;34m\u001b[0m\u001b[0m\n\u001b[0;32m--> 738\u001b[0;31m             \u001b[0;32mreturn\u001b[0m \u001b[0mself\u001b[0m\u001b[0;34m.\u001b[0m\u001b[0m_getitem_lowerdim\u001b[0m\u001b[0;34m(\u001b[0m\u001b[0mtup\u001b[0m\u001b[0;34m)\u001b[0m\u001b[0;34m\u001b[0m\u001b[0m\n\u001b[0m\u001b[1;32m    739\u001b[0m         \u001b[0;32mexcept\u001b[0m \u001b[0mIndexingError\u001b[0m\u001b[0;34m:\u001b[0m\u001b[0;34m\u001b[0m\u001b[0m\n\u001b[1;32m    740\u001b[0m             \u001b[0;32mpass\u001b[0m\u001b[0;34m\u001b[0m\u001b[0m\n",
      "\u001b[0;32m/Users/karla/anaconda/lib/python2.7/site-packages/pandas/core/indexing.pyc\u001b[0m in \u001b[0;36m_getitem_lowerdim\u001b[0;34m(self, tup)\u001b[0m\n\u001b[1;32m    861\u001b[0m         \u001b[0;32mfor\u001b[0m \u001b[0mi\u001b[0m\u001b[0;34m,\u001b[0m \u001b[0mkey\u001b[0m \u001b[0;32min\u001b[0m \u001b[0menumerate\u001b[0m\u001b[0;34m(\u001b[0m\u001b[0mtup\u001b[0m\u001b[0;34m)\u001b[0m\u001b[0;34m:\u001b[0m\u001b[0;34m\u001b[0m\u001b[0m\n\u001b[1;32m    862\u001b[0m             \u001b[0;32mif\u001b[0m \u001b[0mis_label_like\u001b[0m\u001b[0;34m(\u001b[0m\u001b[0mkey\u001b[0m\u001b[0;34m)\u001b[0m \u001b[0;32mor\u001b[0m \u001b[0misinstance\u001b[0m\u001b[0;34m(\u001b[0m\u001b[0mkey\u001b[0m\u001b[0;34m,\u001b[0m \u001b[0mtuple\u001b[0m\u001b[0;34m)\u001b[0m\u001b[0;34m:\u001b[0m\u001b[0;34m\u001b[0m\u001b[0m\n\u001b[0;32m--> 863\u001b[0;31m                 \u001b[0msection\u001b[0m \u001b[0;34m=\u001b[0m \u001b[0mself\u001b[0m\u001b[0;34m.\u001b[0m\u001b[0m_getitem_axis\u001b[0m\u001b[0;34m(\u001b[0m\u001b[0mkey\u001b[0m\u001b[0;34m,\u001b[0m \u001b[0maxis\u001b[0m\u001b[0;34m=\u001b[0m\u001b[0mi\u001b[0m\u001b[0;34m)\u001b[0m\u001b[0;34m\u001b[0m\u001b[0m\n\u001b[0m\u001b[1;32m    864\u001b[0m \u001b[0;34m\u001b[0m\u001b[0m\n\u001b[1;32m    865\u001b[0m                 \u001b[0;31m# we have yielded a scalar ?\u001b[0m\u001b[0;34m\u001b[0m\u001b[0;34m\u001b[0m\u001b[0m\n",
      "\u001b[0;32m/Users/karla/anaconda/lib/python2.7/site-packages/pandas/core/indexing.pyc\u001b[0m in \u001b[0;36m_getitem_axis\u001b[0;34m(self, key, axis)\u001b[0m\n\u001b[1;32m   1369\u001b[0m \u001b[0;34m\u001b[0m\u001b[0m\n\u001b[1;32m   1370\u001b[0m         \u001b[0;31m# fall thru to straight lookup\u001b[0m\u001b[0;34m\u001b[0m\u001b[0;34m\u001b[0m\u001b[0m\n\u001b[0;32m-> 1371\u001b[0;31m         \u001b[0mself\u001b[0m\u001b[0;34m.\u001b[0m\u001b[0m_has_valid_type\u001b[0m\u001b[0;34m(\u001b[0m\u001b[0mkey\u001b[0m\u001b[0;34m,\u001b[0m \u001b[0maxis\u001b[0m\u001b[0;34m)\u001b[0m\u001b[0;34m\u001b[0m\u001b[0m\n\u001b[0m\u001b[1;32m   1372\u001b[0m         \u001b[0;32mreturn\u001b[0m \u001b[0mself\u001b[0m\u001b[0;34m.\u001b[0m\u001b[0m_get_label\u001b[0m\u001b[0;34m(\u001b[0m\u001b[0mkey\u001b[0m\u001b[0;34m,\u001b[0m \u001b[0maxis\u001b[0m\u001b[0;34m=\u001b[0m\u001b[0maxis\u001b[0m\u001b[0;34m)\u001b[0m\u001b[0;34m\u001b[0m\u001b[0m\n\u001b[1;32m   1373\u001b[0m \u001b[0;34m\u001b[0m\u001b[0m\n",
      "\u001b[0;32m/Users/karla/anaconda/lib/python2.7/site-packages/pandas/core/indexing.pyc\u001b[0m in \u001b[0;36m_has_valid_type\u001b[0;34m(self, key, axis)\u001b[0m\n\u001b[1;32m   1331\u001b[0m                 \u001b[0;32mraise\u001b[0m\u001b[0;34m\u001b[0m\u001b[0m\n\u001b[1;32m   1332\u001b[0m             \u001b[0;32mexcept\u001b[0m\u001b[0;34m:\u001b[0m\u001b[0;34m\u001b[0m\u001b[0m\n\u001b[0;32m-> 1333\u001b[0;31m                 \u001b[0merror\u001b[0m\u001b[0;34m(\u001b[0m\u001b[0;34m)\u001b[0m\u001b[0;34m\u001b[0m\u001b[0m\n\u001b[0m\u001b[1;32m   1334\u001b[0m \u001b[0;34m\u001b[0m\u001b[0m\n\u001b[1;32m   1335\u001b[0m         \u001b[0;32mreturn\u001b[0m \u001b[0mTrue\u001b[0m\u001b[0;34m\u001b[0m\u001b[0m\n",
      "\u001b[0;32m/Users/karla/anaconda/lib/python2.7/site-packages/pandas/core/indexing.pyc\u001b[0m in \u001b[0;36merror\u001b[0;34m()\u001b[0m\n\u001b[1;32m   1318\u001b[0m                         \"cannot use label indexing with a null key\")\n\u001b[1;32m   1319\u001b[0m                 raise KeyError(\"the label [%s] is not in the [%s]\" %\n\u001b[0;32m-> 1320\u001b[0;31m                                (key, self.obj._get_axis_name(axis)))\n\u001b[0m\u001b[1;32m   1321\u001b[0m \u001b[0;34m\u001b[0m\u001b[0m\n\u001b[1;32m   1322\u001b[0m             \u001b[0;32mtry\u001b[0m\u001b[0;34m:\u001b[0m\u001b[0;34m\u001b[0m\u001b[0m\n",
      "\u001b[0;31mKeyError\u001b[0m: 'the label [4] is not in the [index]'"
     ]
    }
   ],
   "source": [
    "\n",
    "OZ = [OzoneDroppedValues_Ozone['Ozone'].min(),OzoneDroppedValues_Ozone['Ozone'].max()]\n",
    "SR = [DroppedValues['Solar.R'].min(),DroppedValues['Solar.R'].max()]\n",
    "\n",
    "print OZ, SR\n",
    "\n",
    "for i in range(0,(len(OzoneData))):\n",
    "    if (OzoneData.loc[i,'Ozone'] < OZ[0]):\n",
    "        OzoneData.loc[i,'Ozone'] = OZ[0]\n",
    "print(OzoneData['Ozone'].min())\n",
    "\n",
    "\n",
    "# we don't want to predict above max\n",
    "for i in range(0,(len(OzoneData))):\n",
    "    if (OzoneData.loc[i,'Ozone'] > OZ[1]):\n",
    "        OzoneData.loc[i,'Ozone'] = OZ[1]\n",
    "print(OzoneData['Ozone'].max())\n",
    "    \n",
    "\n",
    "\n"
   ]
  },
  {
   "cell_type": "markdown",
   "metadata": {
    "collapsed": true
   },
   "source": []
  },
  {
   "cell_type": "markdown",
   "metadata": {},
   "source": [
    "## Bonus: In original question, replace missing values of Ozone and Solar.R by Single Imputation Regression Line with Error"
   ]
  },
  {
   "cell_type": "code",
   "execution_count": null,
   "metadata": {
    "collapsed": true
   },
   "outputs": [],
   "source": [
    "url = \"https://raw.githubusercontent.com/ga-students/SF-DAT-20/master/Data/ozone.csv\"\n",
    "OzoneData = pd.read_csv(url)\n",
    "OzoneData.dropna(how = 'all', subset = ['Ozone', 'Solar.R'], inplace = True)\n",
    "\n",
    "\n",
    "\n",
    "\n",
    "\n"
   ]
  }
 ],
 "metadata": {
  "kernelspec": {
   "display_name": "Python 2",
   "language": "python",
   "name": "python2"
  },
  "language_info": {
   "codemirror_mode": {
    "name": "ipython",
    "version": 2
   },
   "file_extension": ".py",
   "mimetype": "text/x-python",
   "name": "python",
   "nbconvert_exporter": "python",
   "pygments_lexer": "ipython2",
   "version": "2.7.11"
  }
 },
 "nbformat": 4,
 "nbformat_minor": 0
}
