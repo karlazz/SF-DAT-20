{
 "cells": [
  {
   "cell_type": "code",
   "execution_count": 1,
   "metadata": {
    "collapsed": false
   },
   "outputs": [
    {
     "data": {
      "text/plain": [
       "Type help() for interactive help, or help(object) for help about object."
      ]
     },
     "execution_count": 1,
     "metadata": {},
     "output_type": "execute_result"
    }
   ],
   "source": [
    "help\n"
   ]
  },
  {
   "cell_type": "code",
   "execution_count": null,
   "metadata": {
    "collapsed": false
   },
   "outputs": [
    {
     "name": "stdout",
     "output_type": "stream",
     "text": [
      "\n",
      "Welcome to Python 2.7!  This is the online help utility.\n",
      "\n",
      "If this is your first time using Python, you should definitely check out\n",
      "the tutorial on the Internet at http://docs.python.org/2.7/tutorial/.\n",
      "\n",
      "Enter the name of any module, keyword, or topic to get help on writing\n",
      "Python programs and using Python modules.  To quit this help utility and\n",
      "return to the interpreter, just type \"quit\".\n",
      "\n",
      "To get a list of available modules, keywords, or topics, type \"modules\",\n",
      "\"keywords\", or \"topics\".  Each module also comes with a one-line summary\n",
      "of what it does; to list the modules whose summaries contain a given word\n",
      "such as \"spam\", type \"modules spam\".\n",
      "\n",
      "help> modules\n"
     ]
    },
    {
     "name": "stderr",
     "output_type": "stream",
     "text": [
      "/Users/karla/anaconda/lib/python2.7/site-packages/IPython/kernel/__init__.py:13: ShimWarning: The `IPython.kernel` package has been deprecated. You should import from ipykernel or jupyter_client instead.\n",
      "  \"You should import from ipykernel or jupyter_client instead.\", ShimWarning)\n",
      "/Users/karla/anaconda/lib/python2.7/site-packages/matplotlib/cbook.py:137: MatplotlibDeprecationWarning: The matplotlib.delaunay module was deprecated in version 1.4. Use matplotlib.tri.Triangulation instead.\n",
      "  warnings.warn(message, mplDeprecation, stacklevel=1)\n",
      "/Users/karla/anaconda/lib/python2.7/site-packages/nltk/twitter/__init__.py:20: UserWarning: The twython library has not been installed. Some functionality from the twitter package will not be available.\n",
      "  warnings.warn(\"The twython library has not been installed. \"\n",
      "/Users/karla/anaconda/lib/python2.7/pkgutil.py:110: FutureWarning: The pandas.rpy module is deprecated and will be removed in a future version. We refer to external packages like rpy2. \n",
      "See here for a guide on how to port your code to rpy2: http://pandas.pydata.org/pandas-docs/stable/r_interface.html\n",
      "  __import__(name)\n",
      "/Users/karla/anaconda/lib/python2.7/site-packages/skimage/filter/__init__.py:6: skimage_deprecation: The `skimage.filter` module has been renamed to `skimage.filters`.  This placeholder module will be removed in v0.13.\n",
      "  warn(skimage_deprecation('The `skimage.filter` module has been renamed '\n",
      "/Users/karla/anaconda/lib/python2.7/site-packages/skimage/viewer/utils/core.py:11: UserWarning: Recommended matplotlib backend is `Agg` for full skimage.viewer functionality.\n",
      "  warnings.warn(\"Recommended matplotlib backend is `Agg` for full \"\n"
     ]
    },
    {
     "name": "stdout",
     "output_type": "stream",
     "text": [
      "\n",
      "Please wait a moment while I gather a list of all available modules...\n",
      "\n",
      "ANSI                aepack              h5py                qtconsole\n",
      "Audio_mac           aetools             hashlib             quopri\n",
      "BaseHTTPServer      aetypes             heapq               random\n",
      "Bastion             aifc                hmac                re\n",
      "CGIHTTPServer       alabaster           hotshot             readline\n",
      "Canvas              antigravity         htmlentitydefs      redis\n",
      "Carbon              anydbm              htmllib             repr\n",
      "CodeWarrior         applesingle         httplib             requests\n",
      "ColorPicker         appletrawmain       husl                resource\n",
      "ConfigParser        appletrunner        ic                  rexec\n",
      "Cookie              appnope             icglue              rfc822\n",
      "Crypto              appscript           icopen              rlcompleter\n",
      "Cython              argcomplete         idlelib             rmagic\n",
      "Dialog              argparse            idna                robotparser\n",
      "DocXMLRPCServer     argvemulator        ihooks              rope\n",
      "EasyDialogs         array               imaplib             runpy\n",
      "Explorer            ast                 imghdr              sched\n",
      "FSM                 astropy             imp                 scipy\n",
      "FileDialog          asynchat            importlib           screen\n",
      "Finder              asyncore            imputil             seaborn\n",
      "FixTk               atexit              inspect             select\n",
      "FrameWork           audiodev            io                  sets\n",
      "HTMLParser          audioop             ipaddress           setuptools\n",
      "IN                  autoGIL             ipykernel           sgmllib\n",
      "IPython             autoreload          ipython_genutils    sha\n",
      "MacOS               babel               ipywidgets          shelve\n",
      "MimeWriter          backports           itertools           shlex\n",
      "MiniAEFrame         backports_abc       itsdangerous        shutil\n",
      "Nav                 base64              jdcal               signal\n",
      "Netscape            bdb                 jedi                simplegeneric\n",
      "OSATerminology      bgenlocations       jinja2              singledispatch\n",
      "OpenSSL             binascii            json                singledispatch_helpers\n",
      "PIL                 binhex              jsonschema          sip\n",
      "PixMapWrapper       binstar_client      jupyter             sipconfig\n",
      "PyQt4               bisect              jupyter_client      sipdistutils\n",
      "Queue               bitarray            jupyter_console     site\n",
      "ScrolledText        blaze               jupyter_core        six\n",
      "SimpleDialog        bokeh               keyword             skimage\n",
      "SimpleHTTPServer    boto                lib2to3             sklearn\n",
      "SimpleXMLRPCServer  bottleneck          linecache           smtpd\n",
      "SocketServer        brewer2mpl          llvmlite            smtplib\n",
      "StdSuites           bs4                 locale              sndhdr\n",
      "StringIO            bsddb               logging             snowballstemmer\n",
      "SystemEvents        bsddb185            lxml                socket\n",
      "Terminal            buildtools          macerrors           sockjs\n",
      "Tix                 bundlebuilder       macostools          sphinx\n",
      "Tkconstants         bz2                 macpath             sphinx_rtd_theme\n",
      "Tkdnd               cPickle             macresource         spyderlib\n",
      "Tkinter             cProfile            mactypes            spyderplugins\n",
      "UserDict            cStringIO           macurl2path         sqlalchemy\n",
      "UserList            calendar            mailbox             sqlite3\n",
      "UserString          cdecimal            mailcap             sre\n",
      "_AE                 cffi                markupbase          sre_compile\n",
      "_AH                 cfmfile             markupsafe          sre_constants\n",
      "_App                cgi                 marshal             sre_parse\n",
      "_CF                 cgitb               math                ssl\n",
      "_CG                 chunk               matplotlib          stat\n",
      "_CarbonEvt          cio_test            md5                 statsmodels\n",
      "_Cm                 clyent              mhlib               statvfs\n",
      "_Ctl                cmath               mimetools           storemagic\n",
      "_Dlg                cmd                 mimetypes           string\n",
      "_Drag               code                mimify              stringold\n",
      "_Evt                codecs              mistune             stringprep\n",
      "_File               codeop              mmap                strop\n",
      "_Fm                 collections         modulefinder        struct\n",
      "_Folder             colorama            mpl_toolkits        subprocess\n",
      "_Help               colorsys            multifile           sunau\n",
      "_IBCarbon           command             multipledispatch    sunaudio\n",
      "_Icn                commands            multiprocessing     symbol\n",
      "_LWPCookieJar       compileall          mutex               sympy\n",
      "_Launch             compiler            nbconvert           sympyprinting\n",
      "_List               conda               nbformat            symtable\n",
      "_Menu               conda_build         netrc               sys\n",
      "_Mlte               conda_env           networkx            sysconfig\n",
      "_MozillaCookieJar   configobj           new                 syslog\n",
      "_OSA                contextlib          nis                 tables\n",
      "_Qd                 cookielib           nltk                tabnanny\n",
      "_Qdoffs             copy                nntplib             tarfile\n",
      "_Qt                 copy_reg            nose                telnetlib\n",
      "_Res                crypt               notebook            tempfile\n",
      "_Scrap              cryptography        ntpath              terminado\n",
      "_Snd                csv                 nturl2path          terminalcommand\n",
      "_TE                 ctypes              numba               termios\n",
      "_Win                curl                numbers             test_path\n",
      "__builtin__         curses              numexpr             test_pycosat\n",
      "__future__          cycler              numpy               tests\n",
      "_abcoll             cython              odo                 textwrap\n",
      "_ast                cythonmagic         opcode              this\n",
      "_bisect             cytoolz             openpyxl            thread\n",
      "_builtinSuites      datashape           operator            threading\n",
      "_cffi_backend       datetime            optparse            time\n",
      "_codecs             dateutil            os                  timeit\n",
      "_codecs_cn          dbhash              os2emxpath          tkColorChooser\n",
      "_codecs_hk          dbm                 osax                tkCommonDialog\n",
      "_codecs_iso2022     decimal             pandas              tkFileDialog\n",
      "_codecs_jp          decorator           parser              tkFont\n",
      "_codecs_kr          difflib             path                tkMessageBox\n",
      "_codecs_tw          dircache            patsy               tkSimpleDialog\n",
      "_collections        dis                 pdb                 toaiff\n",
      "_csv                distutils           pep8                token\n",
      "_ctypes             doctest             pexpect             tokenize\n",
      "_ctypes_test        docutils            pickle              toolz\n",
      "_curses             dumbdbm             pickleshare         tornado\n",
      "_curses_panel       dummy_thread        pickletools         trace\n",
      "_elementtree        dummy_threading     pimp                traceback\n",
      "_functools          dynd                pip                 traitlets\n",
      "_hashlib            easy_install        pipes               ttk\n",
      "_heapq              email               pkg_resources       tty\n",
      "_hotshot            encodings           pkgutil             turtle\n",
      "_io                 enum                platform            types\n",
      "_json               errno               plistlib            ujson\n",
      "_license            et_xmfile           ply                 unicodecsv\n",
      "_locale             exceptions          popen2              unicodedata\n",
      "_lsprof             extern              poplib              unittest\n",
      "_multibytecodec     fastcache           posix               urllib\n",
      "_multiprocessing    fcntl               posixfile           urllib2\n",
      "_osx_support        fdpexpect           posixpath           urlparse\n",
      "_portaudio          filecmp             pprint              user\n",
      "_pyio               fileinput           profile             uu\n",
      "_pytest             findertools         pstats              uuid\n",
      "_random             flask               psutil              validate\n",
      "_scproxy            fnmatch             psycopg2            videoreader\n",
      "_sha256             formatter           pty                 warnings\n",
      "_sha512             fpformat            ptyprocess          wave\n",
      "_socket             fractions           pwd                 weakref\n",
      "_sqlite3            ftplib              pxssh               webbrowser\n",
      "_sre                funcsigs            py                  werkzeug\n",
      "_ssl                functools           py_compile          wheel\n",
      "_strptime           future_builtins     pyasn1              whichdb\n",
      "_struct             gc                  pyaudio             wsgiref\n",
      "_symtable           genericpath         pyclbr              xdrlib\n",
      "_sysconfigdata      gensuitemodule      pycosat             xlrd\n",
      "_testcapi           gestalt             pycparser           xlsxwriter\n",
      "_threading_local    getopt              pycurl              xlwings\n",
      "_tkinter            getpass             pydoc               xlwt\n",
      "_vendor             gettext             pydoc_data          xml\n",
      "_version            gevent              pyexpat             xmllib\n",
      "_warnings           geventwebsocket     pyflakes            xmlrpclib\n",
      "_weakref            ggplot              pygments            xxsubtype\n",
      "_weakrefset         glob                pylab               yaml\n",
      "_yaml               greenlet            pyparsing           zipfile\n",
      "abc                 grin                pytest              zipimport\n",
      "abstract_rendering  grp                 pytz                zlib\n",
      "aem                 gzip                pyximport           zmq\n",
      "\n",
      "Enter any module name to get more help.  Or, type \"modules spam\" to search\n",
      "for modules whose descriptions contain the word \"spam\".\n",
      "\n"
     ]
    }
   ],
   "source": [
    "help()"
   ]
  },
  {
   "cell_type": "code",
   "execution_count": null,
   "metadata": {
    "collapsed": true
   },
   "outputs": [],
   "source": [
    "help(math)\n"
   ]
  },
  {
   "cell_type": "code",
   "execution_count": null,
   "metadata": {
    "collapsed": true
   },
   "outputs": [],
   "source": [
    "math.help()\n"
   ]
  },
  {
   "cell_type": "code",
   "execution_count": null,
   "metadata": {
    "collapsed": true
   },
   "outputs": [],
   "source": [
    "help()\n"
   ]
  },
  {
   "cell_type": "code",
   "execution_count": null,
   "metadata": {
    "collapsed": true
   },
   "outputs": [],
   "source": [
    "help(matplotlib)"
   ]
  }
 ],
 "metadata": {
  "kernelspec": {
   "display_name": "Python 2",
   "language": "python",
   "name": "python2"
  },
  "language_info": {
   "codemirror_mode": {
    "name": "ipython",
    "version": 2
   },
   "file_extension": ".py",
   "mimetype": "text/x-python",
   "name": "python",
   "nbconvert_exporter": "python",
   "pygments_lexer": "ipython2",
   "version": "2.7.10"
  }
 },
 "nbformat": 4,
 "nbformat_minor": 0
}
