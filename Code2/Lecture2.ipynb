{
 "cells": [
  {
   "cell_type": "markdown",
   "metadata": {},
   "source": [
    "# Introduction to Numpy\n",
    "\n",
    "* Overview\n",
    "* ndarray\n",
    "* Indexing and Slicing\n",
    "\n",
    "More info: [http://wiki.scipy.org/Tentative_NumPy_Tutorial](http://wiki.scipy.org/Tentative_NumPy_Tutorial)"
   ]
  },
  {
   "cell_type": "markdown",
   "metadata": {},
   "source": [
    "## Numpy Overview\n",
    "\n",
    "* Why Python for Data? Numpy brings decades of C math into Python!\n",
    "   * Numpy provides wrapper for extensive C/C++/Fortran codebases for data analysis and analytical functionality\n",
    "* NDAarray allows easy vectorized math and broadcasting (i.e. functions on vector elements of different shapes)"
   ]
  },
  {
   "cell_type": "code",
   "execution_count": 1,
   "metadata": {
    "collapsed": false
   },
   "outputs": [
    {
     "name": "stderr",
     "output_type": "stream",
     "text": [
      "/Users/karla/anaconda/lib/python2.7/site-packages/pandas/io/data.py:33: FutureWarning: \n",
      "The pandas.io.data module is moved to a separate package (pandas-datareader) and will be removed from pandas in a future version.\n",
      "After installing the pandas-datareader package (https://github.com/pydata/pandas-datareader), you can change the import ``from pandas.io import data, wb`` to ``from pandas_datareader import data, wb``.\n",
      "  FutureWarning)\n",
      "ERROR: Line magic function `%` not found.\n"
     ]
    }
   ],
   "source": [
    "import pandas as pd\n",
    "import datetime\n",
    "import pandas.io.data as web\n",
    "import matplotlib.pyplot as plt\n",
    "from matplotlib import style\n",
    "style.use('ggplot')\n",
    "import numpy as np\n",
    "%matplotlib inline\n",
    "%"
   ]
  },
  {
   "cell_type": "markdown",
   "metadata": {},
   "source": [
    "## Convert Dictionaries to DataFrame"
   ]
  },
  {
   "cell_type": "code",
   "execution_count": 2,
   "metadata": {
    "collapsed": false
   },
   "outputs": [
    {
     "name": "stdout",
     "output_type": "stream",
     "text": [
      "   Class  Graduated  Registered\n",
      "0      1         19          20\n",
      "1      2         28          30\n",
      "2      3         35          40\n",
      "3      4         20          35\n",
      "4      5         10          10\n"
     ]
    }
   ],
   "source": [
    "GA_DAT = {'Class':[1,2,3,4,5],\n",
    "             'Registered':[20,30,40,35,10],\n",
    "             'Graduated':[19,28,35,20,10]}\n",
    "df = pd.DataFrame(GA_DAT)   #Convert a dictionary to a dataframe\n",
    "print(df)  # look up index do you like it? (I don't!)"
   ]
  },
  {
   "cell_type": "markdown",
   "metadata": {},
   "source": [
    "## Let's change index to Class #"
   ]
  },
  {
   "cell_type": "code",
   "execution_count": 3,
   "metadata": {
    "collapsed": false
   },
   "outputs": [
    {
     "name": "stdout",
     "output_type": "stream",
     "text": [
      "       Graduated  Registered\n",
      "Class                       \n",
      "1             19          20\n",
      "2             28          30\n",
      "3             35          40\n",
      "4             20          35\n",
      "5             10          10\n"
     ]
    }
   ],
   "source": [
    "df = df.set_index('Class') \n",
    "print(df)"
   ]
  },
  {
   "cell_type": "code",
   "execution_count": 4,
   "metadata": {
    "collapsed": false
   },
   "outputs": [
    {
     "data": {
      "text/html": [
       "<div>\n",
       "<table border=\"1\" class=\"dataframe\">\n",
       "  <thead>\n",
       "    <tr style=\"text-align: right;\">\n",
       "      <th></th>\n",
       "      <th>Graduated</th>\n",
       "      <th>Registered</th>\n",
       "    </tr>\n",
       "    <tr>\n",
       "      <th>Class</th>\n",
       "      <th></th>\n",
       "      <th></th>\n",
       "    </tr>\n",
       "  </thead>\n",
       "  <tbody>\n",
       "    <tr>\n",
       "      <th>1</th>\n",
       "      <td>19</td>\n",
       "      <td>20</td>\n",
       "    </tr>\n",
       "    <tr>\n",
       "      <th>2</th>\n",
       "      <td>28</td>\n",
       "      <td>30</td>\n",
       "    </tr>\n",
       "    <tr>\n",
       "      <th>3</th>\n",
       "      <td>35</td>\n",
       "      <td>40</td>\n",
       "    </tr>\n",
       "    <tr>\n",
       "      <th>4</th>\n",
       "      <td>20</td>\n",
       "      <td>35</td>\n",
       "    </tr>\n",
       "    <tr>\n",
       "      <th>5</th>\n",
       "      <td>10</td>\n",
       "      <td>10</td>\n",
       "    </tr>\n",
       "  </tbody>\n",
       "</table>\n",
       "</div>"
      ],
      "text/plain": [
       "       Graduated  Registered\n",
       "Class                       \n",
       "1             19          20\n",
       "2             28          30\n",
       "3             35          40\n",
       "4             20          35\n",
       "5             10          10"
      ]
     },
     "execution_count": 4,
     "metadata": {},
     "output_type": "execute_result"
    }
   ],
   "source": [
    "df.head()\n"
   ]
  },
  {
   "cell_type": "code",
   "execution_count": 5,
   "metadata": {
    "collapsed": false
   },
   "outputs": [
    {
     "name": "stdout",
     "output_type": "stream",
     "text": [
      "Class\n",
      "1    19\n",
      "2    28\n",
      "3    35\n",
      "4    20\n",
      "5    10\n",
      "Name: Graduated, dtype: int64\n",
      "Class\n",
      "1    19\n",
      "2    28\n",
      "3    35\n",
      "4    20\n",
      "5    10\n",
      "Name: Graduated, dtype: int64\n"
     ]
    }
   ],
   "source": [
    "print(df.Graduated)\n",
    "print(df['Graduated'])"
   ]
  },
  {
   "cell_type": "code",
   "execution_count": 6,
   "metadata": {
    "collapsed": false
   },
   "outputs": [
    {
     "name": "stdout",
     "output_type": "stream",
     "text": [
      "       Graduated  Registered\n",
      "Class                       \n",
      "1             19          20\n",
      "2             28          30\n",
      "3             35          40\n",
      "4             20          35\n",
      "5             10          10\n"
     ]
    }
   ],
   "source": [
    "print(df[['Graduated','Registered']])"
   ]
  },
  {
   "cell_type": "code",
   "execution_count": 7,
   "metadata": {
    "collapsed": false
   },
   "outputs": [
    {
     "data": {
      "text/html": [
       "<div>\n",
       "<table border=\"1\" class=\"dataframe\">\n",
       "  <thead>\n",
       "    <tr style=\"text-align: right;\">\n",
       "      <th></th>\n",
       "      <th>Graduated</th>\n",
       "      <th>Registered</th>\n",
       "    </tr>\n",
       "  </thead>\n",
       "  <tbody>\n",
       "    <tr>\n",
       "      <th>count</th>\n",
       "      <td>5.000000</td>\n",
       "      <td>5.000000</td>\n",
       "    </tr>\n",
       "    <tr>\n",
       "      <th>mean</th>\n",
       "      <td>22.400000</td>\n",
       "      <td>27.000000</td>\n",
       "    </tr>\n",
       "    <tr>\n",
       "      <th>std</th>\n",
       "      <td>9.502631</td>\n",
       "      <td>12.041595</td>\n",
       "    </tr>\n",
       "    <tr>\n",
       "      <th>min</th>\n",
       "      <td>10.000000</td>\n",
       "      <td>10.000000</td>\n",
       "    </tr>\n",
       "    <tr>\n",
       "      <th>25%</th>\n",
       "      <td>19.000000</td>\n",
       "      <td>20.000000</td>\n",
       "    </tr>\n",
       "    <tr>\n",
       "      <th>50%</th>\n",
       "      <td>20.000000</td>\n",
       "      <td>30.000000</td>\n",
       "    </tr>\n",
       "    <tr>\n",
       "      <th>75%</th>\n",
       "      <td>28.000000</td>\n",
       "      <td>35.000000</td>\n",
       "    </tr>\n",
       "    <tr>\n",
       "      <th>max</th>\n",
       "      <td>35.000000</td>\n",
       "      <td>40.000000</td>\n",
       "    </tr>\n",
       "  </tbody>\n",
       "</table>\n",
       "</div>"
      ],
      "text/plain": [
       "       Graduated  Registered\n",
       "count   5.000000    5.000000\n",
       "mean   22.400000   27.000000\n",
       "std     9.502631   12.041595\n",
       "min    10.000000   10.000000\n",
       "25%    19.000000   20.000000\n",
       "50%    20.000000   30.000000\n",
       "75%    28.000000   35.000000\n",
       "max    35.000000   40.000000"
      ]
     },
     "execution_count": 7,
     "metadata": {},
     "output_type": "execute_result"
    }
   ],
   "source": [
    "df.describe()  #Summary of your data frame"
   ]
  },
  {
   "cell_type": "code",
   "execution_count": 8,
   "metadata": {
    "collapsed": false
   },
   "outputs": [
    {
     "data": {
      "text/plain": [
       "19.0"
      ]
     },
     "execution_count": 8,
     "metadata": {},
     "output_type": "execute_result"
    }
   ],
   "source": [
    "df.describe()['Graduated']['25%']"
   ]
  },
  {
   "cell_type": "markdown",
   "metadata": {},
   "source": [
    "# Now let's change DataFrames to Arrays"
   ]
  },
  {
   "cell_type": "code",
   "execution_count": 9,
   "metadata": {
    "collapsed": false
   },
   "outputs": [
    {
     "name": "stdout",
     "output_type": "stream",
     "text": [
      "[[19 20]\n",
      " [28 30]\n",
      " [35 40]\n",
      " [20 35]\n",
      " [10 10]]\n"
     ]
    }
   ],
   "source": [
    "MyArray = np.array(df[['Graduated','Registered']])\n",
    "print(MyArray)"
   ]
  },
  {
   "cell_type": "markdown",
   "metadata": {},
   "source": [
    "## Grouping"
   ]
  },
  {
   "cell_type": "code",
   "execution_count": 10,
   "metadata": {
    "collapsed": false
   },
   "outputs": [
    {
     "data": {
      "text/html": [
       "<div>\n",
       "<table border=\"1\" class=\"dataframe\">\n",
       "  <thead>\n",
       "    <tr style=\"text-align: right;\">\n",
       "      <th></th>\n",
       "      <th>A</th>\n",
       "      <th>B</th>\n",
       "      <th>C</th>\n",
       "      <th>D</th>\n",
       "    </tr>\n",
       "  </thead>\n",
       "  <tbody>\n",
       "    <tr>\n",
       "      <th>0</th>\n",
       "      <td>foo</td>\n",
       "      <td>one</td>\n",
       "      <td>0.684681</td>\n",
       "      <td>0.620313</td>\n",
       "    </tr>\n",
       "    <tr>\n",
       "      <th>1</th>\n",
       "      <td>bar</td>\n",
       "      <td>one</td>\n",
       "      <td>0.584642</td>\n",
       "      <td>-0.421096</td>\n",
       "    </tr>\n",
       "    <tr>\n",
       "      <th>2</th>\n",
       "      <td>foo</td>\n",
       "      <td>two</td>\n",
       "      <td>0.012850</td>\n",
       "      <td>-1.471623</td>\n",
       "    </tr>\n",
       "    <tr>\n",
       "      <th>3</th>\n",
       "      <td>bar</td>\n",
       "      <td>three</td>\n",
       "      <td>0.950683</td>\n",
       "      <td>-0.387724</td>\n",
       "    </tr>\n",
       "    <tr>\n",
       "      <th>4</th>\n",
       "      <td>foo</td>\n",
       "      <td>two</td>\n",
       "      <td>-1.504984</td>\n",
       "      <td>-0.892331</td>\n",
       "    </tr>\n",
       "    <tr>\n",
       "      <th>5</th>\n",
       "      <td>bar</td>\n",
       "      <td>two</td>\n",
       "      <td>0.262827</td>\n",
       "      <td>0.362569</td>\n",
       "    </tr>\n",
       "    <tr>\n",
       "      <th>6</th>\n",
       "      <td>foo</td>\n",
       "      <td>one</td>\n",
       "      <td>-0.493164</td>\n",
       "      <td>-1.448050</td>\n",
       "    </tr>\n",
       "    <tr>\n",
       "      <th>7</th>\n",
       "      <td>foo</td>\n",
       "      <td>three</td>\n",
       "      <td>-0.941238</td>\n",
       "      <td>0.231690</td>\n",
       "    </tr>\n",
       "  </tbody>\n",
       "</table>\n",
       "</div>"
      ],
      "text/plain": [
       "     A      B         C         D\n",
       "0  foo    one  0.684681  0.620313\n",
       "1  bar    one  0.584642 -0.421096\n",
       "2  foo    two  0.012850 -1.471623\n",
       "3  bar  three  0.950683 -0.387724\n",
       "4  foo    two -1.504984 -0.892331\n",
       "5  bar    two  0.262827  0.362569\n",
       "6  foo    one -0.493164 -1.448050\n",
       "7  foo  three -0.941238  0.231690"
      ]
     },
     "execution_count": 10,
     "metadata": {},
     "output_type": "execute_result"
    }
   ],
   "source": [
    "df = pd.DataFrame({'A' : ['foo', 'bar', 'foo', 'bar',\n",
    "                       'foo', 'bar', 'foo', 'foo'],\n",
    "                       'B' : ['one', 'one', 'two', 'three',\n",
    "                             'two', 'two', 'one', 'three'],\n",
    "                       'C' : np.random.randn(8),\n",
    "                       'D' : np.random.randn(8)})\n",
    "\n",
    "df"
   ]
  },
  {
   "cell_type": "code",
   "execution_count": 11,
   "metadata": {
    "collapsed": false
   },
   "outputs": [
    {
     "data": {
      "text/html": [
       "<div>\n",
       "<table border=\"1\" class=\"dataframe\">\n",
       "  <thead>\n",
       "    <tr style=\"text-align: right;\">\n",
       "      <th></th>\n",
       "      <th></th>\n",
       "      <th>C</th>\n",
       "      <th>D</th>\n",
       "    </tr>\n",
       "    <tr>\n",
       "      <th>A</th>\n",
       "      <th>B</th>\n",
       "      <th></th>\n",
       "      <th></th>\n",
       "    </tr>\n",
       "  </thead>\n",
       "  <tbody>\n",
       "    <tr>\n",
       "      <th rowspan=\"3\" valign=\"top\">bar</th>\n",
       "      <th>one</th>\n",
       "      <td>0.584642</td>\n",
       "      <td>-0.421096</td>\n",
       "    </tr>\n",
       "    <tr>\n",
       "      <th>three</th>\n",
       "      <td>0.950683</td>\n",
       "      <td>-0.387724</td>\n",
       "    </tr>\n",
       "    <tr>\n",
       "      <th>two</th>\n",
       "      <td>0.262827</td>\n",
       "      <td>0.362569</td>\n",
       "    </tr>\n",
       "    <tr>\n",
       "      <th rowspan=\"3\" valign=\"top\">foo</th>\n",
       "      <th>one</th>\n",
       "      <td>0.095758</td>\n",
       "      <td>-0.413868</td>\n",
       "    </tr>\n",
       "    <tr>\n",
       "      <th>three</th>\n",
       "      <td>-0.941238</td>\n",
       "      <td>0.231690</td>\n",
       "    </tr>\n",
       "    <tr>\n",
       "      <th>two</th>\n",
       "      <td>-0.746067</td>\n",
       "      <td>-1.181977</td>\n",
       "    </tr>\n",
       "  </tbody>\n",
       "</table>\n",
       "</div>"
      ],
      "text/plain": [
       "                  C         D\n",
       "A   B                        \n",
       "bar one    0.584642 -0.421096\n",
       "    three  0.950683 -0.387724\n",
       "    two    0.262827  0.362569\n",
       "foo one    0.095758 -0.413868\n",
       "    three -0.941238  0.231690\n",
       "    two   -0.746067 -1.181977"
      ]
     },
     "execution_count": 11,
     "metadata": {},
     "output_type": "execute_result"
    }
   ],
   "source": [
    "df.groupby(['A','B']).mean()"
   ]
  },
  {
   "cell_type": "markdown",
   "metadata": {},
   "source": [
    "# Now Let's Play with Web Data"
   ]
  },
  {
   "cell_type": "code",
   "execution_count": 12,
   "metadata": {
    "collapsed": false
   },
   "outputs": [
    {
     "name": "stdout",
     "output_type": "stream",
     "text": [
      "                 Open   High        Low      Close    Volume  Adj Close\n",
      "Date                                                                   \n",
      "2010-06-29  19.000000  25.00  17.540001  23.889999  18766300  23.889999\n",
      "2010-06-30  25.790001  30.42  23.299999  23.830000  17187100  23.830000\n",
      "2010-07-01  25.000000  25.92  20.270000  21.959999   8218800  21.959999\n",
      "2010-07-02  23.000000  23.10  18.709999  19.200001   5139800  19.200001\n",
      "2010-07-06  20.000000  20.00  15.830000  16.110001   6866900  16.110001\n",
      "                  Open        High         Low       Close   Volume  \\\n",
      "Date                                                                  \n",
      "2016-01-25  200.059998  203.570007  195.880005  196.380005  2698700   \n",
      "2016-01-26  196.699997  197.820007  188.880005  193.559998  4946800   \n",
      "2016-01-27  192.380005  193.259995  185.770004  188.070007  3565400   \n",
      "2016-01-28  190.789993  191.279999  182.410004  189.699997  4581700   \n",
      "2016-01-29  189.949997  193.740005  188.080002  191.199997  2841000   \n",
      "\n",
      "             Adj Close  \n",
      "Date                    \n",
      "2016-01-25  196.380005  \n",
      "2016-01-26  193.559998  \n",
      "2016-01-27  188.070007  \n",
      "2016-01-28  189.699997  \n",
      "2016-01-29  191.199997  \n"
     ]
    },
    {
     "data": {
      "text/plain": [
       "286.040009"
      ]
     },
     "execution_count": 12,
     "metadata": {},
     "output_type": "execute_result"
    }
   ],
   "source": [
    "start = datetime.datetime(2010,1,1)\n",
    "end = datetime.datetime(2016,1,29)\n",
    "\n",
    "df = web.DataReader(\"TSLA\",\"yahoo\",start,end)\n",
    "print(df.head())\n",
    "print(df.tail())\n",
    "\n",
    "\n",
    "df[\"Adj Close\"].max()\n",
    "\n"
   ]
  },
  {
   "cell_type": "code",
   "execution_count": 13,
   "metadata": {
    "collapsed": false
   },
   "outputs": [
    {
     "data": {
      "image/png": "[encoded data removed]",
      "text/plain": [
       "<matplotlib.figure.Figure at 0x106b64a90>"
      ]
     },
     "metadata": {},
     "output_type": "display_data"
    }
   ],
   "source": [
    "df['Close'].plot()\n",
    "plt.show()"
   ]
  },
  {
   "cell_type": "markdown",
   "metadata": {
    "collapsed": true
   },
   "source": [
    "# Input/output almost any type of Data using Pandas\n",
    "Using pandas I/O API you can read from, convert to, or write in almost any type of dataset. Please refer to <http://pandas.pydata.org/pandas-docs/stable/io.html> for more info.\n",
    "\n",
    "## Let's read csv"
   ]
  },
  {
   "cell_type": "markdown",
   "metadata": {
    "collapsed": true
   },
   "source": [
    "You can read any file from your local computer by refering to the complete address of your data."
   ]
  },
  {
   "cell_type": "code",
   "execution_count": 15,
   "metadata": {
    "collapsed": false
   },
   "outputs": [
    {
     "name": "stdout",
     "output_type": "stream",
     "text": [
      "         Date    Value\n",
      "0    12/31/15  1138500\n",
      "1    11/30/15  1126750\n",
      "2    10/31/15  1093250\n",
      "3     9/30/15  1080750\n",
      "4     8/31/15  1138750\n",
      "5     7/31/15  1124000\n",
      "6     6/30/15  1156000\n",
      "7     5/31/15  1125350\n",
      "8     4/30/15  1115500\n",
      "9     3/31/15  1185250\n",
      "10    2/28/15  1020875\n",
      "11    1/31/15   963250\n",
      "12   12/31/14  1002675\n",
      "13   11/30/14  1024825\n",
      "14   10/31/14   973250\n",
      "15    9/30/14   954000\n",
      "16    8/31/14   967750\n",
      "17    7/31/14   988450\n",
      "18    6/30/14   966550\n",
      "19    5/31/14   949000\n",
      "20    4/30/14   941000\n",
      "21    3/31/14   943500\n",
      "22    2/28/14   894100\n",
      "23    1/31/14   867000\n",
      "24   12/31/13   844650\n",
      "25   11/30/13   877750\n",
      "26   10/31/13   849750\n",
      "27    9/30/13   832500\n",
      "28    8/31/13   841500\n",
      "29    7/31/13   849500\n",
      "..        ...      ...\n",
      "207   9/30/98   337800\n",
      "208   8/31/98   332975\n",
      "209   7/31/98   336400\n",
      "210   6/30/98   330125\n",
      "211   5/31/98   333250\n",
      "212   4/30/98   315500\n",
      "213   3/31/98   301000\n",
      "214   2/28/98   299700\n",
      "215   1/31/98   317800\n",
      "216  12/31/97   312350\n",
      "217  11/30/97   304650\n",
      "218  10/31/97   298750\n",
      "219   9/30/97   295700\n",
      "220   8/31/97   289300\n",
      "221   7/31/97   283250\n",
      "222   6/30/97   283625\n",
      "223   5/31/97   281875\n",
      "224   4/30/97   280350\n",
      "225   3/31/97   271850\n",
      "226   2/28/97   268800\n",
      "227   1/31/97   268250\n",
      "228  12/31/96   263750\n",
      "229  11/30/96   255350\n",
      "230  10/31/96   250400\n",
      "231   9/30/96   262600\n",
      "232   8/31/96   268650\n",
      "233   7/31/96   273000\n",
      "234   6/30/96   274250\n",
      "235   5/31/96   265700\n",
      "236   4/30/96   259300\n",
      "\n",
      "[237 rows x 2 columns]\n"
     ]
    }
   ],
   "source": [
    "df1 = pd.read_csv('/Users/karla/SF-dat/SF-DAT-20/Data/SF-Median-Prices.csv') \n",
    "print(df1)"
   ]
  },
  {
   "cell_type": "code",
   "execution_count": 14,
   "metadata": {
    "collapsed": false
   },
   "outputs": [
    {
     "data": {
      "text/plain": [
       "'/Users/karla/SF-dat/SF-DAT-20/Code'"
      ]
     },
     "execution_count": 14,
     "metadata": {},
     "output_type": "execute_result"
    }
   ],
   "source": [
    "import os\n",
    "from os import getcwd\n",
    "getcwd()"
   ]
  },
  {
   "cell_type": "code",
   "execution_count": 16,
   "metadata": {
    "collapsed": true
   },
   "outputs": [],
   "source": [
    "os.chdir('/Users/karla/SF-dat/SF-DAT-20/Data/') #PLEASE SET THIS WORKING DIRECTORY TO YOURS\n"
   ]
  },
  {
   "cell_type": "code",
   "execution_count": 17,
   "metadata": {
    "collapsed": false
   },
   "outputs": [
    {
     "data": {
      "text/html": [
       "<div>\n",
       "<table border=\"1\" class=\"dataframe\">\n",
       "  <thead>\n",
       "    <tr style=\"text-align: right;\">\n",
       "      <th></th>\n",
       "      <th>Date</th>\n",
       "      <th>Value</th>\n",
       "    </tr>\n",
       "  </thead>\n",
       "  <tbody>\n",
       "    <tr>\n",
       "      <th>0</th>\n",
       "      <td>12/31/15</td>\n",
       "      <td>1138500</td>\n",
       "    </tr>\n",
       "    <tr>\n",
       "      <th>1</th>\n",
       "      <td>11/30/15</td>\n",
       "      <td>1126750</td>\n",
       "    </tr>\n",
       "    <tr>\n",
       "      <th>2</th>\n",
       "      <td>10/31/15</td>\n",
       "      <td>1093250</td>\n",
       "    </tr>\n",
       "    <tr>\n",
       "      <th>3</th>\n",
       "      <td>9/30/15</td>\n",
       "      <td>1080750</td>\n",
       "    </tr>\n",
       "    <tr>\n",
       "      <th>4</th>\n",
       "      <td>8/31/15</td>\n",
       "      <td>1138750</td>\n",
       "    </tr>\n",
       "  </tbody>\n",
       "</table>\n",
       "</div>"
      ],
      "text/plain": [
       "       Date    Value\n",
       "0  12/31/15  1138500\n",
       "1  11/30/15  1126750\n",
       "2  10/31/15  1093250\n",
       "3   9/30/15  1080750\n",
       "4   8/31/15  1138750"
      ]
     },
     "execution_count": 17,
     "metadata": {},
     "output_type": "execute_result"
    }
   ],
   "source": [
    "df2 = pd.read_csv('SF-Median-Prices.csv')\n",
    "df2.head()"
   ]
  },
  {
   "cell_type": "code",
   "execution_count": 18,
   "metadata": {
    "collapsed": false
   },
   "outputs": [
    {
     "data": {
      "image/png": "[encoded data removed]",
      "text/plain": [
       "<matplotlib.figure.Figure at 0x1093ebc90>"
      ]
     },
     "metadata": {},
     "output_type": "display_data"
    }
   ],
   "source": [
    "df2['Value'].plot()\n",
    "plt.show()\n",
    "#How do you like this graph? What is going wrong? "
   ]
  },
  {
   "cell_type": "code",
   "execution_count": 19,
   "metadata": {
    "collapsed": false
   },
   "outputs": [],
   "source": [
    "df2 = df2.set_index('Date')\n"
   ]
  },
  {
   "cell_type": "code",
   "execution_count": 20,
   "metadata": {
    "collapsed": false
   },
   "outputs": [
    {
     "data": {
      "text/html": [
       "<div>\n",
       "<table border=\"1\" class=\"dataframe\">\n",
       "  <thead>\n",
       "    <tr style=\"text-align: right;\">\n",
       "      <th></th>\n",
       "      <th>Value</th>\n",
       "    </tr>\n",
       "    <tr>\n",
       "      <th>Date</th>\n",
       "      <th></th>\n",
       "    </tr>\n",
       "  </thead>\n",
       "  <tbody>\n",
       "    <tr>\n",
       "      <th>12/31/15</th>\n",
       "      <td>1138500</td>\n",
       "    </tr>\n",
       "    <tr>\n",
       "      <th>11/30/15</th>\n",
       "      <td>1126750</td>\n",
       "    </tr>\n",
       "    <tr>\n",
       "      <th>10/31/15</th>\n",
       "      <td>1093250</td>\n",
       "    </tr>\n",
       "    <tr>\n",
       "      <th>9/30/15</th>\n",
       "      <td>1080750</td>\n",
       "    </tr>\n",
       "    <tr>\n",
       "      <th>8/31/15</th>\n",
       "      <td>1138750</td>\n",
       "    </tr>\n",
       "  </tbody>\n",
       "</table>\n",
       "</div>"
      ],
      "text/plain": [
       "            Value\n",
       "Date             \n",
       "12/31/15  1138500\n",
       "11/30/15  1126750\n",
       "10/31/15  1093250\n",
       "9/30/15   1080750\n",
       "8/31/15   1138750"
      ]
     },
     "execution_count": 20,
     "metadata": {},
     "output_type": "execute_result"
    }
   ],
   "source": [
    "df2.head()"
   ]
  },
  {
   "cell_type": "code",
   "execution_count": 24,
   "metadata": {
    "collapsed": false
   },
   "outputs": [
    {
     "data": {
      "image/png": "[encoded data removed]",
      "text/plain": [
       "<matplotlib.figure.Figure at 0x109685710>"
      ]
     },
     "metadata": {},
     "output_type": "display_data"
    }
   ],
   "source": [
    "df2['Value'].plot()\n",
    "plt.show() #the graph looks better - at least has correct labels"
   ]
  },
  {
   "cell_type": "markdown",
   "metadata": {},
   "source": [
    "## Bonus Question: Can you fix the plot such that it shows ealier dates before later dates?"
   ]
  },
  {
   "cell_type": "code",
   "execution_count": 32,
   "metadata": {
    "collapsed": false
   },
   "outputs": [
    {
     "data": {
      "image/png": "[encoded data removed]",
      "text/plain": [
       "<matplotlib.figure.Figure at 0x1094b1390>"
      ]
     },
     "metadata": {},
     "output_type": "display_data"
    }
   ],
   "source": [
    "df2.index = pd.to_datetime(df2.index)\n",
    "ab=df2.sort_index()\n",
    "ab['Value'].plot()\n",
    "plt.show() "
   ]
  },
  {
   "cell_type": "markdown",
   "metadata": {},
   "source": [
    "Now let's save our dataframe into \"html\" format"
   ]
  },
  {
   "cell_type": "code",
   "execution_count": null,
   "metadata": {
    "collapsed": true
   },
   "outputs": [],
   "source": [
    "df2.to_html('SFData.html') #check your working directory"
   ]
  },
  {
   "cell_type": "markdown",
   "metadata": {},
   "source": [
    "## Now let's rename columns in our DataFrame"
   ]
  },
  {
   "cell_type": "code",
   "execution_count": null,
   "metadata": {
    "collapsed": false
   },
   "outputs": [],
   "source": [
    "df2 = df2.rename(columns = {'Value':'SFHomeValue'},)"
   ]
  },
  {
   "cell_type": "code",
   "execution_count": null,
   "metadata": {
    "collapsed": false
   },
   "outputs": [],
   "source": [
    "df2.head()"
   ]
  },
  {
   "cell_type": "code",
   "execution_count": null,
   "metadata": {
    "collapsed": false
   },
   "outputs": [],
   "source": [
    "df2.loc['12/31/15':'10/31/15',['SFHomeValue']]  #Access to a portion of DataFrame using index"
   ]
  },
  {
   "cell_type": "code",
   "execution_count": null,
   "metadata": {
    "collapsed": false
   },
   "outputs": [],
   "source": [
    "df2.count()"
   ]
  },
  {
   "cell_type": "code",
   "execution_count": null,
   "metadata": {
    "collapsed": false
   },
   "outputs": [],
   "source": [
    "df2.describe()"
   ]
  },
  {
   "cell_type": "code",
   "execution_count": null,
   "metadata": {
    "collapsed": false
   },
   "outputs": [],
   "source": [
    "df2.sort(columns='SFHomeValue')"
   ]
  },
  {
   "cell_type": "code",
   "execution_count": null,
   "metadata": {
    "collapsed": false
   },
   "outputs": [],
   "source": [
    "df3 = df2[df2.SFHomeValue > 1000000]\n"
   ]
  },
  {
   "cell_type": "code",
   "execution_count": null,
   "metadata": {
    "collapsed": false
   },
   "outputs": [],
   "source": [
    "pd.isnull(df3)  #Looking for missing values - output is boolean - True if there is any missing value"
   ]
  },
  {
   "cell_type": "markdown",
   "metadata": {},
   "source": [
    "# Next Steps\n",
    "\n",
    "**Recommended Resources**\n",
    "\n",
    "Name | Description\n",
    "--- | ---\n",
    "[Official Pandas Tutorials](http://pandas.pydata.org/pandas-docs/stable/tutorials.html) | Wes & Company's selection of tutorials and lectures\n",
    "[Julia Evans Pandas Cookbook](https://github.com/jvns/pandas-cookbook) | Great resource with examples from weather, bikes and 311 calls\n",
    "[Learn Pandas Tutorials](https://bitbucket.org/hrojas/learn-pandas) | A great series of Pandas tutorials from Dave Rojas\n",
    "[Research Computing Python Data PYNBs](https://github.com/ResearchComputing/Meetup-Fall-2013/tree/master/python) | A super awesome set of python notebooks from a meetup-based course exclusively devoted to pandas"
   ]
  }
 ],
 "metadata": {
  "kernelspec": {
   "display_name": "Python 2",
   "language": "python",
   "name": "python2"
  },
  "language_info": {
   "codemirror_mode": {
    "name": "ipython",
    "version": 2
   },
   "file_extension": ".py",
   "mimetype": "text/x-python",
   "name": "python",
   "nbconvert_exporter": "python",
   "pygments_lexer": "ipython2",
   "version": "2.7.11"
  }
 },
 "nbformat": 4,
 "nbformat_minor": 0
}
