{
 "cells": [
  {
   "cell_type": "code",
   "execution_count": 1,
   "metadata": {
    "collapsed": false
   },
   "outputs": [
    {
     "data": {
      "text/html": [
       "<div>\n",
       "<table border=\"1\" class=\"dataframe\">\n",
       "  <thead>\n",
       "    <tr style=\"text-align: right;\">\n",
       "      <th></th>\n",
       "      <th>name</th>\n",
       "      <th>mpg</th>\n",
       "      <th>cyl</th>\n",
       "      <th>disp</th>\n",
       "      <th>hp</th>\n",
       "      <th>drat</th>\n",
       "      <th>wt</th>\n",
       "      <th>qsec</th>\n",
       "      <th>vs</th>\n",
       "      <th>am</th>\n",
       "      <th>gear</th>\n",
       "      <th>carb</th>\n",
       "    </tr>\n",
       "  </thead>\n",
       "  <tbody>\n",
       "    <tr>\n",
       "      <th>0</th>\n",
       "      <td>Mazda RX4</td>\n",
       "      <td>21.0</td>\n",
       "      <td>6</td>\n",
       "      <td>160</td>\n",
       "      <td>110</td>\n",
       "      <td>3.90</td>\n",
       "      <td>2.620</td>\n",
       "      <td>16.46</td>\n",
       "      <td>0</td>\n",
       "      <td>1</td>\n",
       "      <td>4</td>\n",
       "      <td>4</td>\n",
       "    </tr>\n",
       "    <tr>\n",
       "      <th>1</th>\n",
       "      <td>Mazda RX4 Wag</td>\n",
       "      <td>21.0</td>\n",
       "      <td>6</td>\n",
       "      <td>160</td>\n",
       "      <td>110</td>\n",
       "      <td>3.90</td>\n",
       "      <td>2.875</td>\n",
       "      <td>17.02</td>\n",
       "      <td>0</td>\n",
       "      <td>1</td>\n",
       "      <td>4</td>\n",
       "      <td>4</td>\n",
       "    </tr>\n",
       "    <tr>\n",
       "      <th>2</th>\n",
       "      <td>Datsun 710</td>\n",
       "      <td>22.8</td>\n",
       "      <td>4</td>\n",
       "      <td>108</td>\n",
       "      <td>93</td>\n",
       "      <td>3.85</td>\n",
       "      <td>2.320</td>\n",
       "      <td>18.61</td>\n",
       "      <td>1</td>\n",
       "      <td>1</td>\n",
       "      <td>4</td>\n",
       "      <td>1</td>\n",
       "    </tr>\n",
       "    <tr>\n",
       "      <th>3</th>\n",
       "      <td>Hornet 4 Drive</td>\n",
       "      <td>21.4</td>\n",
       "      <td>6</td>\n",
       "      <td>258</td>\n",
       "      <td>110</td>\n",
       "      <td>3.08</td>\n",
       "      <td>3.215</td>\n",
       "      <td>19.44</td>\n",
       "      <td>1</td>\n",
       "      <td>0</td>\n",
       "      <td>3</td>\n",
       "      <td>1</td>\n",
       "    </tr>\n",
       "    <tr>\n",
       "      <th>4</th>\n",
       "      <td>Hornet Sportabout</td>\n",
       "      <td>18.7</td>\n",
       "      <td>8</td>\n",
       "      <td>360</td>\n",
       "      <td>175</td>\n",
       "      <td>3.15</td>\n",
       "      <td>3.440</td>\n",
       "      <td>17.02</td>\n",
       "      <td>0</td>\n",
       "      <td>0</td>\n",
       "      <td>3</td>\n",
       "      <td>2</td>\n",
       "    </tr>\n",
       "  </tbody>\n",
       "</table>\n",
       "</div>"
      ],
      "text/plain": [
       "                name   mpg  cyl  disp   hp  drat     wt   qsec  vs  am  gear  \\\n",
       "0          Mazda RX4  21.0    6   160  110  3.90  2.620  16.46   0   1     4   \n",
       "1      Mazda RX4 Wag  21.0    6   160  110  3.90  2.875  17.02   0   1     4   \n",
       "2         Datsun 710  22.8    4   108   93  3.85  2.320  18.61   1   1     4   \n",
       "3     Hornet 4 Drive  21.4    6   258  110  3.08  3.215  19.44   1   0     3   \n",
       "4  Hornet Sportabout  18.7    8   360  175  3.15  3.440  17.02   0   0     3   \n",
       "\n",
       "   carb  \n",
       "0     4  \n",
       "1     4  \n",
       "2     1  \n",
       "3     1  \n",
       "4     2  "
      ]
     },
     "execution_count": 1,
     "metadata": {},
     "output_type": "execute_result"
    }
   ],
   "source": [
    "import pandas as pd\n",
    "url = \"https://raw.githubusercontent.com/ga-students/SF-DAT-20/master/Data/mtcars.csv\"\n",
    "CarData = pd.read_csv(url)\n",
    "CarData.head()"
   ]
  },
  {
   "cell_type": "markdown",
   "metadata": {},
   "source": [
    "Here is the dictionary of our data: https://stat.ethz.ch/R-manual/R-devel/library/datasets/html/mtcars.html"
   ]
  },
  {
   "cell_type": "code",
   "execution_count": 2,
   "metadata": {
    "collapsed": false
   },
   "outputs": [
    {
     "data": {
      "text/plain": [
<<<<<<< HEAD
       "<matplotlib.axes._subplots.AxesSubplot at 0x10d891810>"
=======
       "<matplotlib.axes._subplots.AxesSubplot at 0x10d7d9d50>"
>>>>>>> master
      ]
     },
     "execution_count": 2,
     "metadata": {},
     "output_type": "execute_result"
    },
    {
     "data": {
      "image/png": "iVBORw0KGgoAAAANSUhEUgAAAXQAAAEACAYAAACj0I2EAAAABHNCSVQICAgIfAhkiAAAAAlwSFlz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\no6uaKEOyqG0AAAAASUVORK5CYII=\n",
      "text/plain": [
<<<<<<< HEAD
       "<matplotlib.figure.Figure at 0x10d031ed0>"
=======
       "<matplotlib.figure.Figure at 0x10d7d9450>"
>>>>>>> master
      ]
     },
     "metadata": {},
     "output_type": "display_data"
    }
   ],
   "source": [
    "import matplotlib.pyplot as plt\n",
    "%matplotlib inline\n",
    "CarData.plot(kind = 'box')"
   ]
  },
  {
   "cell_type": "code",
   "execution_count": 3,
   "metadata": {
    "collapsed": true
   },
   "outputs": [],
   "source": [
    "Q1_hp = CarData['hp'].quantile(.25)  #Here is first Quartilefor hp\n",
    "Q3_hp = CarData['hp'].quantile(.75)  #Here is third Quartile for hp\n",
    "IQR_hp = Q3_hp - Q1_hp  "
   ]
  },
  {
   "cell_type": "markdown",
   "metadata": {},
   "source": [
    "#### Let's get rid of outliers"
   ]
  },
  {
   "cell_type": "code",
   "execution_count": 4,
   "metadata": {
    "collapsed": true
   },
   "outputs": [],
   "source": [
    "CarData.drop(CarData[(CarData['hp'] > Q3_hp + 1.5*IQR_hp) |\n",
    "                     (CarData['hp'] < Q1_hp - 1.5*IQR_hp) ].index\n",
    "                        , inplace = True)"
   ]
  },
  {
   "cell_type": "code",
   "execution_count": 5,
   "metadata": {
    "collapsed": false
   },
   "outputs": [
    {
     "data": {
      "text/plain": [
<<<<<<< HEAD
       "<matplotlib.axes._subplots.AxesSubplot at 0x108d1c190>"
=======
       "<matplotlib.axes._subplots.AxesSubplot at 0x11043a190>"
>>>>>>> master
      ]
     },
     "execution_count": 5,
     "metadata": {},
     "output_type": "execute_result"
    },
    {
     "data": {
      "image/png": "iVBORw0KGgoAAAANSUhEUgAAAXQAAAEACAYAAACj0I2EAAAABHNCSVQICAgIfAhkiAAAAAlwSFlz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\nRxjoktQR/x8OM2qcvaoSIAAAAABJRU5ErkJggg==\n",
      "text/plain": [
<<<<<<< HEAD
       "<matplotlib.figure.Figure at 0x10d891790>"
=======
       "<matplotlib.figure.Figure at 0x10d7d9550>"
>>>>>>> master
      ]
     },
     "metadata": {},
     "output_type": "display_data"
    }
   ],
   "source": [
    "CarData.plot(kind = 'box')"
   ]
  },
  {
   "cell_type": "markdown",
   "metadata": {},
   "source": [
    "#### Great! We have an outlier free dataset to work with!"
   ]
  },
  {
   "cell_type": "markdown",
   "metadata": {},
   "source": [
    "## First: Create a correlation matrix and explore it"
   ]
  },
  {
   "cell_type": "code",
   "execution_count": 6,
   "metadata": {
    "collapsed": false
   },
   "outputs": [
    {
     "data": {
      "text/html": [
       "<div>\n",
       "<table border=\"1\" class=\"dataframe\">\n",
       "  <thead>\n",
       "    <tr style=\"text-align: right;\">\n",
       "      <th></th>\n",
       "      <th>mpg</th>\n",
       "      <th>cyl</th>\n",
       "      <th>disp</th>\n",
       "      <th>hp</th>\n",
       "      <th>drat</th>\n",
       "      <th>wt</th>\n",
       "      <th>qsec</th>\n",
       "      <th>vs</th>\n",
       "      <th>am</th>\n",
       "      <th>gear</th>\n",
       "      <th>carb</th>\n",
       "    </tr>\n",
       "  </thead>\n",
       "  <tbody>\n",
       "    <tr>\n",
       "      <th>mpg</th>\n",
       "      <td>1.000000</td>\n",
       "      <td>-0.848252</td>\n",
       "      <td>-0.846203</td>\n",
       "      <td>-0.817454</td>\n",
       "      <td>0.686527</td>\n",
       "      <td>-0.869775</td>\n",
       "      <td>0.394328</td>\n",
       "      <td>0.655638</td>\n",
       "      <td>0.656624</td>\n",
       "      <td>0.567462</td>\n",
       "      <td>-0.575325</td>\n",
       "    </tr>\n",
       "    <tr>\n",
       "      <th>cyl</th>\n",
       "      <td>-0.848252</td>\n",
       "      <td>1.000000</td>\n",
       "      <td>0.903260</td>\n",
       "      <td>0.869776</td>\n",
       "      <td>-0.708753</td>\n",
       "      <td>0.785574</td>\n",
       "      <td>-0.571495</td>\n",
       "      <td>-0.805401</td>\n",
       "      <td>-0.586724</td>\n",
       "      <td>-0.594743</td>\n",
       "      <td>0.525530</td>\n",
       "    </tr>\n",
       "    <tr>\n",
       "      <th>disp</th>\n",
       "      <td>-0.846203</td>\n",
       "      <td>0.903260</td>\n",
       "      <td>1.000000</td>\n",
       "      <td>0.858715</td>\n",
       "      <td>-0.712171</td>\n",
       "      <td>0.887852</td>\n",
       "      <td>-0.425631</td>\n",
       "      <td>-0.706693</td>\n",
       "      <td>-0.632086</td>\n",
       "      <td>-0.626252</td>\n",
       "      <td>0.414851</td>\n",
       "    </tr>\n",
       "    <tr>\n",
       "      <th>hp</th>\n",
       "      <td>-0.817454</td>\n",
       "      <td>0.869776</td>\n",
       "      <td>0.858715</td>\n",
       "      <td>1.000000</td>\n",
       "      <td>-0.507509</td>\n",
       "      <td>0.724729</td>\n",
       "      <td>-0.663887</td>\n",
       "      <td>-0.753395</td>\n",
       "      <td>-0.416755</td>\n",
       "      <td>-0.352362</td>\n",
       "      <td>0.650476</td>\n",
       "    </tr>\n",
       "    <tr>\n",
       "      <th>drat</th>\n",
       "      <td>0.686527</td>\n",
       "      <td>-0.708753</td>\n",
       "      <td>-0.712171</td>\n",
       "      <td>-0.507509</td>\n",
       "      <td>1.000000</td>\n",
       "      <td>-0.712847</td>\n",
       "      <td>0.089908</td>\n",
       "      <td>0.442894</td>\n",
       "      <td>0.734561</td>\n",
       "      <td>0.746431</td>\n",
       "      <td>-0.098105</td>\n",
       "    </tr>\n",
       "    <tr>\n",
       "      <th>wt</th>\n",
       "      <td>-0.869775</td>\n",
       "      <td>0.785574</td>\n",
       "      <td>0.887852</td>\n",
       "      <td>0.724729</td>\n",
       "      <td>-0.712847</td>\n",
       "      <td>1.000000</td>\n",
       "      <td>-0.162421</td>\n",
       "      <td>-0.552654</td>\n",
       "      <td>-0.725626</td>\n",
       "      <td>-0.640649</td>\n",
       "      <td>0.481195</td>\n",
       "    </tr>\n",
       "    <tr>\n",
       "      <th>qsec</th>\n",
       "      <td>0.394328</td>\n",
       "      <td>-0.571495</td>\n",
       "      <td>-0.425631</td>\n",
       "      <td>-0.663887</td>\n",
       "      <td>0.089908</td>\n",
       "      <td>-0.162421</td>\n",
       "      <td>1.000000</td>\n",
       "      <td>0.742908</td>\n",
       "      <td>-0.171390</td>\n",
       "      <td>-0.117663</td>\n",
       "      <td>-0.604178</td>\n",
       "    </tr>\n",
       "    <tr>\n",
       "      <th>vs</th>\n",
       "      <td>0.655638</td>\n",
       "      <td>-0.805401</td>\n",
       "      <td>-0.706693</td>\n",
       "      <td>-0.753395</td>\n",
       "      <td>0.442894</td>\n",
       "      <td>-0.552654</td>\n",
       "      <td>0.742908</td>\n",
       "      <td>1.000000</td>\n",
       "      <td>0.210349</td>\n",
       "      <td>0.275662</td>\n",
       "      <td>-0.595944</td>\n",
       "    </tr>\n",
       "    <tr>\n",
       "      <th>am</th>\n",
       "      <td>0.656624</td>\n",
       "      <td>-0.586724</td>\n",
       "      <td>-0.632086</td>\n",
       "      <td>-0.416755</td>\n",
       "      <td>0.734561</td>\n",
       "      <td>-0.725626</td>\n",
       "      <td>-0.171390</td>\n",
       "      <td>0.210349</td>\n",
       "      <td>1.000000</td>\n",
       "      <td>0.783700</td>\n",
       "      <td>-0.088148</td>\n",
       "    </tr>\n",
       "    <tr>\n",
       "      <th>gear</th>\n",
       "      <td>0.567462</td>\n",
       "      <td>-0.594743</td>\n",
       "      <td>-0.626252</td>\n",
       "      <td>-0.352362</td>\n",
       "      <td>0.746431</td>\n",
       "      <td>-0.640649</td>\n",
       "      <td>-0.117663</td>\n",
       "      <td>0.275662</td>\n",
       "      <td>0.783700</td>\n",
       "      <td>1.000000</td>\n",
       "      <td>0.109379</td>\n",
       "    </tr>\n",
       "    <tr>\n",
       "      <th>carb</th>\n",
       "      <td>-0.575325</td>\n",
       "      <td>0.525530</td>\n",
       "      <td>0.414851</td>\n",
       "      <td>0.650476</td>\n",
       "      <td>-0.098105</td>\n",
       "      <td>0.481195</td>\n",
       "      <td>-0.604178</td>\n",
       "      <td>-0.595944</td>\n",
       "      <td>-0.088148</td>\n",
       "      <td>0.109379</td>\n",
       "      <td>1.000000</td>\n",
       "    </tr>\n",
       "  </tbody>\n",
       "</table>\n",
       "</div>"
      ],
      "text/plain": [
       "           mpg       cyl      disp        hp      drat        wt      qsec  \\\n",
       "mpg   1.000000 -0.848252 -0.846203 -0.817454  0.686527 -0.869775  0.394328   \n",
       "cyl  -0.848252  1.000000  0.903260  0.869776 -0.708753  0.785574 -0.571495   \n",
       "disp -0.846203  0.903260  1.000000  0.858715 -0.712171  0.887852 -0.425631   \n",
       "hp   -0.817454  0.869776  0.858715  1.000000 -0.507509  0.724729 -0.663887   \n",
       "drat  0.686527 -0.708753 -0.712171 -0.507509  1.000000 -0.712847  0.089908   \n",
       "wt   -0.869775  0.785574  0.887852  0.724729 -0.712847  1.000000 -0.162421   \n",
       "qsec  0.394328 -0.571495 -0.425631 -0.663887  0.089908 -0.162421  1.000000   \n",
       "vs    0.655638 -0.805401 -0.706693 -0.753395  0.442894 -0.552654  0.742908   \n",
       "am    0.656624 -0.586724 -0.632086 -0.416755  0.734561 -0.725626 -0.171390   \n",
       "gear  0.567462 -0.594743 -0.626252 -0.352362  0.746431 -0.640649 -0.117663   \n",
       "carb -0.575325  0.525530  0.414851  0.650476 -0.098105  0.481195 -0.604178   \n",
       "\n",
       "            vs        am      gear      carb  \n",
       "mpg   0.655638  0.656624  0.567462 -0.575325  \n",
       "cyl  -0.805401 -0.586724 -0.594743  0.525530  \n",
       "disp -0.706693 -0.632086 -0.626252  0.414851  \n",
       "hp   -0.753395 -0.416755 -0.352362  0.650476  \n",
       "drat  0.442894  0.734561  0.746431 -0.098105  \n",
       "wt   -0.552654 -0.725626 -0.640649  0.481195  \n",
       "qsec  0.742908 -0.171390 -0.117663 -0.604178  \n",
       "vs    1.000000  0.210349  0.275662 -0.595944  \n",
       "am    0.210349  1.000000  0.783700 -0.088148  \n",
       "gear  0.275662  0.783700  1.000000  0.109379  \n",
       "carb -0.595944 -0.088148  0.109379  1.000000  "
      ]
     },
     "execution_count": 6,
     "metadata": {},
     "output_type": "execute_result"
    }
   ],
   "source": [
    "CarData.corr()"
   ]
  },
  {
   "cell_type": "markdown",
   "metadata": {},
   "source": [
    "#### What do we learn from this Corr() Matrix?"
   ]
  },
  {
   "cell_type": "markdown",
   "metadata": {},
   "source": [
    "Answer:All the variables are highly correlated > |.3| so can only use 1 variable (or need only use 1 variable)"
   ]
  },
  {
   "cell_type": "markdown",
   "metadata": {},
   "source": [
    "### Let's draw scatter plot and regression plot of Mileage Per Gallon (y) vs horse power (x)"
   ]
  },
  {
   "cell_type": "code",
   "execution_count": 7,
   "metadata": {
    "collapsed": false
   },
   "outputs": [
    {
     "data": {
      "text/plain": [
       "<matplotlib.axes._subplots.AxesSubplot at 0x1107afb10>"
      ]
     },
     "execution_count": 7,
     "metadata": {},
     "output_type": "execute_result"
    },
    {
     "data": {
      "image/png": "iVBORw0KGgoAAAANSUhEUgAAAYkAAAEPCAYAAAC3NDh4AAAABHNCSVQICAgIfAhkiAAAAAlwSFlz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\nSVIpQ0KSVMqQkCSVMiQkSaX+P6l+15Po/YE3AAAAAElFTkSuQmCC\n",
      "text/plain": [
       "<matplotlib.figure.Figure at 0x10a43dbd0>"
      ]
     },
     "metadata": {},
     "output_type": "display_data"
    }
   ],
   "source": [
    "#Scatter plot\n",
    "CarData.plot(kind= 'scatter', x = 'mpg',y = 'hp')"
   ]
  },
  {
   "cell_type": "code",
   "execution_count": 9,
   "metadata": {
    "collapsed": false
   },
   "outputs": [
    {
     "data": {
      "text/plain": [
       "<seaborn.axisgrid.FacetGrid at 0x112dda650>"
      ]
     },
     "execution_count": 9,
     "metadata": {},
     "output_type": "execute_result"
    },
    {
     "data": {
      "image/png": "iVBORw0KGgoAAAANSUhEUgAAAV0AAAFeCAYAAAAmHMwZAAAABHNCSVQICAgIfAhkiAAAAAlwSFlz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\n",
      "text/plain": [
       "<matplotlib.figure.Figure at 0x112dda750>"
      ]
     },
     "metadata": {},
     "output_type": "display_data"
    }
   ],
   "source": [
    "#regression plot\n",
    "import seaborn as sns\n",
    "sns.lmplot(x = 'mpg', y = 'hp', data = CarData) #lmplot=linear model plot"
   ]
  },
  {
   "cell_type": "markdown",
   "metadata": {},
   "source": [
    "#### How do you interpret these graphs?"
   ]
  },
  {
   "cell_type": "markdown",
   "metadata": {},
   "source": [
    "Answer: The greater the horsepower the less the mpg, and there is a wide confidence interval"
   ]
  },
  {
   "cell_type": "markdown",
   "metadata": {},
   "source": [
    "#### Now let's find build a regression line. Use hp to predict mpg"
   ]
  },
  {
   "cell_type": "code",
   "execution_count": 10,
   "metadata": {
    "collapsed": false
   },
   "outputs": [
    {
     "name": "stdout",
     "output_type": "stream",
     "text": [
      "31.7917856473\n",
      "[-0.08204757]\n"
     ]
    }
   ],
   "source": [
    "X=CarData[['hp']]\n",
    "y=CarData['mpg']\n",
    "from sklearn.linear_model import LinearRegression  #import\n",
    "linreg = LinearRegression() #Instantiate\n",
    "linreg.fit(X,y)     #Fit the line on the variables\n",
    "print(linreg.intercept_)\n",
    "print(linreg.coef_)\n"
   ]
  },
  {
   "cell_type": "markdown",
   "metadata": {},
   "source": [
    "#### Write down the formula for your regression line"
   ]
  },
  {
   "cell_type": "markdown",
   "metadata": {},
   "source": [
    "Answer: mpg = 31.79 - .082*hp"
   ]
  },
  {
   "cell_type": "markdown",
   "metadata": {},
   "source": [
    "#### Interpret the coefficient of hp"
   ]
  },
  {
   "cell_type": "markdown",
   "metadata": {},
   "source": [
    "Answer: For every one unit increase in horsepower, the miles per gallon is reduced by .082 miles"
   ]
  },
  {
   "cell_type": "markdown",
   "metadata": {},
   "source": [
    "#### Let's make predictions for two cars VW Jetta and Bugatti Veyron . VW jetta has 170 hp and Bugatti Veyron has 1200 hp. What are your predictions for these two cars?"
   ]
  },
  {
   "cell_type": "code",
   "execution_count": 11,
   "metadata": {
    "collapsed": false
   },
   "outputs": [
    {
     "name": "stdout",
     "output_type": "stream",
     "text": [
      "[ 17.84369885]\n"
     ]
    }
   ],
   "source": [
    "print(linreg.predict(170))"
   ]
  },
  {
   "cell_type": "code",
   "execution_count": 13,
   "metadata": {
    "collapsed": false
   },
   "outputs": [
    {
     "name": "stdout",
     "output_type": "stream",
     "text": [
      "[-66.66529765]\n"
     ]
    },
    {
     "data": {
      "text/plain": [
       "count     31.000000\n",
       "mean     140.612903\n",
       "std       60.310683\n",
       "min       52.000000\n",
       "25%       96.000000\n",
       "50%      123.000000\n",
       "75%      180.000000\n",
       "max      264.000000\n",
       "Name: hp, dtype: float64"
      ]
     },
     "execution_count": 13,
     "metadata": {},
     "output_type": "execute_result"
    }
   ],
   "source": [
    "print(linreg.predict(1200))\n",
    "CarData.hp.describe()\n"
   ]
  },
  {
   "cell_type": "markdown",
   "metadata": {},
   "source": [
    "Answer: The Jetta is projected to have 17 mpg and the Bugatti is outside of our range so the prediction is not valid."
   ]
  },
  {
   "cell_type": "markdown",
   "metadata": {},
   "source": [
    "#### Now let's work with categorical data"
   ]
  },
  {
   "cell_type": "markdown",
   "metadata": {},
   "source": [
    "Let's first create dummy variables for weight of cars. Let's categorize Cars based on weight. Those cars that are heavier than 75% of cars are going to be called \"Heavy\", those which are heavier than 25% of cars but lighter than the heaviest 25% cars are going to be Called \"Medium\" and finally, the lightest 25% cars are called \"Light\"."
   ]
  },
  {
   "cell_type": "code",
   "execution_count": 14,
   "metadata": {
    "collapsed": false
   },
   "outputs": [
    {
     "data": {
      "text/html": [
       "<div>\n",
       "<table border=\"1\" class=\"dataframe\">\n",
       "  <thead>\n",
       "    <tr style=\"text-align: right;\">\n",
       "      <th></th>\n",
       "      <th>name</th>\n",
       "      <th>mpg</th>\n",
       "      <th>cyl</th>\n",
       "      <th>disp</th>\n",
       "      <th>hp</th>\n",
       "      <th>drat</th>\n",
       "      <th>wt</th>\n",
       "      <th>qsec</th>\n",
       "      <th>vs</th>\n",
       "      <th>am</th>\n",
       "      <th>gear</th>\n",
       "      <th>carb</th>\n",
       "      <th>wt_category</th>\n",
       "    </tr>\n",
       "  </thead>\n",
       "  <tbody>\n",
       "    <tr>\n",
       "      <th>0</th>\n",
       "      <td>Mazda RX4</td>\n",
       "      <td>21.0</td>\n",
       "      <td>6</td>\n",
       "      <td>160</td>\n",
       "      <td>110</td>\n",
       "      <td>3.90</td>\n",
       "      <td>2.620</td>\n",
       "      <td>16.46</td>\n",
       "      <td>0</td>\n",
       "      <td>1</td>\n",
       "      <td>4</td>\n",
       "      <td>4</td>\n",
       "      <td>Medium</td>\n",
       "    </tr>\n",
       "    <tr>\n",
       "      <th>1</th>\n",
       "      <td>Mazda RX4 Wag</td>\n",
       "      <td>21.0</td>\n",
       "      <td>6</td>\n",
       "      <td>160</td>\n",
       "      <td>110</td>\n",
       "      <td>3.90</td>\n",
       "      <td>2.875</td>\n",
       "      <td>17.02</td>\n",
       "      <td>0</td>\n",
       "      <td>1</td>\n",
       "      <td>4</td>\n",
       "      <td>4</td>\n",
       "      <td>Medium</td>\n",
       "    </tr>\n",
       "    <tr>\n",
       "      <th>2</th>\n",
       "      <td>Datsun 710</td>\n",
       "      <td>22.8</td>\n",
       "      <td>4</td>\n",
       "      <td>108</td>\n",
       "      <td>93</td>\n",
       "      <td>3.85</td>\n",
       "      <td>2.320</td>\n",
       "      <td>18.61</td>\n",
       "      <td>1</td>\n",
       "      <td>1</td>\n",
       "      <td>4</td>\n",
       "      <td>1</td>\n",
       "      <td>Light</td>\n",
       "    </tr>\n",
       "    <tr>\n",
       "      <th>3</th>\n",
       "      <td>Hornet 4 Drive</td>\n",
       "      <td>21.4</td>\n",
       "      <td>6</td>\n",
       "      <td>258</td>\n",
       "      <td>110</td>\n",
       "      <td>3.08</td>\n",
       "      <td>3.215</td>\n",
       "      <td>19.44</td>\n",
       "      <td>1</td>\n",
       "      <td>0</td>\n",
       "      <td>3</td>\n",
       "      <td>1</td>\n",
       "      <td>Medium</td>\n",
       "    </tr>\n",
       "    <tr>\n",
       "      <th>4</th>\n",
       "      <td>Hornet Sportabout</td>\n",
       "      <td>18.7</td>\n",
       "      <td>8</td>\n",
       "      <td>360</td>\n",
       "      <td>175</td>\n",
       "      <td>3.15</td>\n",
       "      <td>3.440</td>\n",
       "      <td>17.02</td>\n",
       "      <td>0</td>\n",
       "      <td>0</td>\n",
       "      <td>3</td>\n",
       "      <td>2</td>\n",
       "      <td>Medium</td>\n",
       "    </tr>\n",
       "  </tbody>\n",
       "</table>\n",
       "</div>"
      ],
      "text/plain": [
       "                name   mpg  cyl  disp   hp  drat     wt   qsec  vs  am  gear  \\\n",
       "0          Mazda RX4  21.0    6   160  110  3.90  2.620  16.46   0   1     4   \n",
       "1      Mazda RX4 Wag  21.0    6   160  110  3.90  2.875  17.02   0   1     4   \n",
       "2         Datsun 710  22.8    4   108   93  3.85  2.320  18.61   1   1     4   \n",
       "3     Hornet 4 Drive  21.4    6   258  110  3.08  3.215  19.44   1   0     3   \n",
       "4  Hornet Sportabout  18.7    8   360  175  3.15  3.440  17.02   0   0     3   \n",
       "\n",
       "   carb wt_category  \n",
       "0     4      Medium  \n",
       "1     4      Medium  \n",
       "2     1       Light  \n",
       "3     1      Medium  \n",
       "4     2      Medium  "
      ]
     },
     "execution_count": 14,
     "metadata": {},
     "output_type": "execute_result"
    }
   ],
   "source": [
    "mask_Heavy = (CarData['wt'] > CarData['wt'].quantile(0.75))\n",
    "mask_Light = (CarData['wt'] < CarData['wt'].quantile(0.25))\n",
    "CarData['wt_category'] = 'Medium'\n",
    "CarData.loc[mask_Heavy,'wt_category'] = 'Heavy'\n",
    "CarData.loc[mask_Light,'wt_category'] = 'Light'\n",
    "CarData.head()"
   ]
  },
  {
   "cell_type": "code",
   "execution_count": 15,
   "metadata": {
    "collapsed": false
   },
   "outputs": [
    {
     "data": {
      "text/html": [
       "<div>\n",
       "<table border=\"1\" class=\"dataframe\">\n",
       "  <thead>\n",
       "    <tr style=\"text-align: right;\">\n",
       "      <th></th>\n",
       "      <th>name</th>\n",
       "      <th>mpg</th>\n",
       "      <th>cyl</th>\n",
       "      <th>disp</th>\n",
       "      <th>hp</th>\n",
       "      <th>drat</th>\n",
       "      <th>wt</th>\n",
       "      <th>qsec</th>\n",
       "      <th>vs</th>\n",
       "      <th>am</th>\n",
       "      <th>gear</th>\n",
       "      <th>carb</th>\n",
       "      <th>wt_category</th>\n",
       "      <th>Heavy</th>\n",
       "      <th>Medium</th>\n",
       "    </tr>\n",
       "  </thead>\n",
       "  <tbody>\n",
       "    <tr>\n",
       "      <th>0</th>\n",
       "      <td>Mazda RX4</td>\n",
       "      <td>21.0</td>\n",
       "      <td>6</td>\n",
       "      <td>160</td>\n",
       "      <td>110</td>\n",
       "      <td>3.90</td>\n",
       "      <td>2.620</td>\n",
       "      <td>16.46</td>\n",
       "      <td>0</td>\n",
       "      <td>1</td>\n",
       "      <td>4</td>\n",
       "      <td>4</td>\n",
       "      <td>Medium</td>\n",
       "      <td>0</td>\n",
       "      <td>1</td>\n",
       "    </tr>\n",
       "    <tr>\n",
       "      <th>1</th>\n",
       "      <td>Mazda RX4 Wag</td>\n",
       "      <td>21.0</td>\n",
       "      <td>6</td>\n",
       "      <td>160</td>\n",
       "      <td>110</td>\n",
       "      <td>3.90</td>\n",
       "      <td>2.875</td>\n",
       "      <td>17.02</td>\n",
       "      <td>0</td>\n",
       "      <td>1</td>\n",
       "      <td>4</td>\n",
       "      <td>4</td>\n",
       "      <td>Medium</td>\n",
       "      <td>0</td>\n",
       "      <td>1</td>\n",
       "    </tr>\n",
       "    <tr>\n",
       "      <th>2</th>\n",
       "      <td>Datsun 710</td>\n",
       "      <td>22.8</td>\n",
       "      <td>4</td>\n",
       "      <td>108</td>\n",
       "      <td>93</td>\n",
       "      <td>3.85</td>\n",
       "      <td>2.320</td>\n",
       "      <td>18.61</td>\n",
       "      <td>1</td>\n",
       "      <td>1</td>\n",
       "      <td>4</td>\n",
       "      <td>1</td>\n",
       "      <td>Light</td>\n",
       "      <td>0</td>\n",
       "      <td>0</td>\n",
       "    </tr>\n",
       "    <tr>\n",
       "      <th>3</th>\n",
       "      <td>Hornet 4 Drive</td>\n",
       "      <td>21.4</td>\n",
       "      <td>6</td>\n",
       "      <td>258</td>\n",
       "      <td>110</td>\n",
       "      <td>3.08</td>\n",
       "      <td>3.215</td>\n",
       "      <td>19.44</td>\n",
       "      <td>1</td>\n",
       "      <td>0</td>\n",
       "      <td>3</td>\n",
       "      <td>1</td>\n",
       "      <td>Medium</td>\n",
       "      <td>0</td>\n",
       "      <td>1</td>\n",
       "    </tr>\n",
       "    <tr>\n",
       "      <th>4</th>\n",
       "      <td>Hornet Sportabout</td>\n",
       "      <td>18.7</td>\n",
       "      <td>8</td>\n",
       "      <td>360</td>\n",
       "      <td>175</td>\n",
       "      <td>3.15</td>\n",
       "      <td>3.440</td>\n",
       "      <td>17.02</td>\n",
       "      <td>0</td>\n",
       "      <td>0</td>\n",
       "      <td>3</td>\n",
       "      <td>2</td>\n",
       "      <td>Medium</td>\n",
       "      <td>0</td>\n",
       "      <td>1</td>\n",
       "    </tr>\n",
       "  </tbody>\n",
       "</table>\n",
       "</div>"
      ],
      "text/plain": [
       "                name   mpg  cyl  disp   hp  drat     wt   qsec  vs  am  gear  \\\n",
       "0          Mazda RX4  21.0    6   160  110  3.90  2.620  16.46   0   1     4   \n",
       "1      Mazda RX4 Wag  21.0    6   160  110  3.90  2.875  17.02   0   1     4   \n",
       "2         Datsun 710  22.8    4   108   93  3.85  2.320  18.61   1   1     4   \n",
       "3     Hornet 4 Drive  21.4    6   258  110  3.08  3.215  19.44   1   0     3   \n",
       "4  Hornet Sportabout  18.7    8   360  175  3.15  3.440  17.02   0   0     3   \n",
       "\n",
       "   carb wt_category  Heavy  Medium  \n",
       "0     4      Medium      0       1  \n",
       "1     4      Medium      0       1  \n",
       "2     1       Light      0       0  \n",
       "3     1      Medium      0       1  \n",
       "4     2      Medium      0       1  "
      ]
     },
     "execution_count": 15,
     "metadata": {},
     "output_type": "execute_result"
    }
   ],
   "source": [
    "WeightDummy = pd.get_dummies(CarData.wt_category)\n",
    "del WeightDummy['Light']\n",
    "CarData = pd.concat([CarData,WeightDummy],axis = 1)\n",
    "CarData.head()"
   ]
  },
  {
   "cell_type": "code",
   "execution_count": 16,
   "metadata": {
    "collapsed": false
   },
   "outputs": [
    {
     "data": {
      "text/plain": [
       "<matplotlib.axes._subplots.AxesSubplot at 0x113f61c50>"
      ]
     },
     "execution_count": 16,
     "metadata": {},
     "output_type": "execute_result"
    },
    {
     "data": {
      "image/png": "iVBORw0KGgoAAAANSUhEUgAAAe4AAAF3CAYAAABjfqjdAAAABHNCSVQICAgIfAhkiAAAAAlwSFlz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\nK0IDeQAAAABJRU5ErkJggg==\n",
      "text/plain": [
       "<matplotlib.figure.Figure at 0x112e65b10>"
      ]
     },
     "metadata": {},
     "output_type": "display_data"
    }
   ],
   "source": [
    "#Now let's visualize association between mpg and weight\n",
    "CarData.boxplot(column = 'mpg', by = 'wt_category') "
   ]
  },
  {
   "cell_type": "markdown",
   "metadata": {},
   "source": [
    "#### Does the abox boxplot make sense? Why it does or why it does not?"
   ]
  },
  {
   "cell_type": "markdown",
   "metadata": {},
   "source": [
    "Answer: Lighter cars have better mpg, which makes sense"
   ]
  },
  {
   "cell_type": "markdown",
   "metadata": {},
   "source": [
    "#### Apply a multivariable regression line to discover relationship between mpg and weight categories. Print your outcomes."
   ]
  },
  {
   "cell_type": "code",
   "execution_count": 17,
   "metadata": {
    "collapsed": false
   },
   "outputs": [
    {
     "name": "stdout",
     "output_type": "stream",
     "text": [
      "28.0875\n",
      "[ -9.00083333 -13.475     ]\n"
     ]
    }
   ],
   "source": [
    "X=CarData[['Medium','Heavy']]\n",
    "y=CarData['mpg']\n",
    "from sklearn.linear_model import LinearRegression  #import\n",
    "linreg = LinearRegression() #Instantiate\n",
    "linreg.fit(X,y)     #Fit the line on the variables\n",
    "print(linreg.intercept_)\n",
    "print(linreg.coef_)\n"
   ]
  },
  {
   "cell_type": "markdown",
   "metadata": {},
   "source": [
    "#### Write your regression line"
   ]
  },
  {
   "cell_type": "markdown",
   "metadata": {},
   "source": [
    "Answer: mpg = 28.075-9*Medium - 13.475*Heavy"
   ]
  },
  {
   "cell_type": "markdown",
   "metadata": {},
   "source": [
    "#### Please interpret your above results"
   ]
  },
  {
   "cell_type": "markdown",
   "metadata": {},
   "source": [
    "Answer: mpg average is 28 when Light, but 19 mpg when Medium and 15 mpg  when Heavy"
   ]
  },
  {
   "cell_type": "markdown",
   "metadata": {},
   "source": [
    "** Without using perdict function, predict the average mpg of light, heavy and medium cars **"
   ]
  },
  {
   "cell_type": "markdown",
   "metadata": {},
   "source": [
    "Answer:\n"
   ]
  },
  {
   "cell_type": "markdown",
   "metadata": {},
   "source": [
    "** Now let's use predict function to predict mpg for light, heavy and medium cars **"
   ]
  },
  {
   "cell_type": "code",
   "execution_count": 20,
   "metadata": {
    "collapsed": false
   },
   "outputs": [
    {
     "name": "stdout",
     "output_type": "stream",
     "text": [
      "('Light', array([ 28.0875]))\n",
      "('Medium', array([ 19.08666667]))\n",
      "('Heavy', array([ 14.6125]))\n"
     ]
    },
    {
     "name": "stderr",
     "output_type": "stream",
     "text": [
      "/Users/karla/anaconda/lib/python2.7/site-packages/sklearn/utils/validation.py:386: DeprecationWarning: Passing 1d arrays as data is deprecated in 0.17 and willraise ValueError in 0.19. Reshape your data either using X.reshape(-1, 1) if your data has a single feature or X.reshape(1, -1) if it contains a single sample.\n",
      "  DeprecationWarning)\n",
      "/Users/karla/anaconda/lib/python2.7/site-packages/sklearn/utils/validation.py:386: DeprecationWarning: Passing 1d arrays as data is deprecated in 0.17 and willraise ValueError in 0.19. Reshape your data either using X.reshape(-1, 1) if your data has a single feature or X.reshape(1, -1) if it contains a single sample.\n",
      "  DeprecationWarning)\n",
      "/Users/karla/anaconda/lib/python2.7/site-packages/sklearn/utils/validation.py:386: DeprecationWarning: Passing 1d arrays as data is deprecated in 0.17 and willraise ValueError in 0.19. Reshape your data either using X.reshape(-1, 1) if your data has a single feature or X.reshape(1, -1) if it contains a single sample.\n",
      "  DeprecationWarning)\n"
     ]
    }
   ],
   "source": [
    "print('Light',linreg.predict([0,0])) \n",
    "\n",
    "print('Medium',linreg.predict([1,0])) \n",
    "\n",
    "print('Heavy',linreg.predict([0,1])) \n",
    "\n"
   ]
  },
  {
   "cell_type": "code",
   "execution_count": null,
   "metadata": {
    "collapsed": true
   },
   "outputs": [],
   "source": []
  }
 ],
 "metadata": {
  "kernelspec": {
   "display_name": "Python 2",
   "language": "python",
   "name": "python2"
  },
  "language_info": {
   "codemirror_mode": {
    "name": "ipython",
    "version": 2
   },
   "file_extension": ".py",
   "mimetype": "text/x-python",
   "name": "python",
   "nbconvert_exporter": "python",
   "pygments_lexer": "ipython2",
   "version": "2.7.11"
  }
 },
 "nbformat": 4,
 "nbformat_minor": 0
}
