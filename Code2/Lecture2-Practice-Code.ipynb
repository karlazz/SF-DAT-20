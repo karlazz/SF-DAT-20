{
 "cells": [
  {
   "cell_type": "markdown",
   "metadata": {},
   "source": [
    "# Lesson 2 Lab:  Practical Pandas"
   ]
  },
  {
   "cell_type": "markdown",
   "metadata": {},
   "source": [
    "_This is a quiz given in Roger Peng [Coursera](https://www.coursera.org) class [Computing for Data Analysis](https://www.coursera.org/course/compdata).  _\n",
    "\n",
    "_Sourced from [Research Computing MeetUp's](https://github.com/ResearchComputing/Meetup-Fall-2013) Python course._\n"
   ]
  },
  {
   "cell_type": "code",
   "execution_count": 5,
   "metadata": {
    "collapsed": false
   },
   "outputs": [],
   "source": [
    "import pandas as pd\n",
    "import os\n",
    "os.chdir('/Users/karla/SF-dat/SF-DAT-20/Data/') #PLEASE SET THIS WORKING DIRECTORY TO YOURS\n",
    "data = pd.read_csv('ozone.csv')"
   ]
  },
  {
   "cell_type": "code",
   "execution_count": 6,
   "metadata": {
    "collapsed": false
   },
   "outputs": [
    {
     "name": "stdout",
     "output_type": "stream",
     "text": [
      "   Ozone  Solar.R  Wind  Temp  Month  Day\n",
      "0     41      190   7.4    67      5    1\n",
      "1     36      118   8.0    72      5    2\n",
      "2     12      149  12.6    74      5    3\n",
      "3     18      313  11.5    62      5    4\n",
      "4    NaN      NaN  14.3    56      5    5\n"
     ]
    }
   ],
   "source": [
    "print data.head()"
   ]
  },
  {
   "cell_type": "markdown",
   "metadata": {},
   "source": [
    "Print the column names of the dataset to the screen, one column name per line.  "
   ]
  },
  {
   "cell_type": "code",
   "execution_count": 8,
   "metadata": {
    "collapsed": false
   },
   "outputs": [
    {
     "name": "stdout",
     "output_type": "stream",
     "text": [
      "Ozone\n",
      "Solar.R\n",
      "Wind\n",
      "Temp\n",
      "Month\n",
      "Day\n"
     ]
    }
   ],
   "source": [
    "for x in data.columns.values:\n",
    "    print x\n"
   ]
  },
  {
   "cell_type": "markdown",
   "metadata": {},
   "source": [
    "Extract the first 2 rows of the data frame and print them to the console. What does the output\n",
    "look like?"
   ]
  },
  {
   "cell_type": "code",
   "execution_count": 16,
   "metadata": {
    "collapsed": false
   },
   "outputs": [
    {
     "name": "stdout",
     "output_type": "stream",
     "text": [
      "   Ozone  Solar.R  Wind  Temp  Month  Day\n",
      "0     41      190   7.4    67      5    1\n",
      "1     36      118   8.0    72      5    2\n",
      "   Ozone  Solar.R  Wind  Temp  Month  Day\n",
      "0     41      190   7.4    67      5    1\n",
      "1     36      118   8.0    72      5    2\n"
     ]
    }
   ],
   "source": [
    "a=data[:2]\n",
    "n=data.head(2)\n",
    "print a\n",
    "print n\n",
    "\n"
   ]
  },
  {
   "cell_type": "markdown",
   "metadata": {},
   "source": [
    "How many observations (i.e. rows) are in this data frame?"
   ]
  },
  {
   "cell_type": "code",
   "execution_count": 14,
   "metadata": {
    "collapsed": false
   },
   "outputs": [
    {
     "data": {
      "text/plain": [
       "153"
      ]
     },
     "execution_count": 14,
     "metadata": {},
     "output_type": "execute_result"
    }
   ],
   "source": [
    "\n",
    "data.shape[0]"
   ]
  },
  {
   "cell_type": "markdown",
   "metadata": {},
   "source": [
    "Extract the last 2 rows of the data frame and print them to the console. What does the output\n",
    "look like?"
   ]
  },
  {
   "cell_type": "code",
   "execution_count": 18,
   "metadata": {
    "collapsed": false
   },
   "outputs": [
    {
     "name": "stdout",
     "output_type": "stream",
     "text": [
      "     Ozone  Solar.R  Wind  Temp  Month  Day\n",
      "151     18      131   8.0    76      9   29\n",
      "152     20      223  11.5    68      9   30\n",
      "     Ozone  Solar.R  Wind  Temp  Month  Day\n",
      "151     18      131   8.0    76      9   29\n",
      "152     20      223  11.5    68      9   30\n"
     ]
    }
   ],
   "source": [
    "a=data[-2:]\n",
    "n=data.tail(2)\n",
    "print a\n",
    "print n\n"
   ]
  },
  {
   "cell_type": "markdown",
   "metadata": {},
   "source": [
    "What is the value of Ozone in the 47th row?"
   ]
  },
  {
   "cell_type": "code",
   "execution_count": 21,
   "metadata": {
    "collapsed": false
   },
   "outputs": [
    {
     "name": "stdout",
     "output_type": "stream",
     "text": [
      "21.0\n"
     ]
    }
   ],
   "source": [
    "print data.Ozone[46]"
   ]
  },
  {
   "cell_type": "markdown",
   "metadata": {},
   "source": [
    "How many missing values are in the Ozone column of this data frame?"
   ]
  },
  {
   "cell_type": "code",
   "execution_count": 39,
   "metadata": {
    "collapsed": false
   },
   "outputs": [
    {
     "data": {
      "text/plain": [
       "37"
      ]
     },
     "execution_count": 39,
     "metadata": {},
     "output_type": "execute_result"
    }
   ],
   "source": [
    "data.Ozone.isnull().sum()"
   ]
  },
  {
   "cell_type": "markdown",
   "metadata": {},
   "source": [
    "What is the mean of the Ozone column in this dataset? Exclude missing values (coded as NA)\n",
    "from this calculation."
   ]
  },
  {
   "cell_type": "code",
   "execution_count": 42,
   "metadata": {
    "collapsed": false
   },
   "outputs": [
    {
     "name": "stdout",
     "output_type": "stream",
     "text": [
      "42.1293103448\n"
     ]
    },
    {
     "data": {
      "text/plain": [
       "count    116.000000\n",
       "mean      42.129310\n",
       "std       32.987885\n",
       "min        1.000000\n",
       "25%       18.000000\n",
       "50%       31.500000\n",
       "75%       63.250000\n",
       "max      168.000000\n",
       "Name: Ozone, dtype: float64"
      ]
     },
     "execution_count": 42,
     "metadata": {},
     "output_type": "execute_result"
    }
   ],
   "source": [
    "a=data.Ozone.sum()/data.Ozone.count()\n",
    "print a\n",
    "data.Ozone.describe()\n"
   ]
  },
  {
   "cell_type": "markdown",
   "metadata": {},
   "source": [
    "Extract the subset of rows of the data frame where Ozone values are above 31 and Temp values\n",
    "are above 90. What is the mean of Solar.R in this subset?"
   ]
  },
  {
   "cell_type": "code",
   "execution_count": 57,
   "metadata": {
    "collapsed": false
   },
   "outputs": [
    {
     "name": "stdout",
     "output_type": "stream",
     "text": [
      "     Ozone  Temp\n",
      "0       41    67\n",
      "1       36    72\n",
      "2       12    74\n",
      "3       18    62\n",
      "4      NaN    56\n",
      "5       28    66\n",
      "6       23    65\n",
      "7       19    59\n",
      "8        8    61\n",
      "9      NaN    69\n",
      "10       7    74\n",
      "11      16    69\n",
      "12      11    66\n",
      "13      14    68\n",
      "14      18    58\n",
      "15      14    64\n",
      "16      34    66\n",
      "17       6    57\n",
      "18      30    68\n",
      "19      11    62\n",
      "20       1    59\n",
      "21      11    73\n",
      "22       4    61\n",
      "23      32    61\n",
      "24     NaN    57\n",
      "25     NaN    58\n",
      "26     NaN    57\n",
      "27      23    67\n",
      "28      45    81\n",
      "29     115    79\n",
      "..     ...   ...\n",
      "123     96    91\n",
      "124     78    92\n",
      "125     73    93\n",
      "126     91    93\n",
      "127     47    87\n",
      "128     32    84\n",
      "129     20    80\n",
      "130     23    78\n",
      "131     21    75\n",
      "132     24    73\n",
      "133     44    81\n",
      "134     21    76\n",
      "135     28    77\n",
      "136      9    71\n",
      "137     13    71\n",
      "138     46    78\n",
      "139     18    67\n",
      "140     13    76\n",
      "141     24    68\n",
      "142     16    82\n",
      "143     13    64\n",
      "144     23    71\n",
      "145     36    81\n",
      "146      7    69\n",
      "147     14    63\n",
      "148     30    70\n",
      "149    NaN    77\n",
      "150     14    75\n",
      "151     18    76\n",
      "152     20    68\n",
      "\n",
      "[153 rows x 2 columns]\n"
     ]
    }
   ],
   "source": [
    "a=data[(data.Temp > 90) | (data.Ozone > 31)]\n",
    "a['Solar.R'].mean()\n",
    "g=data[['Ozone','Temp']]\n",
    "print g"
   ]
  },
  {
   "cell_type": "markdown",
   "metadata": {},
   "source": [
    "What is the mean of \"Temp\" when \"Month\" is equal to 6?"
   ]
  },
  {
   "cell_type": "code",
   "execution_count": 51,
   "metadata": {
    "collapsed": false
   },
   "outputs": [
    {
     "data": {
      "text/plain": [
       "79.1"
      ]
     },
     "execution_count": 51,
     "metadata": {},
     "output_type": "execute_result"
    }
   ],
   "source": [
    "b=data[data.Month==6]\n",
    "b.Temp.mean()"
   ]
  },
  {
   "cell_type": "markdown",
   "metadata": {},
   "source": [
    "What was the maximum ozone value in the month of May (i.e. Month = 5)?"
   ]
  },
  {
   "cell_type": "code",
   "execution_count": 52,
   "metadata": {
    "collapsed": false
   },
   "outputs": [
    {
     "data": {
      "text/plain": [
       "115.0"
      ]
     },
     "execution_count": 52,
     "metadata": {},
     "output_type": "execute_result"
    }
   ],
   "source": [
    "c=data[data.Month==5]\n",
    "c.Ozone.max()"
   ]
  },
  {
   "cell_type": "code",
   "execution_count": 56,
   "metadata": {
    "collapsed": false
   },
   "outputs": [
    {
     "data": {
      "text/plain": [
       "Ozone       9\n",
       "Solar.R    30\n",
       "Wind       30\n",
       "Temp       30\n",
       "Month      30\n",
       "Day        30\n",
       "dtype: int64"
      ]
     },
     "execution_count": 56,
     "metadata": {},
     "output_type": "execute_result"
    }
   ],
   "source": [
    "b.count()"
   ]
  },
  {
   "cell_type": "markdown",
   "metadata": {},
   "source": [
    "# Next Steps\n",
    "\n",
    "**Recommended Resources**\n",
    "\n",
    "Name | Description\n",
    "--- | ---\n",
    "[Official Pandas Tutorials](http://pandas.pydata.org/pandas-docs/stable/tutorials.html) | Wes & Company's selection of tutorials and lectures\n",
    "[Julia Evans Pandas Cookbook](https://github.com/jvns/pandas-cookbook) | Great resource with eamples from weather, bikes and 311 calls\n",
    "[Learn Pandas Tutorials](https://bitbucket.org/hrojas/learn-pandas) | A great series of Pandas tutorials from Dave Rojas\n",
    "[Research Computing Python Data PYNBs](https://github.com/ResearchComputing/Meetup-Fall-2013/tree/master/python) | A super awesome set of python notebooks from a meetup-based course exclusively devoted to pandas"
   ]
  }
 ],
 "metadata": {
  "kernelspec": {
   "display_name": "Python 2",
   "language": "python",
   "name": "python2"
  },
  "language_info": {
   "codemirror_mode": {
    "name": "ipython",
    "version": 2
   },
   "file_extension": ".py",
   "mimetype": "text/x-python",
   "name": "python",
   "nbconvert_exporter": "python",
   "pygments_lexer": "ipython2",
   "version": "2.7.11"
  }
 },
 "nbformat": 4,
 "nbformat_minor": 0
}
