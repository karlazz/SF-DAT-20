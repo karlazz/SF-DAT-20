{
 "cells": [
  {
   "cell_type": "code",
   "execution_count": 94,
   "metadata": {
    "collapsed": false
   },
   "outputs": [
    {
     "name": "stdout",
     "output_type": "stream",
     "text": [
      "6695\n",
      "       agecat_Adult  agecat_Baby  agecat_Senior  agecat_Young\n",
      "count   6695.000000  6695.000000    6695.000000   6695.000000\n",
      "mean       0.497386     0.123226       0.082599      0.296789\n",
      "std        0.500031     0.328721       0.275296      0.456877\n",
      "min        0.000000     0.000000       0.000000      0.000000\n",
      "25%        0.000000     0.000000       0.000000      0.000000\n",
      "50%        0.000000     0.000000       0.000000      0.000000\n",
      "75%        1.000000     0.000000       0.000000      1.000000\n",
      "max        1.000000     1.000000       1.000000      1.000000\n",
      "count    6695.000000\n",
      "mean        0.924720\n",
      "std         0.263862\n",
      "min         0.000000\n",
      "25%         1.000000\n",
      "50%         1.000000\n",
      "75%         1.000000\n",
      "max         1.000000\n",
      "Name: shortlist, dtype: float64\n"
     ]
    }
   ],
   "source": [
    "import numpy as np\n",
    "import pandas as pd\n",
    "import matplotlib as plt\n",
    "from sklearn.feature_extraction.text import CountVectorizer,TfidfVectorizer\n",
    "\n",
    "\n",
    "df3=pd.read_csv('pupfile_ready402.xls','\\t') \n",
    "print df3.batch.count()\n",
    "dummy_ac=pd.get_dummies(df3.Age_Cat, prefix='agecat')\n",
    "print dummy_ac.describe()\n",
    "del dummy_ac['agecat_Baby']\n",
    "df3 = df3.join(dummy_ac)\n",
    "\n",
    "\n",
    "\n",
    "df3['shortlist'] = [1 if x<40 else 0 for x in df3['days_on_site']]\n",
    "print df3['shortlist'].describe()"
   ]
  },
  {
   "cell_type": "code",
   "execution_count": 95,
   "metadata": {
    "collapsed": false
   },
   "outputs": [
    {
     "name": "stdout",
     "output_type": "stream",
     "text": [
      "(6695, 20)\n",
      "[0 0 0 0 0 0 0 0 0 0 0 1 0 0 0 0 0 0 0 1]\n"
     ]
    }
   ],
   "source": [
    "from sklearn.feature_extraction.text import CountVectorizer,TfidfVectorizer\n",
    "count_vect = CountVectorizer(stop_words='english', max_features=20)\n",
    "breed_words = count_vect.fit_transform(df3['Breed']).toarray()\n",
    "print breed_words.shape\n",
    "print breed_words[4]\n",
    "\n",
    "bw=pd.DataFrame(data=breed_words, columns=count_vect.get_feature_names())\n",
    "df=df3[['shortlist','sentiment','days_on_site','Description']].join(bw)\n"
   ]
  },
  {
   "cell_type": "code",
   "execution_count": 96,
   "metadata": {
    "collapsed": false
   },
   "outputs": [
    {
     "data": {
      "text/html": [
       "<div>\n",
       "<table border=\"1\" class=\"dataframe\">\n",
       "  <thead>\n",
       "    <tr style=\"text-align: right;\">\n",
       "      <th></th>\n",
       "      <th>shortlist</th>\n",
       "      <th>sentiment</th>\n",
       "      <th>days_on_site</th>\n",
       "      <th>Description</th>\n",
       "      <th>american</th>\n",
       "      <th>australian</th>\n",
       "      <th>boxer</th>\n",
       "      <th>bull</th>\n",
       "      <th>bulldog</th>\n",
       "      <th>chihuahua</th>\n",
       "      <th>...</th>\n",
       "      <th>miniature</th>\n",
       "      <th>mix</th>\n",
       "      <th>mutt</th>\n",
       "      <th>pit</th>\n",
       "      <th>poodle</th>\n",
       "      <th>retriever</th>\n",
       "      <th>shepherd</th>\n",
       "      <th>staffordshire</th>\n",
       "      <th>terrier</th>\n",
       "      <th>unknown</th>\n",
       "    </tr>\n",
       "  </thead>\n",
       "  <tbody>\n",
       "    <tr>\n",
       "      <th>0</th>\n",
       "      <td>1</td>\n",
       "      <td>0.174038</td>\n",
       "      <td>0</td>\n",
       "      <td>Adopting A Shelter Dog These dogs come without...</td>\n",
       "      <td>0</td>\n",
       "      <td>0</td>\n",
       "      <td>0</td>\n",
       "      <td>0</td>\n",
       "      <td>0</td>\n",
       "      <td>0</td>\n",
       "      <td>...</td>\n",
       "      <td>0</td>\n",
       "      <td>1</td>\n",
       "      <td>0</td>\n",
       "      <td>0</td>\n",
       "      <td>0</td>\n",
       "      <td>0</td>\n",
       "      <td>0</td>\n",
       "      <td>0</td>\n",
       "      <td>0</td>\n",
       "      <td>1</td>\n",
       "    </tr>\n",
       "    <tr>\n",
       "      <th>1</th>\n",
       "      <td>1</td>\n",
       "      <td>0.258461</td>\n",
       "      <td>0</td>\n",
       "      <td>Please contact Denise (ramonahumanesociety@yah...</td>\n",
       "      <td>0</td>\n",
       "      <td>0</td>\n",
       "      <td>0</td>\n",
       "      <td>0</td>\n",
       "      <td>0</td>\n",
       "      <td>1</td>\n",
       "      <td>...</td>\n",
       "      <td>0</td>\n",
       "      <td>0</td>\n",
       "      <td>0</td>\n",
       "      <td>0</td>\n",
       "      <td>0</td>\n",
       "      <td>0</td>\n",
       "      <td>0</td>\n",
       "      <td>0</td>\n",
       "      <td>0</td>\n",
       "      <td>0</td>\n",
       "    </tr>\n",
       "    <tr>\n",
       "      <th>2</th>\n",
       "      <td>1</td>\n",
       "      <td>0.313317</td>\n",
       "      <td>0</td>\n",
       "      <td>Meet Willow! She is an adorable loving 3 year ...</td>\n",
       "      <td>0</td>\n",
       "      <td>0</td>\n",
       "      <td>0</td>\n",
       "      <td>0</td>\n",
       "      <td>0</td>\n",
       "      <td>0</td>\n",
       "      <td>...</td>\n",
       "      <td>0</td>\n",
       "      <td>1</td>\n",
       "      <td>0</td>\n",
       "      <td>0</td>\n",
       "      <td>0</td>\n",
       "      <td>1</td>\n",
       "      <td>0</td>\n",
       "      <td>0</td>\n",
       "      <td>0</td>\n",
       "      <td>1</td>\n",
       "    </tr>\n",
       "    <tr>\n",
       "      <th>3</th>\n",
       "      <td>1</td>\n",
       "      <td>0.443125</td>\n",
       "      <td>0</td>\n",
       "      <td>www.fieldofdreamrescue.net Email; fieldofdream...</td>\n",
       "      <td>0</td>\n",
       "      <td>0</td>\n",
       "      <td>0</td>\n",
       "      <td>0</td>\n",
       "      <td>0</td>\n",
       "      <td>1</td>\n",
       "      <td>...</td>\n",
       "      <td>0</td>\n",
       "      <td>1</td>\n",
       "      <td>0</td>\n",
       "      <td>0</td>\n",
       "      <td>0</td>\n",
       "      <td>0</td>\n",
       "      <td>0</td>\n",
       "      <td>0</td>\n",
       "      <td>0</td>\n",
       "      <td>1</td>\n",
       "    </tr>\n",
       "    <tr>\n",
       "      <th>4</th>\n",
       "      <td>1</td>\n",
       "      <td>0.280000</td>\n",
       "      <td>0</td>\n",
       "      <td>United Hope for Animals (UHA) is a volunteer g...</td>\n",
       "      <td>0</td>\n",
       "      <td>0</td>\n",
       "      <td>0</td>\n",
       "      <td>0</td>\n",
       "      <td>0</td>\n",
       "      <td>0</td>\n",
       "      <td>...</td>\n",
       "      <td>0</td>\n",
       "      <td>1</td>\n",
       "      <td>0</td>\n",
       "      <td>0</td>\n",
       "      <td>0</td>\n",
       "      <td>0</td>\n",
       "      <td>0</td>\n",
       "      <td>0</td>\n",
       "      <td>0</td>\n",
       "      <td>1</td>\n",
       "    </tr>\n",
       "  </tbody>\n",
       "</table>\n",
       "<p>5 rows × 24 columns</p>\n",
       "</div>"
      ],
      "text/plain": [
       "   shortlist  sentiment  days_on_site  \\\n",
       "0          1   0.174038             0   \n",
       "1          1   0.258461             0   \n",
       "2          1   0.313317             0   \n",
       "3          1   0.443125             0   \n",
       "4          1   0.280000             0   \n",
       "\n",
       "                                         Description  american  australian  \\\n",
       "0  Adopting A Shelter Dog These dogs come without...         0           0   \n",
       "1  Please contact Denise (ramonahumanesociety@yah...         0           0   \n",
       "2  Meet Willow! She is an adorable loving 3 year ...         0           0   \n",
       "3  www.fieldofdreamrescue.net Email; fieldofdream...         0           0   \n",
       "4  United Hope for Animals (UHA) is a volunteer g...         0           0   \n",
       "\n",
       "   boxer  bull  bulldog  chihuahua   ...     miniature  mix  mutt  pit  \\\n",
       "0      0     0        0          0   ...             0    1     0    0   \n",
       "1      0     0        0          1   ...             0    0     0    0   \n",
       "2      0     0        0          0   ...             0    1     0    0   \n",
       "3      0     0        0          1   ...             0    1     0    0   \n",
       "4      0     0        0          0   ...             0    1     0    0   \n",
       "\n",
       "   poodle  retriever  shepherd  staffordshire  terrier  unknown  \n",
       "0       0          0         0              0        0        1  \n",
       "1       0          0         0              0        0        0  \n",
       "2       0          1         0              0        0        1  \n",
       "3       0          0         0              0        0        1  \n",
       "4       0          0         0              0        0        1  \n",
       "\n",
       "[5 rows x 24 columns]"
      ]
     },
     "execution_count": 96,
     "metadata": {},
     "output_type": "execute_result"
    }
   ],
   "source": [
    "df.head()"
   ]
  },
  {
   "cell_type": "code",
   "execution_count": 97,
   "metadata": {
    "collapsed": false
   },
   "outputs": [
    {
     "name": "stdout",
     "output_type": "stream",
     "text": [
      "count    5213.000000\n",
      "mean        0.238949\n",
      "std         0.100025\n",
      "min        -0.035556\n",
      "25%         0.172225\n",
      "50%         0.235185\n",
      "75%         0.302874\n",
      "max         0.510000\n",
      "Name: sentiment, dtype: float64\n"
     ]
    }
   ],
   "source": [
    "df=df[df.Description.notnull()]\n",
    "Q1 = df.sentiment.quantile(0.25)\n",
    "Q3 = df.sentiment.quantile(0.75)\n",
    "IQR = Q3 - Q1\n",
    "df.drop(df[df['sentiment'] > (Q3 + 1.5*IQR)].index, inplace = True)\n",
    "df.drop(df[df['sentiment'] < (Q1 - 1.5*IQR)].index, inplace = True)\n",
    "print df.sentiment.describe()\n",
    "df['sense']=[0 if x<.241 else 1 for x in df['sentiment']]"
   ]
  },
  {
   "cell_type": "code",
   "execution_count": 98,
   "metadata": {
    "collapsed": false
   },
   "outputs": [
    {
     "data": {
      "text/plain": [
       "count    5213.000000\n",
       "mean        0.477268\n",
       "std         0.499531\n",
       "min         0.000000\n",
       "25%         0.000000\n",
       "50%         0.000000\n",
       "75%         1.000000\n",
       "max         1.000000\n",
       "Name: sense, dtype: float64"
      ]
     },
     "execution_count": 98,
     "metadata": {},
     "output_type": "execute_result"
    }
   ],
   "source": [
    "df.sense.describe()"
   ]
  },
  {
   "cell_type": "code",
   "execution_count": 99,
   "metadata": {
    "collapsed": false
   },
   "outputs": [
    {
     "data": {
      "text/plain": [
       "array(['shortlist', 'sentiment', 'days_on_site', 'Description',\n",
       "       u'american', u'australian', u'boxer', u'bull', u'bulldog',\n",
       "       u'chihuahua', u'dachshund', u'dog', u'german', u'labrador',\n",
       "       u'miniature', u'mix', u'mutt', u'pit', u'poodle', u'retriever',\n",
       "       u'shepherd', u'staffordshire', u'terrier', u'unknown', 'sense'], dtype=object)"
      ]
     },
     "execution_count": 99,
     "metadata": {},
     "output_type": "execute_result"
    }
   ],
   "source": [
    "df.columns.values"
   ]
  },
  {
   "cell_type": "code",
   "execution_count": 100,
   "metadata": {
    "collapsed": false
   },
   "outputs": [
    {
     "name": "stdout",
     "output_type": "stream",
     "text": [
      "['shortlist' 'sentiment' u'american' u'australian' u'boxer' u'bull'\n",
      " u'bulldog' u'chihuahua' u'dachshund' u'dog' u'german' u'labrador'\n",
      " u'miniature' u'mix' u'mutt' u'pit' u'poodle' u'retriever' u'shepherd'\n",
      " u'staffordshire' u'terrier' u'unknown' 'sense']\n"
     ]
    },
    {
     "data": {
      "text/plain": [
       "array([u'american', u'australian', u'boxer', u'bull', u'bulldog',\n",
       "       u'chihuahua', u'dachshund', u'dog', u'german', u'labrador',\n",
       "       u'miniature', u'mix', u'mutt', u'pit', u'poodle', u'retriever',\n",
       "       u'shepherd', u'staffordshire', u'terrier', u'unknown'], dtype=object)"
      ]
     },
     "execution_count": 100,
     "metadata": {},
     "output_type": "execute_result"
    }
   ],
   "source": [
    "df=df.drop(['Description','days_on_site'],axis=1)\n",
    "print df.columns.values\n",
    "y=df.sense\n",
    "X=df.copy()\n",
    "X=X.drop(['shortlist','sentiment','sense'], axis=1)\n",
    "X.columns.values"
   ]
  },
  {
   "cell_type": "code",
   "execution_count": 101,
   "metadata": {
    "collapsed": true
   },
   "outputs": [],
   "source": [
    "from sklearn import cross_validation\n",
    "from sklearn.linear_model import LogisticRegression\n",
    "from sklearn.naive_bayes import BernoulliNB\n",
    "from sklearn.ensemble import RandomForestClassifier\n",
    "from sklearn.ensemble import VotingClassifier  #VotingClassifier is part of sklearn.ensemble\n"
   ]
  },
  {
   "cell_type": "code",
   "execution_count": 102,
   "metadata": {
    "collapsed": false
   },
   "outputs": [
    {
     "name": "stdout",
     "output_type": "stream",
     "text": [
      "0.477268367543\n"
     ]
    }
   ],
   "source": [
    "clf1 = LogisticRegression()\n",
    "clf2 = RandomForestClassifier(max_depth=5, n_estimators = 3000)\n",
    "clf3 = BernoulliNB()\n",
    "print y.mean()"
   ]
  },
  {
   "cell_type": "code",
   "execution_count": 103,
   "metadata": {
    "collapsed": false
   },
   "outputs": [
    {
     "name": "stdout",
     "output_type": "stream",
     "text": [
      "0.54324724806\n",
      "0.560718887197\n",
      "0.546330810922\n",
      "0.547284252947\n"
     ]
    }
   ],
   "source": [
    "eclf = VotingClassifier(estimators=[('lr', clf1), ('rf', clf2), ('bnb', clf3)], voting='hard')\n",
    "for clf in [clf1,clf2,clf3,eclf]:\n",
    "    scores = cross_validation.cross_val_score(clf, X, y, cv=10, scoring='accuracy')\n",
    "    print scores.mean()"
   ]
  },
  {
   "cell_type": "code",
   "execution_count": 104,
   "metadata": {
    "collapsed": false
   },
   "outputs": [
    {
     "name": "stdout",
     "output_type": "stream",
     "text": [
      "american 0.150879268604 0.162856256348\n",
      "australian 0.209864408783 0.233510795387\n",
      "boxer 0.25358858199 0.28864152486\n",
      "bull -0.274772750958 -0.240255245123\n",
      "bulldog 0.134717782773 0.144213821929\n",
      "chihuahua -0.404887814257 -0.332948359655\n",
      "dachshund 0.323712047147 0.3822492272\n",
      "dog -0.626845029312 -0.465725234016\n",
      "german 0.499033362951 0.64712832566\n",
      "labrador 0.3146286299 0.369750532098\n",
      "miniature 0.0397036999804 0.0405024276234\n",
      "mix 0.000838631408612 0.000838983158254\n",
      "mutt 0.322279827105 0.38027095915\n",
      "pit 0.467316656371 0.59570661409\n",
      "poodle 0.0739092606891 0.0767091012216\n",
      "retriever -0.00351204856135 -0.00350588853235\n",
      "shepherd -0.0614876696606 -0.0596354593181\n",
      "staffordshire 0.467042656607 0.595269450748\n",
      "terrier 0.124221775639 0.132266952383\n",
      "unknown 0.122058017331 0.129819648999\n"
     ]
    }
   ],
   "source": [
    "clf1.fit(X,y)\n",
    "L=X.columns.values\n",
    "for i in range(0,L.size):\n",
    "    print L[i], clf1.coef_[0][i], np.exp(clf1.coef_[0][i]) - 1\n"
   ]
  },
  {
   "cell_type": "code",
   "execution_count": 105,
   "metadata": {
    "collapsed": false
   },
   "outputs": [
    {
     "data": {
      "text/plain": [
       "array([[1634, 1091],\n",
       "       [1153, 1335]])"
      ]
     },
     "execution_count": 105,
     "metadata": {},
     "output_type": "execute_result"
    }
   ],
   "source": [
    "from sklearn.metrics import confusion_matrix\n",
    "y_hat = clf1.predict(X)\n",
    "confusion_matrix(y,y_hat)\n"
   ]
  },
  {
   "cell_type": "code",
   "execution_count": 106,
   "metadata": {
    "collapsed": false
   },
   "outputs": [
    {
     "data": {
      "text/html": [
       "<div>\n",
       "<table border=\"1\" class=\"dataframe\">\n",
       "  <thead>\n",
       "    <tr style=\"text-align: right;\">\n",
       "      <th></th>\n",
       "      <th>american</th>\n",
       "      <th>australian</th>\n",
       "      <th>boxer</th>\n",
       "      <th>bull</th>\n",
       "      <th>bulldog</th>\n",
       "      <th>chihuahua</th>\n",
       "      <th>dachshund</th>\n",
       "      <th>dog</th>\n",
       "      <th>german</th>\n",
       "      <th>labrador</th>\n",
       "      <th>miniature</th>\n",
       "      <th>mix</th>\n",
       "      <th>mutt</th>\n",
       "      <th>pit</th>\n",
       "      <th>poodle</th>\n",
       "      <th>retriever</th>\n",
       "      <th>shepherd</th>\n",
       "      <th>staffordshire</th>\n",
       "      <th>terrier</th>\n",
       "      <th>unknown</th>\n",
       "    </tr>\n",
       "  </thead>\n",
       "  <tbody>\n",
       "    <tr>\n",
       "      <th>0</th>\n",
       "      <td>0</td>\n",
       "      <td>0</td>\n",
       "      <td>0</td>\n",
       "      <td>0</td>\n",
       "      <td>0</td>\n",
       "      <td>0</td>\n",
       "      <td>0</td>\n",
       "      <td>0</td>\n",
       "      <td>0</td>\n",
       "      <td>0</td>\n",
       "      <td>0</td>\n",
       "      <td>0</td>\n",
       "      <td>0</td>\n",
       "      <td>0</td>\n",
       "      <td>0</td>\n",
       "      <td>0</td>\n",
       "      <td>0</td>\n",
       "      <td>0</td>\n",
       "      <td>0</td>\n",
       "      <td>0</td>\n",
       "    </tr>\n",
       "  </tbody>\n",
       "</table>\n",
       "</div>"
      ],
      "text/plain": [
       "   american  australian  boxer  bull  bulldog  chihuahua  dachshund  dog  \\\n",
       "0         0           0      0     0        0          0          0    0   \n",
       "\n",
       "   german  labrador  miniature  mix  mutt  pit  poodle  retriever  shepherd  \\\n",
       "0       0         0          0    0     0    0       0          0         0   \n",
       "\n",
       "   staffordshire  terrier  unknown  \n",
       "0              0        0        0  "
      ]
     },
     "execution_count": 106,
     "metadata": {},
     "output_type": "execute_result"
    }
   ],
   "source": [
    "X1=pd.DataFrame([[0,0,0,0,0,0,0,0,0,0,0,0,0,0,0,0,0,0,0,0]],columns=L)\n",
    "X1"
   ]
  },
  {
   "cell_type": "code",
   "execution_count": 107,
   "metadata": {
    "collapsed": true
   },
   "outputs": [],
   "source": [
    "X1.pit=1\n",
    "X1.bull=1\n",
    "X1.american=1\n",
    "X1.terrier=1"
   ]
  },
  {
   "cell_type": "code",
   "execution_count": 108,
   "metadata": {
    "collapsed": false
   },
   "outputs": [
    {
     "name": "stdout",
     "output_type": "stream",
     "text": [
      "[1]\n",
      "[[ 0.45713552  0.54286448]]\n"
     ]
    }
   ],
   "source": [
    "print clf1.predict(X1)\n",
    "print(clf1.predict_proba(X1))"
   ]
  },
  {
   "cell_type": "code",
   "execution_count": 109,
   "metadata": {
    "collapsed": false
   },
   "outputs": [
    {
     "name": "stdout",
     "output_type": "stream",
     "text": [
      "[0]\n",
      "[[ 0.66833252  0.33166748]]\n"
     ]
    }
   ],
   "source": [
    "X1=pd.DataFrame([[0,0,0,0,0,0,0,0,0,0,0,0,0,0,0,0,0,0,0,0]],columns=L)\n",
    "X1.chihuahua=1\n",
    "print clf1.predict(X1)\n",
    "print(clf1.predict_proba(X1))"
   ]
  },
  {
   "cell_type": "code",
   "execution_count": 110,
   "metadata": {
    "collapsed": false
   },
   "outputs": [
    {
     "data": {
      "text/plain": [
       "count    5213.000000\n",
       "mean        0.238949\n",
       "std         0.100025\n",
       "min        -0.035556\n",
       "25%         0.172225\n",
       "50%         0.235185\n",
       "75%         0.302874\n",
       "max         0.510000\n",
       "Name: sentiment, dtype: float64"
      ]
     },
     "execution_count": 110,
     "metadata": {},
     "output_type": "execute_result"
    }
   ],
   "source": [
    "df.sentiment.describe()"
   ]
  },
  {
   "cell_type": "code",
   "execution_count": 111,
   "metadata": {
    "collapsed": false
   },
   "outputs": [
    {
     "ename": "AttributeError",
     "evalue": "'module' object has no attribute 'plot'",
     "output_type": "error",
     "traceback": [
      "\u001b[0;31m---------------------------------------------------------------------------\u001b[0m",
      "\u001b[0;31mAttributeError\u001b[0m                            Traceback (most recent call last)",
      "\u001b[0;32m<ipython-input-111-0ea5f15f2926>\u001b[0m in \u001b[0;36m<module>\u001b[0;34m()\u001b[0m\n\u001b[1;32m      1\u001b[0m \u001b[0;31m# mean .241, median .236\u001b[0m\u001b[0;34m\u001b[0m\u001b[0;34m\u001b[0m\u001b[0m\n\u001b[0;32m----> 2\u001b[0;31m \u001b[0mplt\u001b[0m\u001b[0;34m.\u001b[0m\u001b[0mplot\u001b[0m\u001b[0;34m(\u001b[0m\u001b[0mdf\u001b[0m\u001b[0;34m)\u001b[0m\u001b[0;34m\u001b[0m\u001b[0m\n\u001b[0m",
      "\u001b[0;31mAttributeError\u001b[0m: 'module' object has no attribute 'plot'"
     ]
    }
   ],
   "source": [
    "# mean .241, median .236\n",
    "plt.plot(df)"
   ]
  },
  {
   "cell_type": "code",
   "execution_count": null,
   "metadata": {
    "collapsed": true
   },
   "outputs": [],
   "source": [
    "import matplotlib.pyplot as pyp\n",
    "%matplotlib notebook\n"
   ]
  },
  {
   "cell_type": "code",
   "execution_count": null,
   "metadata": {
    "collapsed": false
   },
   "outputs": [],
   "source": [
    "df['sentiment'].plot(kind='box')"
   ]
  },
  {
   "cell_type": "code",
   "execution_count": null,
   "metadata": {
    "collapsed": false
   },
   "outputs": [],
   "source": [
    "#Step 2 Let's find IQR\n",
    "Q1 = df.sentiment.quantile(0.25)\n",
    "Q3 = df.sentiment.quantile(0.75)\n",
    "IQR = Q3 - Q1\n",
    "print(IQR)"
   ]
  },
  {
   "cell_type": "code",
   "execution_count": null,
   "metadata": {
    "collapsed": true
   },
   "outputs": [],
   "source": [
    "df.drop(df[df['sentiment'] > (Q3 + 1.5*IQR)].index, inplace = True)\n",
    "df.drop(df[df['sentiment'] < (Q1 - 1.5*IQR)].index, inplace = True)"
   ]
  },
  {
   "cell_type": "code",
   "execution_count": null,
   "metadata": {
    "collapsed": false
   },
   "outputs": [],
   "source": [
    "df.describe()"
   ]
  },
  {
   "cell_type": "code",
   "execution_count": null,
   "metadata": {
    "collapsed": true
   },
   "outputs": [],
   "source": []
  }
 ],
 "metadata": {
  "kernelspec": {
   "display_name": "Python 2",
   "language": "python",
   "name": "python2"
  },
  "language_info": {
   "codemirror_mode": {
    "name": "ipython",
    "version": 2
   },
   "file_extension": ".py",
   "mimetype": "text/x-python",
   "name": "python",
   "nbconvert_exporter": "python",
   "pygments_lexer": "ipython2",
   "version": "2.7.11"
  }
 },
 "nbformat": 4,
 "nbformat_minor": 0
}
